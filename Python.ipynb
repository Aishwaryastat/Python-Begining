{
 "cells": [
  {
   "cell_type": "code",
   "execution_count": 1,
   "id": "0c6d0c15",
   "metadata": {},
   "outputs": [],
   "source": [
    "a=\"I am Aishwarya Vitthal Raut.\""
   ]
  },
  {
   "cell_type": "code",
   "execution_count": 2,
   "id": "d42dd48c",
   "metadata": {},
   "outputs": [
    {
     "data": {
      "text/plain": [
       "'I am aishwarya vitthal raut.'"
      ]
     },
     "execution_count": 2,
     "metadata": {},
     "output_type": "execute_result"
    }
   ],
   "source": [
    "a.capitalize()"
   ]
  },
  {
   "cell_type": "code",
   "execution_count": 3,
   "id": "7f0a740c",
   "metadata": {},
   "outputs": [
    {
     "data": {
      "text/plain": [
       "'I AM AISHWARYA VITTHAL RAUT.'"
      ]
     },
     "execution_count": 3,
     "metadata": {},
     "output_type": "execute_result"
    }
   ],
   "source": [
    "a.upper()"
   ]
  },
  {
   "cell_type": "code",
   "execution_count": 4,
   "id": "c85c13b9",
   "metadata": {
    "scrolled": true
   },
   "outputs": [
    {
     "data": {
      "text/plain": [
       "'i am aishwarya vitthal raut.'"
      ]
     },
     "execution_count": 4,
     "metadata": {},
     "output_type": "execute_result"
    }
   ],
   "source": [
    "a.lower()"
   ]
  },
  {
   "cell_type": "code",
   "execution_count": 5,
   "id": "b2a68878",
   "metadata": {},
   "outputs": [
    {
     "data": {
      "text/plain": [
       "'I Am Aishwarya Vitthal Raut.'"
      ]
     },
     "execution_count": 5,
     "metadata": {},
     "output_type": "execute_result"
    }
   ],
   "source": [
    "a.title()"
   ]
  },
  {
   "cell_type": "code",
   "execution_count": 6,
   "id": "a9f27128",
   "metadata": {},
   "outputs": [
    {
     "data": {
      "text/plain": [
       "'i am aishwarya vitthal raut.'"
      ]
     },
     "execution_count": 6,
     "metadata": {},
     "output_type": "execute_result"
    }
   ],
   "source": [
    "a.casefold()"
   ]
  },
  {
   "cell_type": "code",
   "execution_count": 7,
   "id": "9e5cbb3d",
   "metadata": {},
   "outputs": [
    {
     "ename": "TypeError",
     "evalue": "center expected at least 1 argument, got 0",
     "output_type": "error",
     "traceback": [
      "\u001b[1;31m---------------------------------------------------------------------------\u001b[0m",
      "\u001b[1;31mTypeError\u001b[0m                                 Traceback (most recent call last)",
      "\u001b[1;32m~\\AppData\\Local\\Temp/ipykernel_5552/4132503987.py\u001b[0m in \u001b[0;36m<module>\u001b[1;34m\u001b[0m\n\u001b[1;32m----> 1\u001b[1;33m \u001b[0ma\u001b[0m\u001b[1;33m.\u001b[0m\u001b[0mcenter\u001b[0m\u001b[1;33m(\u001b[0m\u001b[1;33m)\u001b[0m\u001b[1;33m\u001b[0m\u001b[1;33m\u001b[0m\u001b[0m\n\u001b[0m",
      "\u001b[1;31mTypeError\u001b[0m: center expected at least 1 argument, got 0"
     ]
    }
   ],
   "source": [
    "a.center()"
   ]
  },
  {
   "cell_type": "code",
   "execution_count": 8,
   "id": "78577d00",
   "metadata": {},
   "outputs": [
    {
     "data": {
      "text/plain": [
       "'           I am Aishwarya Vitthal Raut.           '"
      ]
     },
     "execution_count": 8,
     "metadata": {},
     "output_type": "execute_result"
    }
   ],
   "source": [
    "a.center(50)"
   ]
  },
  {
   "cell_type": "code",
   "execution_count": 9,
   "id": "a456195b",
   "metadata": {},
   "outputs": [
    {
     "data": {
      "text/plain": [
       "'@@@@@@@@@@@I am Aishwarya Vitthal Raut.@@@@@@@@@@@'"
      ]
     },
     "execution_count": 9,
     "metadata": {},
     "output_type": "execute_result"
    }
   ],
   "source": [
    "a.center(50,\"@\")"
   ]
  },
  {
   "cell_type": "code",
   "execution_count": 10,
   "id": "f8939456",
   "metadata": {},
   "outputs": [
    {
     "data": {
      "text/plain": [
       "5"
      ]
     },
     "execution_count": 10,
     "metadata": {},
     "output_type": "execute_result"
    }
   ],
   "source": [
    "a.count(\"a\")"
   ]
  },
  {
   "cell_type": "code",
   "execution_count": 11,
   "id": "c385eb8b",
   "metadata": {},
   "outputs": [
    {
     "data": {
      "text/plain": [
       "1"
      ]
     },
     "execution_count": 11,
     "metadata": {},
     "output_type": "execute_result"
    }
   ],
   "source": [
    "a.count(\"r\")"
   ]
  },
  {
   "cell_type": "code",
   "execution_count": 12,
   "id": "a22eea02",
   "metadata": {},
   "outputs": [
    {
     "data": {
      "text/plain": [
       "True"
      ]
     },
     "execution_count": 12,
     "metadata": {},
     "output_type": "execute_result"
    }
   ],
   "source": [
    "a.endswith(\"aut.\")"
   ]
  },
  {
   "cell_type": "code",
   "execution_count": 13,
   "id": "414c5f14",
   "metadata": {},
   "outputs": [
    {
     "data": {
      "text/plain": [
       "False"
      ]
     },
     "execution_count": 13,
     "metadata": {},
     "output_type": "execute_result"
    }
   ],
   "source": [
    "a.endswith(\"xyz\")"
   ]
  },
  {
   "cell_type": "code",
   "execution_count": 14,
   "id": "1dc295db",
   "metadata": {},
   "outputs": [
    {
     "data": {
      "text/plain": [
       "True"
      ]
     },
     "execution_count": 14,
     "metadata": {},
     "output_type": "execute_result"
    }
   ],
   "source": [
    "a.startswith(\"I am\")"
   ]
  },
  {
   "cell_type": "code",
   "execution_count": 15,
   "id": "7c2ba25c",
   "metadata": {},
   "outputs": [
    {
     "data": {
      "text/plain": [
       "8"
      ]
     },
     "execution_count": 15,
     "metadata": {},
     "output_type": "execute_result"
    }
   ],
   "source": [
    "a.find(\"h\")"
   ]
  },
  {
   "cell_type": "code",
   "execution_count": 16,
   "id": "8208cdb4",
   "metadata": {},
   "outputs": [
    {
     "data": {
      "text/plain": [
       "2"
      ]
     },
     "execution_count": 16,
     "metadata": {},
     "output_type": "execute_result"
    }
   ],
   "source": [
    "a.find(\"a\")"
   ]
  },
  {
   "cell_type": "code",
   "execution_count": 17,
   "id": "b201af0d",
   "metadata": {},
   "outputs": [
    {
     "data": {
      "text/plain": [
       "5"
      ]
     },
     "execution_count": 17,
     "metadata": {},
     "output_type": "execute_result"
    }
   ],
   "source": [
    "a.find(\"Aishwarya\")"
   ]
  },
  {
   "cell_type": "code",
   "execution_count": 18,
   "id": "2aa2c731",
   "metadata": {},
   "outputs": [
    {
     "data": {
      "text/plain": [
       "-1"
      ]
     },
     "execution_count": 18,
     "metadata": {},
     "output_type": "execute_result"
    }
   ],
   "source": [
    "a.find(\"z\")"
   ]
  },
  {
   "cell_type": "code",
   "execution_count": 19,
   "id": "7196e11a",
   "metadata": {},
   "outputs": [
    {
     "data": {
      "text/plain": [
       "'I am Aishwarya Vitthal raut.'"
      ]
     },
     "execution_count": 19,
     "metadata": {},
     "output_type": "execute_result"
    }
   ],
   "source": [
    "a.replace(\"Raut\",\"raut\")"
   ]
  },
  {
   "cell_type": "code",
   "execution_count": 20,
   "id": "eb89316f",
   "metadata": {},
   "outputs": [
    {
     "data": {
      "text/plain": [
       "'I am Aishwarya Vitthal Raut.'"
      ]
     },
     "execution_count": 20,
     "metadata": {},
     "output_type": "execute_result"
    }
   ],
   "source": [
    "a.replace(\"raut\",\"Raut\")"
   ]
  },
  {
   "cell_type": "code",
   "execution_count": 21,
   "id": "0a99cfde",
   "metadata": {},
   "outputs": [
    {
     "data": {
      "text/plain": [
       "['I', 'am', 'Aishwarya', 'Vitthal', 'Raut.']"
      ]
     },
     "execution_count": 21,
     "metadata": {},
     "output_type": "execute_result"
    }
   ],
   "source": [
    "a.split()"
   ]
  },
  {
   "cell_type": "code",
   "execution_count": 22,
   "id": "48a8254e",
   "metadata": {},
   "outputs": [
    {
     "data": {
      "text/plain": [
       "list"
      ]
     },
     "execution_count": 22,
     "metadata": {},
     "output_type": "execute_result"
    }
   ],
   "source": [
    "type(a.split())"
   ]
  },
  {
   "cell_type": "code",
   "execution_count": 23,
   "id": "2dbc241d",
   "metadata": {},
   "outputs": [],
   "source": [
    "b=\"I am Aishwarya, I am from Phaltan, Phaltan is in a Satara.\""
   ]
  },
  {
   "cell_type": "code",
   "execution_count": 24,
   "id": "0fd9b800",
   "metadata": {},
   "outputs": [
    {
     "data": {
      "text/plain": [
       "['I',\n",
       " 'am',\n",
       " 'Aishwarya,',\n",
       " 'I',\n",
       " 'am',\n",
       " 'from',\n",
       " 'Phaltan,',\n",
       " 'Phaltan',\n",
       " 'is',\n",
       " 'in',\n",
       " 'a',\n",
       " 'Satara.']"
      ]
     },
     "execution_count": 24,
     "metadata": {},
     "output_type": "execute_result"
    }
   ],
   "source": [
    "b.split()"
   ]
  },
  {
   "cell_type": "code",
   "execution_count": 25,
   "id": "52499f61",
   "metadata": {},
   "outputs": [
    {
     "data": {
      "text/plain": [
       "'I_ _a_m_ _A_i_s_h_w_a_r_y_a_ _V_i_t_t_h_a_l_ _R_a_u_t_.'"
      ]
     },
     "execution_count": 25,
     "metadata": {},
     "output_type": "execute_result"
    }
   ],
   "source": [
    "\"_\".join(a)"
   ]
  },
  {
   "cell_type": "code",
   "execution_count": 26,
   "id": "22f09570",
   "metadata": {},
   "outputs": [
    {
     "data": {
      "text/plain": [
       "False"
      ]
     },
     "execution_count": 26,
     "metadata": {},
     "output_type": "execute_result"
    }
   ],
   "source": [
    "a.isdigit()"
   ]
  },
  {
   "cell_type": "code",
   "execution_count": 27,
   "id": "59865b03",
   "metadata": {},
   "outputs": [
    {
     "data": {
      "text/plain": [
       "'    Dept     of      stat     '"
      ]
     },
     "execution_count": 27,
     "metadata": {},
     "output_type": "execute_result"
    }
   ],
   "source": [
    "h=\"    Dept     of      stat     \"\n",
    "h"
   ]
  },
  {
   "cell_type": "code",
   "execution_count": 28,
   "id": "6df91d84",
   "metadata": {},
   "outputs": [
    {
     "data": {
      "text/plain": [
       "30"
      ]
     },
     "execution_count": 28,
     "metadata": {},
     "output_type": "execute_result"
    }
   ],
   "source": [
    "len(h)"
   ]
  },
  {
   "cell_type": "code",
   "execution_count": 29,
   "id": "9b0e86e0",
   "metadata": {},
   "outputs": [
    {
     "name": "stdout",
     "output_type": "stream",
     "text": [
      "    Dept     of      stat     \n"
     ]
    }
   ],
   "source": [
    "print(h)"
   ]
  },
  {
   "cell_type": "code",
   "execution_count": 30,
   "id": "6fb1315a",
   "metadata": {},
   "outputs": [
    {
     "name": "stdout",
     "output_type": "stream",
     "text": [
      "Dept     of      stat\n"
     ]
    }
   ],
   "source": [
    "print(h.strip())"
   ]
  },
  {
   "cell_type": "code",
   "execution_count": 31,
   "id": "22ea9acc",
   "metadata": {},
   "outputs": [
    {
     "name": "stdout",
     "output_type": "stream",
     "text": [
      "Dept     of      stat     \n"
     ]
    }
   ],
   "source": [
    "print(h.lstrip())"
   ]
  },
  {
   "cell_type": "code",
   "execution_count": 32,
   "id": "4fb1413d",
   "metadata": {},
   "outputs": [
    {
     "name": "stdout",
     "output_type": "stream",
     "text": [
      "    Dept     of      stat\n"
     ]
    }
   ],
   "source": [
    "print(h.rstrip())"
   ]
  },
  {
   "cell_type": "code",
   "execution_count": 33,
   "id": "922291d9",
   "metadata": {},
   "outputs": [],
   "source": [
    "g=h.strip()"
   ]
  },
  {
   "cell_type": "code",
   "execution_count": 34,
   "id": "7835b70f",
   "metadata": {},
   "outputs": [
    {
     "data": {
      "text/plain": [
       "21"
      ]
     },
     "execution_count": 34,
     "metadata": {},
     "output_type": "execute_result"
    }
   ],
   "source": [
    "len(g)"
   ]
  },
  {
   "cell_type": "code",
   "execution_count": 35,
   "id": "39c0226d",
   "metadata": {},
   "outputs": [],
   "source": [
    "i=\"Aishwarya Raut\""
   ]
  },
  {
   "cell_type": "code",
   "execution_count": 36,
   "id": "63ec8252",
   "metadata": {},
   "outputs": [
    {
     "data": {
      "text/plain": [
       "'Dept     of      stat Aishwarya Raut'"
      ]
     },
     "execution_count": 36,
     "metadata": {},
     "output_type": "execute_result"
    }
   ],
   "source": [
    "g+\" \"+i"
   ]
  },
  {
   "cell_type": "code",
   "execution_count": 37,
   "id": "bbee4bfd",
   "metadata": {},
   "outputs": [
    {
     "ename": "TypeError",
     "evalue": "can only concatenate str (not \"int\") to str",
     "output_type": "error",
     "traceback": [
      "\u001b[1;31m---------------------------------------------------------------------------\u001b[0m",
      "\u001b[1;31mTypeError\u001b[0m                                 Traceback (most recent call last)",
      "\u001b[1;32m~\\AppData\\Local\\Temp/ipykernel_5552/2847978154.py\u001b[0m in \u001b[0;36m<module>\u001b[1;34m\u001b[0m\n\u001b[1;32m----> 1\u001b[1;33m \u001b[0mg\u001b[0m\u001b[1;33m+\u001b[0m\u001b[1;34m\" \"\u001b[0m\u001b[1;33m+\u001b[0m\u001b[1;36m2\u001b[0m\u001b[1;33m+\u001b[0m\u001b[1;34m\" \"\u001b[0m\u001b[1;33m+\u001b[0m\u001b[0mi\u001b[0m\u001b[1;33m\u001b[0m\u001b[1;33m\u001b[0m\u001b[0m\n\u001b[0m",
      "\u001b[1;31mTypeError\u001b[0m: can only concatenate str (not \"int\") to str"
     ]
    }
   ],
   "source": [
    "g+\" \"+2+\" \"+i"
   ]
  },
  {
   "cell_type": "code",
   "execution_count": 38,
   "id": "d5fa2898",
   "metadata": {},
   "outputs": [
    {
     "data": {
      "text/plain": [
       "'Dept     of      stat 2 Aishwarya Raut'"
      ]
     },
     "execution_count": 38,
     "metadata": {},
     "output_type": "execute_result"
    }
   ],
   "source": [
    "g+\" \"+str(2)+\" \"+i"
   ]
  },
  {
   "cell_type": "code",
   "execution_count": 39,
   "id": "58dde6ae",
   "metadata": {},
   "outputs": [
    {
     "data": {
      "text/plain": [
       "False"
      ]
     },
     "execution_count": 39,
     "metadata": {},
     "output_type": "execute_result"
    }
   ],
   "source": [
    "i.isdigit()"
   ]
  },
  {
   "cell_type": "code",
   "execution_count": 40,
   "id": "51e27979",
   "metadata": {},
   "outputs": [
    {
     "data": {
      "text/plain": [
       "True"
      ]
     },
     "execution_count": 40,
     "metadata": {},
     "output_type": "execute_result"
    }
   ],
   "source": [
    "i.__contains__(\"a\")"
   ]
  },
  {
   "cell_type": "code",
   "execution_count": 41,
   "id": "2ed72259",
   "metadata": {},
   "outputs": [
    {
     "data": {
      "text/plain": [
       "True"
      ]
     },
     "execution_count": 41,
     "metadata": {},
     "output_type": "execute_result"
    }
   ],
   "source": [
    "i.__contains__(\"shwa\")"
   ]
  },
  {
   "cell_type": "code",
   "execution_count": 44,
   "id": "ec54cf9e",
   "metadata": {},
   "outputs": [
    {
     "name": "stdout",
     "output_type": "stream",
     "text": [
      "Please enter first input string\n",
      "52\n"
     ]
    }
   ],
   "source": [
    "input_str1=input(\"Please enter first input string\\n\")"
   ]
  },
  {
   "cell_type": "code",
   "execution_count": 43,
   "id": "ffa284ce",
   "metadata": {},
   "outputs": [
    {
     "name": "stdout",
     "output_type": "stream",
     "text": [
      "Please enter second string\n",
      "52\n"
     ]
    }
   ],
   "source": [
    "input_str2=input(\"Please enter second string\\n\")"
   ]
  },
  {
   "cell_type": "code",
   "execution_count": 45,
   "id": "56c96d91",
   "metadata": {},
   "outputs": [
    {
     "name": "stdout",
     "output_type": "stream",
     "text": [
      "My name is Aish\n"
     ]
    }
   ],
   "source": [
    "print(\"My name is {0}\".format(\"Aish\"))"
   ]
  },
  {
   "cell_type": "code",
   "execution_count": 46,
   "id": "cb0060fc",
   "metadata": {},
   "outputs": [
    {
     "name": "stdout",
     "output_type": "stream",
     "text": [
      "I like java and Python\n"
     ]
    }
   ],
   "source": [
    "print(\"I like {0} and {1}\".format(\"java\",\"Python\"))"
   ]
  },
  {
   "cell_type": "code",
   "execution_count": 47,
   "id": "b8a54de5",
   "metadata": {},
   "outputs": [
    {
     "name": "stdout",
     "output_type": "stream",
     "text": [
      "I like Python and java\n"
     ]
    }
   ],
   "source": [
    "print(\"I like {1} and {0}\".format(\"java\",\"Python\"))"
   ]
  },
  {
   "cell_type": "code",
   "execution_count": 48,
   "id": "34fe43cc",
   "metadata": {},
   "outputs": [
    {
     "name": "stdout",
     "output_type": "stream",
     "text": [
      "Aish is the ABC of TTT\n"
     ]
    }
   ],
   "source": [
    "print(\"{name} is the {job} of {company}\".format(name=\"Aish\",job=\"ABC\",company=\"TTT\"))"
   ]
  },
  {
   "cell_type": "markdown",
   "id": "0aa88201",
   "metadata": {},
   "source": [
    "List"
   ]
  },
  {
   "cell_type": "code",
   "execution_count": 49,
   "id": "8e10f4fc",
   "metadata": {},
   "outputs": [],
   "source": [
    "a=[\"Aishwarya\",7522952325,2020060669,\"Statistics\"]\n",
    "b=[\"Paltan\",415523,\"Satara\",\"Maharashtra\"]\n"
   ]
  },
  {
   "cell_type": "code",
   "execution_count": 50,
   "id": "ad3cd16a",
   "metadata": {},
   "outputs": [
    {
     "name": "stdout",
     "output_type": "stream",
     "text": [
      "['Aishwarya', 7522952325, 2020060669, 'Statistics']\n"
     ]
    },
    {
     "data": {
      "text/plain": [
       "['Paltan', 415523, 'Satara', 'Maharashtra']"
      ]
     },
     "execution_count": 50,
     "metadata": {},
     "output_type": "execute_result"
    }
   ],
   "source": [
    "print(a)\n",
    "b"
   ]
  },
  {
   "cell_type": "code",
   "execution_count": 51,
   "id": "a3f2d56d",
   "metadata": {},
   "outputs": [
    {
     "data": {
      "text/plain": [
       "list"
      ]
     },
     "execution_count": 51,
     "metadata": {},
     "output_type": "execute_result"
    }
   ],
   "source": [
    "type(a) and type(b)"
   ]
  },
  {
   "cell_type": "code",
   "execution_count": 52,
   "id": "347ef9d5",
   "metadata": {},
   "outputs": [
    {
     "data": {
      "text/plain": [
       "['Aishwarya',\n",
       " 7522952325,\n",
       " 2020060669,\n",
       " 'Statistics',\n",
       " 'Paltan',\n",
       " 415523,\n",
       " 'Satara',\n",
       " 'Maharashtra']"
      ]
     },
     "execution_count": 52,
     "metadata": {},
     "output_type": "execute_result"
    }
   ],
   "source": [
    "a+b"
   ]
  },
  {
   "cell_type": "code",
   "execution_count": 53,
   "id": "7aa7413e",
   "metadata": {},
   "outputs": [
    {
     "data": {
      "text/plain": [
       "['Aishwarya',\n",
       " 7522952325,\n",
       " 2020060669,\n",
       " 'Statistics',\n",
       " 'Aishwarya',\n",
       " 7522952325,\n",
       " 2020060669,\n",
       " 'Statistics',\n",
       " 'Aishwarya',\n",
       " 7522952325,\n",
       " 2020060669,\n",
       " 'Statistics']"
      ]
     },
     "execution_count": 53,
     "metadata": {},
     "output_type": "execute_result"
    }
   ],
   "source": [
    "a*3\n"
   ]
  },
  {
   "cell_type": "code",
   "execution_count": 54,
   "id": "6f3b2fa6",
   "metadata": {},
   "outputs": [
    {
     "data": {
      "text/plain": [
       "False"
      ]
     },
     "execution_count": 54,
     "metadata": {},
     "output_type": "execute_result"
    }
   ],
   "source": [
    "a is b"
   ]
  },
  {
   "cell_type": "code",
   "execution_count": 55,
   "id": "dff4480e",
   "metadata": {},
   "outputs": [
    {
     "data": {
      "text/plain": [
       "'Aishwarya'"
      ]
     },
     "execution_count": 55,
     "metadata": {},
     "output_type": "execute_result"
    }
   ],
   "source": [
    "a[0]"
   ]
  },
  {
   "cell_type": "code",
   "execution_count": 56,
   "id": "89ad50ef",
   "metadata": {},
   "outputs": [
    {
     "data": {
      "text/plain": [
       "'Statistics'"
      ]
     },
     "execution_count": 56,
     "metadata": {},
     "output_type": "execute_result"
    }
   ],
   "source": [
    "a[-1]"
   ]
  },
  {
   "cell_type": "code",
   "execution_count": 57,
   "id": "2c34a028",
   "metadata": {},
   "outputs": [
    {
     "data": {
      "text/plain": [
       "int"
      ]
     },
     "execution_count": 57,
     "metadata": {},
     "output_type": "execute_result"
    }
   ],
   "source": [
    "type(a[2])"
   ]
  },
  {
   "cell_type": "code",
   "execution_count": 58,
   "id": "891a6a99",
   "metadata": {},
   "outputs": [
    {
     "data": {
      "text/plain": [
       "['Aishwarya', 7522952325, 2020060669, 'Statistics']"
      ]
     },
     "execution_count": 58,
     "metadata": {},
     "output_type": "execute_result"
    }
   ],
   "source": [
    "a[:]"
   ]
  },
  {
   "cell_type": "code",
   "execution_count": 59,
   "id": "479f692f",
   "metadata": {},
   "outputs": [
    {
     "data": {
      "text/plain": [
       "[7522952325, 2020060669, 'Statistics']"
      ]
     },
     "execution_count": 59,
     "metadata": {},
     "output_type": "execute_result"
    }
   ],
   "source": [
    "a[1:]"
   ]
  },
  {
   "cell_type": "code",
   "execution_count": 60,
   "id": "543def47",
   "metadata": {},
   "outputs": [],
   "source": [
    "del a[0]"
   ]
  },
  {
   "cell_type": "code",
   "execution_count": 61,
   "id": "77b89646",
   "metadata": {},
   "outputs": [
    {
     "data": {
      "text/plain": [
       "[7522952325, 2020060669, 'Statistics']"
      ]
     },
     "execution_count": 61,
     "metadata": {},
     "output_type": "execute_result"
    }
   ],
   "source": [
    "a"
   ]
  },
  {
   "cell_type": "code",
   "execution_count": 62,
   "id": "a2455f26",
   "metadata": {},
   "outputs": [],
   "source": [
    "a.append(\"Aishwarya\")"
   ]
  },
  {
   "cell_type": "code",
   "execution_count": 63,
   "id": "e899f212",
   "metadata": {},
   "outputs": [
    {
     "data": {
      "text/plain": [
       "[7522952325, 2020060669, 'Statistics', 'Aishwarya']"
      ]
     },
     "execution_count": 63,
     "metadata": {},
     "output_type": "execute_result"
    }
   ],
   "source": [
    "a"
   ]
  },
  {
   "cell_type": "code",
   "execution_count": 64,
   "id": "b9c8248b",
   "metadata": {},
   "outputs": [],
   "source": [
    "x=a.copy()"
   ]
  },
  {
   "cell_type": "code",
   "execution_count": 65,
   "id": "9e9539c9",
   "metadata": {},
   "outputs": [
    {
     "data": {
      "text/plain": [
       "[7522952325, 2020060669, 'Statistics', 'Aishwarya']"
      ]
     },
     "execution_count": 65,
     "metadata": {},
     "output_type": "execute_result"
    }
   ],
   "source": [
    "x"
   ]
  },
  {
   "cell_type": "code",
   "execution_count": 66,
   "id": "ff08af00",
   "metadata": {},
   "outputs": [
    {
     "data": {
      "text/plain": [
       "[7522952325, 2020060669, 'Statistics', 'Aishwarya']"
      ]
     },
     "execution_count": 66,
     "metadata": {},
     "output_type": "execute_result"
    }
   ],
   "source": [
    "a"
   ]
  },
  {
   "cell_type": "code",
   "execution_count": 67,
   "id": "ddf23b38",
   "metadata": {},
   "outputs": [
    {
     "data": {
      "text/plain": [
       "1"
      ]
     },
     "execution_count": 67,
     "metadata": {},
     "output_type": "execute_result"
    }
   ],
   "source": [
    "a.count(\"Aishwarya\")"
   ]
  },
  {
   "cell_type": "code",
   "execution_count": 68,
   "id": "a73e61f7",
   "metadata": {},
   "outputs": [],
   "source": [
    "gen=[\"F\",\"M\",\"F\",\"M\",\"M\",\"M\",\"F\"]"
   ]
  },
  {
   "cell_type": "code",
   "execution_count": 69,
   "id": "9e9d903b",
   "metadata": {},
   "outputs": [
    {
     "data": {
      "text/plain": [
       "4"
      ]
     },
     "execution_count": 69,
     "metadata": {},
     "output_type": "execute_result"
    }
   ],
   "source": [
    "gen.count(\"M\")"
   ]
  },
  {
   "cell_type": "code",
   "execution_count": 70,
   "id": "46792680",
   "metadata": {},
   "outputs": [
    {
     "data": {
      "text/plain": [
       "3"
      ]
     },
     "execution_count": 70,
     "metadata": {},
     "output_type": "execute_result"
    }
   ],
   "source": [
    "gen.count(\"F\")"
   ]
  },
  {
   "cell_type": "code",
   "execution_count": 71,
   "id": "f9000c65",
   "metadata": {},
   "outputs": [
    {
     "name": "stdout",
     "output_type": "stream",
     "text": [
      "[7522952325, 2020060669, 'Statistics', 'Aishwarya', 'F', 'M', 'F', 'M', 'M', 'M', 'F']\n"
     ]
    }
   ],
   "source": [
    "a.extend(gen)\n",
    "print(a)"
   ]
  },
  {
   "cell_type": "code",
   "execution_count": 72,
   "id": "95238223",
   "metadata": {},
   "outputs": [
    {
     "data": {
      "text/plain": [
       "5"
      ]
     },
     "execution_count": 72,
     "metadata": {},
     "output_type": "execute_result"
    }
   ],
   "source": [
    "a.index(\"M\")"
   ]
  },
  {
   "cell_type": "code",
   "execution_count": 73,
   "id": "4cc8032f",
   "metadata": {},
   "outputs": [
    {
     "name": "stdout",
     "output_type": "stream",
     "text": [
      "[7522952325, 2020060669, 'Statistics', 'Aishwarya', 'F', 'M', 'F', 'M', 'M', 'M', 'F']\n"
     ]
    }
   ],
   "source": [
    "print(a)"
   ]
  },
  {
   "cell_type": "code",
   "execution_count": 74,
   "id": "11a8365c",
   "metadata": {},
   "outputs": [
    {
     "name": "stdout",
     "output_type": "stream",
     "text": [
      "[7522952325, 2020060669, 'Statistics', 'Aishwarya', 'F', 'Ass.prof', 'M', 'F', 'M', 'M', 'M', 'F']\n"
     ]
    }
   ],
   "source": [
    "a.insert(5,\"Ass.prof\")\n",
    "print(a)"
   ]
  },
  {
   "cell_type": "code",
   "execution_count": 75,
   "id": "1f3953e4",
   "metadata": {},
   "outputs": [
    {
     "name": "stdout",
     "output_type": "stream",
     "text": [
      "[7522952325, 2020060669, 'Statistics', 'Aishwarya', 'F', 'M', 'F', 'M', 'M', 'M', 'F']\n"
     ]
    }
   ],
   "source": [
    "a.pop(5)\n",
    "print(a)"
   ]
  },
  {
   "cell_type": "code",
   "execution_count": 76,
   "id": "e14de244",
   "metadata": {},
   "outputs": [
    {
     "data": {
      "text/plain": [
       "'F'"
      ]
     },
     "execution_count": 76,
     "metadata": {},
     "output_type": "execute_result"
    }
   ],
   "source": [
    "a.pop()"
   ]
  },
  {
   "cell_type": "code",
   "execution_count": 77,
   "id": "816a86af",
   "metadata": {},
   "outputs": [
    {
     "name": "stdout",
     "output_type": "stream",
     "text": [
      "[7522952325, 2020060669, 'Statistics', 'Aishwarya', 'F', 'M', 'F', 'M', 'M', 'M']\n"
     ]
    }
   ],
   "source": [
    "print(a)"
   ]
  },
  {
   "cell_type": "code",
   "execution_count": 78,
   "id": "add05bb0",
   "metadata": {},
   "outputs": [
    {
     "name": "stdout",
     "output_type": "stream",
     "text": [
      "[7522952325, 2020060669, 'Statistics', 'Aishwarya', 'F', 'F', 'M', 'M', 'M']\n"
     ]
    }
   ],
   "source": [
    "a.remove(\"M\")\n",
    "print(a)"
   ]
  },
  {
   "cell_type": "code",
   "execution_count": 79,
   "id": "b9bb841a",
   "metadata": {},
   "outputs": [
    {
     "name": "stdout",
     "output_type": "stream",
     "text": [
      "['M', 'M', 'M', 'F', 'F', 'Aishwarya', 'Statistics', 2020060669, 7522952325]\n"
     ]
    }
   ],
   "source": [
    "a.reverse()\n",
    "print(a)"
   ]
  },
  {
   "cell_type": "code",
   "execution_count": 80,
   "id": "5714ae21",
   "metadata": {},
   "outputs": [
    {
     "ename": "TypeError",
     "evalue": "'<' not supported between instances of 'int' and 'str'",
     "output_type": "error",
     "traceback": [
      "\u001b[1;31m---------------------------------------------------------------------------\u001b[0m",
      "\u001b[1;31mTypeError\u001b[0m                                 Traceback (most recent call last)",
      "\u001b[1;32m~\\AppData\\Local\\Temp/ipykernel_5552/2629139315.py\u001b[0m in \u001b[0;36m<module>\u001b[1;34m\u001b[0m\n\u001b[1;32m----> 1\u001b[1;33m \u001b[0ma\u001b[0m\u001b[1;33m.\u001b[0m\u001b[0msort\u001b[0m\u001b[1;33m(\u001b[0m\u001b[1;33m)\u001b[0m\u001b[1;33m\u001b[0m\u001b[1;33m\u001b[0m\u001b[0m\n\u001b[0m",
      "\u001b[1;31mTypeError\u001b[0m: '<' not supported between instances of 'int' and 'str'"
     ]
    }
   ],
   "source": [
    "a.sort()"
   ]
  },
  {
   "cell_type": "code",
   "execution_count": 81,
   "id": "39effeac",
   "metadata": {},
   "outputs": [],
   "source": [
    "c=[100,56,28,34,184]"
   ]
  },
  {
   "cell_type": "code",
   "execution_count": 82,
   "id": "1e68aac1",
   "metadata": {},
   "outputs": [
    {
     "name": "stdout",
     "output_type": "stream",
     "text": [
      "[28, 34, 56, 100, 184]\n"
     ]
    }
   ],
   "source": [
    "c.sort()\n",
    "print(c)"
   ]
  },
  {
   "cell_type": "code",
   "execution_count": 83,
   "id": "d4781e9c",
   "metadata": {},
   "outputs": [
    {
     "name": "stdout",
     "output_type": "stream",
     "text": [
      "[184, 100, 56, 34, 28]\n"
     ]
    }
   ],
   "source": [
    "c.sort(reverse=True)\n",
    "print(c)"
   ]
  },
  {
   "cell_type": "code",
   "execution_count": 84,
   "id": "6a9232a8",
   "metadata": {},
   "outputs": [
    {
     "data": {
      "text/plain": [
       "['BMW', 'Ford', 'Audi', 'Hyundyai']"
      ]
     },
     "execution_count": 84,
     "metadata": {},
     "output_type": "execute_result"
    }
   ],
   "source": [
    "def myfun(e):\n",
    "    return len(e)\n",
    "\n",
    "cars=['Ford','BMW','Audi',\"Hyundyai\"]\n",
    "#myfun(cars)\n",
    "cars.sort(key=myfun)\n",
    "cars"
   ]
  },
  {
   "cell_type": "code",
   "execution_count": 85,
   "id": "96cac41c",
   "metadata": {},
   "outputs": [
    {
     "name": "stdout",
     "output_type": "stream",
     "text": [
      "['Audi', 'BMW', 'Ford', 'Hyundyai']\n"
     ]
    }
   ],
   "source": [
    "cars.sort()\n",
    "print(cars)"
   ]
  },
  {
   "cell_type": "code",
   "execution_count": 86,
   "id": "656dd681",
   "metadata": {},
   "outputs": [
    {
     "name": "stdout",
     "output_type": "stream",
     "text": [
      "[]\n"
     ]
    }
   ],
   "source": [
    "cars.clear()\n",
    "print(cars)"
   ]
  },
  {
   "cell_type": "code",
   "execution_count": 87,
   "id": "f4325161",
   "metadata": {},
   "outputs": [
    {
     "data": {
      "text/plain": [
       "[10, 20, 30, 40, 50]"
      ]
     },
     "execution_count": 87,
     "metadata": {},
     "output_type": "execute_result"
    }
   ],
   "source": [
    "x=[10,20,30,40,50]\n",
    "x"
   ]
  },
  {
   "cell_type": "code",
   "execution_count": 88,
   "id": "330a11d2",
   "metadata": {},
   "outputs": [],
   "source": [
    "x[0]=99"
   ]
  },
  {
   "cell_type": "code",
   "execution_count": 89,
   "id": "7da2f1a9",
   "metadata": {},
   "outputs": [
    {
     "data": {
      "text/plain": [
       "[99, 20, 30, 40, 50]"
      ]
     },
     "execution_count": 89,
     "metadata": {},
     "output_type": "execute_result"
    }
   ],
   "source": [
    "x"
   ]
  },
  {
   "cell_type": "code",
   "execution_count": 90,
   "id": "de21a42b",
   "metadata": {},
   "outputs": [
    {
     "name": "stdout",
     "output_type": "stream",
     "text": [
      "[99, 20, 40, 50]\n"
     ]
    }
   ],
   "source": [
    "del x[2]\n",
    "print(x)"
   ]
  },
  {
   "cell_type": "markdown",
   "id": "61877bf8",
   "metadata": {},
   "source": [
    "# Tuple"
   ]
  },
  {
   "cell_type": "markdown",
   "id": "719fb31e",
   "metadata": {},
   "source": [
    "Tuples are enclosed with the parentheses. Tuple are immutable."
   ]
  },
  {
   "cell_type": "code",
   "execution_count": 91,
   "id": "e00e15fa",
   "metadata": {},
   "outputs": [],
   "source": [
    "a=(24,\"Aish\",\"Stat\",\"Satara\")\n",
    "b=(\"Phaltan\",415523,\"Maharashtra\")"
   ]
  },
  {
   "cell_type": "code",
   "execution_count": 92,
   "id": "92a48ceb",
   "metadata": {},
   "outputs": [
    {
     "data": {
      "text/plain": [
       "tuple"
      ]
     },
     "execution_count": 92,
     "metadata": {},
     "output_type": "execute_result"
    }
   ],
   "source": [
    "type(a) and type(b)"
   ]
  },
  {
   "cell_type": "code",
   "execution_count": 93,
   "id": "61393a6f",
   "metadata": {},
   "outputs": [
    {
     "data": {
      "text/plain": [
       "'Aish'"
      ]
     },
     "execution_count": 93,
     "metadata": {},
     "output_type": "execute_result"
    }
   ],
   "source": [
    "a[1]"
   ]
  },
  {
   "cell_type": "code",
   "execution_count": 94,
   "id": "c8801a99",
   "metadata": {},
   "outputs": [
    {
     "ename": "TypeError",
     "evalue": "'tuple' object does not support item assignment",
     "output_type": "error",
     "traceback": [
      "\u001b[1;31m---------------------------------------------------------------------------\u001b[0m",
      "\u001b[1;31mTypeError\u001b[0m                                 Traceback (most recent call last)",
      "\u001b[1;32m~\\AppData\\Local\\Temp/ipykernel_5552/2483798460.py\u001b[0m in \u001b[0;36m<module>\u001b[1;34m\u001b[0m\n\u001b[1;32m----> 1\u001b[1;33m \u001b[0ma\u001b[0m\u001b[1;33m[\u001b[0m\u001b[1;36m1\u001b[0m\u001b[1;33m]\u001b[0m\u001b[1;33m=\u001b[0m\u001b[1;34m\"Aishwarya\"\u001b[0m\u001b[1;33m\u001b[0m\u001b[1;33m\u001b[0m\u001b[0m\n\u001b[0m",
      "\u001b[1;31mTypeError\u001b[0m: 'tuple' object does not support item assignment"
     ]
    }
   ],
   "source": [
    "a[1]=\"Aishwarya\""
   ]
  },
  {
   "cell_type": "code",
   "execution_count": 95,
   "id": "e2df9860",
   "metadata": {},
   "outputs": [
    {
     "ename": "TypeError",
     "evalue": "'tuple' object doesn't support item deletion",
     "output_type": "error",
     "traceback": [
      "\u001b[1;31m---------------------------------------------------------------------------\u001b[0m",
      "\u001b[1;31mTypeError\u001b[0m                                 Traceback (most recent call last)",
      "\u001b[1;32m~\\AppData\\Local\\Temp/ipykernel_5552/1407119990.py\u001b[0m in \u001b[0;36m<module>\u001b[1;34m\u001b[0m\n\u001b[1;32m----> 1\u001b[1;33m \u001b[1;32mdel\u001b[0m \u001b[0ma\u001b[0m\u001b[1;33m[\u001b[0m\u001b[1;36m1\u001b[0m\u001b[1;33m]\u001b[0m\u001b[1;33m\u001b[0m\u001b[1;33m\u001b[0m\u001b[0m\n\u001b[0m",
      "\u001b[1;31mTypeError\u001b[0m: 'tuple' object doesn't support item deletion"
     ]
    }
   ],
   "source": [
    "del a[1]"
   ]
  },
  {
   "cell_type": "code",
   "execution_count": 96,
   "id": "7146116a",
   "metadata": {},
   "outputs": [
    {
     "data": {
      "text/plain": [
       "('Stat', 'Satara')"
      ]
     },
     "execution_count": 96,
     "metadata": {},
     "output_type": "execute_result"
    }
   ],
   "source": [
    "a[2:]"
   ]
  },
  {
   "cell_type": "code",
   "execution_count": 97,
   "id": "74b0e4d9",
   "metadata": {},
   "outputs": [
    {
     "data": {
      "text/plain": [
       "(24, 'Aish')"
      ]
     },
     "execution_count": 97,
     "metadata": {},
     "output_type": "execute_result"
    }
   ],
   "source": [
    "a[:2]"
   ]
  },
  {
   "cell_type": "code",
   "execution_count": 98,
   "id": "77f4bb2a",
   "metadata": {},
   "outputs": [
    {
     "data": {
      "text/plain": [
       "('Stat',)"
      ]
     },
     "execution_count": 98,
     "metadata": {},
     "output_type": "execute_result"
    }
   ],
   "source": [
    "a[2:3:1]"
   ]
  },
  {
   "cell_type": "code",
   "execution_count": 99,
   "id": "c0f2e989",
   "metadata": {},
   "outputs": [
    {
     "data": {
      "text/plain": [
       "(24, 'Aish', 'Stat', 'Satara')"
      ]
     },
     "execution_count": 99,
     "metadata": {},
     "output_type": "execute_result"
    }
   ],
   "source": [
    "a"
   ]
  },
  {
   "cell_type": "code",
   "execution_count": 100,
   "id": "a8b7f525",
   "metadata": {},
   "outputs": [],
   "source": [
    "(age,name,Subject,Dist)=a"
   ]
  },
  {
   "cell_type": "code",
   "execution_count": 101,
   "id": "508546e6",
   "metadata": {},
   "outputs": [
    {
     "data": {
      "text/plain": [
       "24"
      ]
     },
     "execution_count": 101,
     "metadata": {},
     "output_type": "execute_result"
    }
   ],
   "source": [
    "age"
   ]
  },
  {
   "cell_type": "code",
   "execution_count": 102,
   "id": "71a93cc8",
   "metadata": {},
   "outputs": [
    {
     "data": {
      "text/plain": [
       "'Aish'"
      ]
     },
     "execution_count": 102,
     "metadata": {},
     "output_type": "execute_result"
    }
   ],
   "source": [
    "name"
   ]
  },
  {
   "cell_type": "code",
   "execution_count": 103,
   "id": "04bc0a02",
   "metadata": {},
   "outputs": [
    {
     "data": {
      "text/plain": [
       "(24, 'Aish', 'Stat', 'Satara', 'Phaltan', 415523, 'Maharashtra')"
      ]
     },
     "execution_count": 103,
     "metadata": {},
     "output_type": "execute_result"
    }
   ],
   "source": [
    "a+b"
   ]
  },
  {
   "cell_type": "code",
   "execution_count": 104,
   "id": "e851f152",
   "metadata": {},
   "outputs": [
    {
     "data": {
      "text/plain": [
       "(24, 'Aish', 'Stat', 'Satara', 24, 'Aish', 'Stat', 'Satara')"
      ]
     },
     "execution_count": 104,
     "metadata": {},
     "output_type": "execute_result"
    }
   ],
   "source": [
    "a*2"
   ]
  },
  {
   "cell_type": "code",
   "execution_count": 105,
   "id": "12b17296",
   "metadata": {},
   "outputs": [
    {
     "data": {
      "text/plain": [
       "True"
      ]
     },
     "execution_count": 105,
     "metadata": {},
     "output_type": "execute_result"
    }
   ],
   "source": [
    "\"Aish\" in a"
   ]
  },
  {
   "cell_type": "code",
   "execution_count": 106,
   "id": "973e18a5",
   "metadata": {},
   "outputs": [
    {
     "data": {
      "text/plain": [
       "1"
      ]
     },
     "execution_count": 106,
     "metadata": {},
     "output_type": "execute_result"
    }
   ],
   "source": [
    "a.count(\"Aish\")"
   ]
  },
  {
   "cell_type": "code",
   "execution_count": 107,
   "id": "d95222d3",
   "metadata": {},
   "outputs": [
    {
     "data": {
      "text/plain": [
       "2"
      ]
     },
     "execution_count": 107,
     "metadata": {},
     "output_type": "execute_result"
    }
   ],
   "source": [
    "a.index(\"Stat\")"
   ]
  },
  {
   "cell_type": "markdown",
   "id": "ecc06164",
   "metadata": {},
   "source": [
    "# Dictionary"
   ]
  },
  {
   "cell_type": "markdown",
   "id": "8cf467a1",
   "metadata": {},
   "source": [
    "Dictionary are used store data values in key value pairs.\n",
    "Dictionaries have no concept of order among element. It is incorrect to say that the element are \"out of order\", they are simply unordered.\n",
    "Dictionaries are changeable."
   ]
  },
  {
   "cell_type": "code",
   "execution_count": 108,
   "id": "5dfcc0ba",
   "metadata": {},
   "outputs": [],
   "source": [
    "d={\"Aish\":85,\"Gouri\":70,\"Harsh\":90,\"Nayan\":75}"
   ]
  },
  {
   "cell_type": "code",
   "execution_count": 109,
   "id": "d66324ad",
   "metadata": {},
   "outputs": [
    {
     "name": "stdout",
     "output_type": "stream",
     "text": [
      "{'Aish': 85, 'Gouri': 70, 'Harsh': 90, 'Nayan': 75}\n"
     ]
    },
    {
     "data": {
      "text/plain": [
       "dict"
      ]
     },
     "execution_count": 109,
     "metadata": {},
     "output_type": "execute_result"
    }
   ],
   "source": [
    "print(d)\n",
    "type(d)"
   ]
  },
  {
   "cell_type": "code",
   "execution_count": 110,
   "id": "6ece5da5",
   "metadata": {},
   "outputs": [
    {
     "data": {
      "text/plain": [
       "85"
      ]
     },
     "execution_count": 110,
     "metadata": {},
     "output_type": "execute_result"
    }
   ],
   "source": [
    "d[\"Aish\"]"
   ]
  },
  {
   "cell_type": "code",
   "execution_count": 111,
   "id": "85248992",
   "metadata": {},
   "outputs": [
    {
     "data": {
      "text/plain": [
       "70"
      ]
     },
     "execution_count": 111,
     "metadata": {},
     "output_type": "execute_result"
    }
   ],
   "source": [
    "d[\"Gouri\"]"
   ]
  },
  {
   "cell_type": "code",
   "execution_count": 112,
   "id": "668875f3",
   "metadata": {},
   "outputs": [],
   "source": [
    "d[\"Aish\"]=99"
   ]
  },
  {
   "cell_type": "code",
   "execution_count": 113,
   "id": "50fe7a9b",
   "metadata": {},
   "outputs": [
    {
     "data": {
      "text/plain": [
       "{'Aish': 99, 'Gouri': 70, 'Harsh': 90, 'Nayan': 75}"
      ]
     },
     "execution_count": 113,
     "metadata": {},
     "output_type": "execute_result"
    }
   ],
   "source": [
    "d"
   ]
  },
  {
   "cell_type": "code",
   "execution_count": 114,
   "id": "5e65bc1c",
   "metadata": {},
   "outputs": [
    {
     "data": {
      "text/plain": [
       "True"
      ]
     },
     "execution_count": 114,
     "metadata": {},
     "output_type": "execute_result"
    }
   ],
   "source": [
    "d[\"Aish\"]==99"
   ]
  },
  {
   "cell_type": "code",
   "execution_count": 115,
   "id": "5dce994a",
   "metadata": {},
   "outputs": [
    {
     "data": {
      "text/plain": [
       "False"
      ]
     },
     "execution_count": 115,
     "metadata": {},
     "output_type": "execute_result"
    }
   ],
   "source": [
    "d[\"Aish\"]!=99"
   ]
  },
  {
   "cell_type": "code",
   "execution_count": 116,
   "id": "b7de55c0",
   "metadata": {},
   "outputs": [],
   "source": [
    "del d[\"Nayan\"]"
   ]
  },
  {
   "cell_type": "code",
   "execution_count": 117,
   "id": "6084b090",
   "metadata": {},
   "outputs": [
    {
     "data": {
      "text/plain": [
       "{'Aish': 99, 'Gouri': 70, 'Harsh': 90}"
      ]
     },
     "execution_count": 117,
     "metadata": {},
     "output_type": "execute_result"
    }
   ],
   "source": [
    "d"
   ]
  },
  {
   "cell_type": "code",
   "execution_count": 118,
   "id": "342b58ef",
   "metadata": {},
   "outputs": [
    {
     "data": {
      "text/plain": [
       "3"
      ]
     },
     "execution_count": 118,
     "metadata": {},
     "output_type": "execute_result"
    }
   ],
   "source": [
    "len(d)"
   ]
  },
  {
   "cell_type": "code",
   "execution_count": 119,
   "id": "6c22e387",
   "metadata": {},
   "outputs": [],
   "source": [
    "d={}\n"
   ]
  },
  {
   "cell_type": "code",
   "execution_count": 120,
   "id": "e4f491b5",
   "metadata": {},
   "outputs": [],
   "source": [
    "d[\"One\"]=\"This is one\"\n",
    "d[2]=\"This is two\""
   ]
  },
  {
   "cell_type": "code",
   "execution_count": 121,
   "id": "1c3709ad",
   "metadata": {},
   "outputs": [
    {
     "data": {
      "text/plain": [
       "{'One': 'This is one', 2: 'This is two'}"
      ]
     },
     "execution_count": 121,
     "metadata": {},
     "output_type": "execute_result"
    }
   ],
   "source": [
    "d"
   ]
  },
  {
   "cell_type": "code",
   "execution_count": 122,
   "id": "dfca006f",
   "metadata": {},
   "outputs": [
    {
     "name": "stdout",
     "output_type": "stream",
     "text": [
      "<class 'dict'>\n"
     ]
    }
   ],
   "source": [
    "print(type(d))"
   ]
  },
  {
   "cell_type": "code",
   "execution_count": 123,
   "id": "7fcc563a",
   "metadata": {},
   "outputs": [],
   "source": [
    "d[\"3\"]=\"three\""
   ]
  },
  {
   "cell_type": "code",
   "execution_count": 124,
   "id": "9d23e393",
   "metadata": {},
   "outputs": [
    {
     "data": {
      "text/plain": [
       "{'One': 'This is one', 2: 'This is two', '3': 'three'}"
      ]
     },
     "execution_count": 124,
     "metadata": {},
     "output_type": "execute_result"
    }
   ],
   "source": [
    "d"
   ]
  },
  {
   "cell_type": "code",
   "execution_count": 125,
   "id": "37543888",
   "metadata": {},
   "outputs": [
    {
     "data": {
      "text/plain": [
       "True"
      ]
     },
     "execution_count": 125,
     "metadata": {},
     "output_type": "execute_result"
    }
   ],
   "source": [
    "\"One\" in d"
   ]
  },
  {
   "cell_type": "code",
   "execution_count": 126,
   "id": "892b148d",
   "metadata": {},
   "outputs": [],
   "source": [
    "x=(\"1\",\"2\")"
   ]
  },
  {
   "cell_type": "code",
   "execution_count": 127,
   "id": "0483d739",
   "metadata": {},
   "outputs": [],
   "source": [
    "y=(\"one\",\"two\")"
   ]
  },
  {
   "cell_type": "code",
   "execution_count": 128,
   "id": "12c82954",
   "metadata": {},
   "outputs": [],
   "source": [
    "a=dict.fromkeys(x)"
   ]
  },
  {
   "cell_type": "code",
   "execution_count": 129,
   "id": "a1918685",
   "metadata": {},
   "outputs": [
    {
     "name": "stdout",
     "output_type": "stream",
     "text": [
      "{'1': None, '2': None}\n"
     ]
    }
   ],
   "source": [
    "print(a)"
   ]
  },
  {
   "cell_type": "code",
   "execution_count": 130,
   "id": "9aed10e7",
   "metadata": {},
   "outputs": [
    {
     "data": {
      "text/plain": [
       "{1: 0, 2: 0, 3: 0}"
      ]
     },
     "execution_count": 130,
     "metadata": {},
     "output_type": "execute_result"
    }
   ],
   "source": [
    "a=dict.fromkeys((1,2,3),0)\n",
    "a"
   ]
  },
  {
   "cell_type": "code",
   "execution_count": 131,
   "id": "34e84d91",
   "metadata": {},
   "outputs": [],
   "source": [
    "x=(\"key1\",\"key2\",\"key3\")"
   ]
  },
  {
   "cell_type": "code",
   "execution_count": 132,
   "id": "eb0af1db",
   "metadata": {},
   "outputs": [
    {
     "name": "stdout",
     "output_type": "stream",
     "text": [
      "{'key1': None, 'key2': None, 'key3': None}\n"
     ]
    }
   ],
   "source": [
    "thisdict=dict.fromkeys(x)\n",
    "print(thisdict)"
   ]
  },
  {
   "cell_type": "code",
   "execution_count": null,
   "id": "d75a1f51",
   "metadata": {},
   "outputs": [],
   "source": []
  },
  {
   "cell_type": "code",
   "execution_count": 133,
   "id": "01cce19a",
   "metadata": {},
   "outputs": [],
   "source": [
    "d={\"A\":123,\"B\":456,\"C\":789,\"D\":135}"
   ]
  },
  {
   "cell_type": "code",
   "execution_count": 134,
   "id": "e9e3818f",
   "metadata": {},
   "outputs": [
    {
     "data": {
      "text/plain": [
       "123"
      ]
     },
     "execution_count": 134,
     "metadata": {},
     "output_type": "execute_result"
    }
   ],
   "source": [
    "d.get(\"A\")"
   ]
  },
  {
   "cell_type": "code",
   "execution_count": 135,
   "id": "343fb515",
   "metadata": {},
   "outputs": [
    {
     "data": {
      "text/plain": [
       "999"
      ]
     },
     "execution_count": 135,
     "metadata": {},
     "output_type": "execute_result"
    }
   ],
   "source": [
    "d.get(\"E\",999)"
   ]
  },
  {
   "cell_type": "code",
   "execution_count": 136,
   "id": "32196666",
   "metadata": {},
   "outputs": [
    {
     "data": {
      "text/plain": [
       "{'A': 123, 'B': 456, 'C': 789, 'D': 135}"
      ]
     },
     "execution_count": 136,
     "metadata": {},
     "output_type": "execute_result"
    }
   ],
   "source": [
    "d"
   ]
  },
  {
   "cell_type": "code",
   "execution_count": 137,
   "id": "459e1565",
   "metadata": {},
   "outputs": [
    {
     "data": {
      "text/plain": [
       "dict_items([('A', 123), ('B', 456), ('C', 789), ('D', 135)])"
      ]
     },
     "execution_count": 137,
     "metadata": {},
     "output_type": "execute_result"
    }
   ],
   "source": [
    "d.items()"
   ]
  },
  {
   "cell_type": "code",
   "execution_count": 138,
   "id": "8f0dae01",
   "metadata": {},
   "outputs": [
    {
     "data": {
      "text/plain": [
       "dict_values([123, 456, 789, 135])"
      ]
     },
     "execution_count": 138,
     "metadata": {},
     "output_type": "execute_result"
    }
   ],
   "source": [
    "d.values()"
   ]
  },
  {
   "cell_type": "code",
   "execution_count": 139,
   "id": "1e621225",
   "metadata": {},
   "outputs": [
    {
     "data": {
      "text/plain": [
       "dict_keys(['A', 'B', 'C', 'D'])"
      ]
     },
     "execution_count": 139,
     "metadata": {},
     "output_type": "execute_result"
    }
   ],
   "source": [
    "d.keys()"
   ]
  },
  {
   "cell_type": "code",
   "execution_count": 140,
   "id": "04f04014",
   "metadata": {},
   "outputs": [],
   "source": [
    "d[\"XYZ\"]=9999"
   ]
  },
  {
   "cell_type": "code",
   "execution_count": 141,
   "id": "750f3df2",
   "metadata": {},
   "outputs": [
    {
     "data": {
      "text/plain": [
       "{'A': 123, 'B': 456, 'C': 789, 'D': 135, 'XYZ': 9999}"
      ]
     },
     "execution_count": 141,
     "metadata": {},
     "output_type": "execute_result"
    }
   ],
   "source": [
    "d"
   ]
  },
  {
   "cell_type": "code",
   "execution_count": 142,
   "id": "08aeef02",
   "metadata": {},
   "outputs": [
    {
     "name": "stdout",
     "output_type": "stream",
     "text": [
      "123\n"
     ]
    }
   ],
   "source": [
    "print(d.pop(\"A\"))"
   ]
  },
  {
   "cell_type": "code",
   "execution_count": 143,
   "id": "3423ed40",
   "metadata": {},
   "outputs": [
    {
     "data": {
      "text/plain": [
       "{'B': 456, 'C': 789, 'D': 135, 'XYZ': 9999}"
      ]
     },
     "execution_count": 143,
     "metadata": {},
     "output_type": "execute_result"
    }
   ],
   "source": [
    "d"
   ]
  },
  {
   "cell_type": "code",
   "execution_count": 144,
   "id": "dc8c5825",
   "metadata": {},
   "outputs": [
    {
     "name": "stdout",
     "output_type": "stream",
     "text": [
      "9999\n"
     ]
    }
   ],
   "source": [
    "print(d.pop(\"XYZ\"))"
   ]
  },
  {
   "cell_type": "code",
   "execution_count": 145,
   "id": "d5969cdb",
   "metadata": {},
   "outputs": [
    {
     "data": {
      "text/plain": [
       "{'B': 456, 'C': 789, 'D': 135}"
      ]
     },
     "execution_count": 145,
     "metadata": {},
     "output_type": "execute_result"
    }
   ],
   "source": [
    "d"
   ]
  },
  {
   "cell_type": "code",
   "execution_count": 146,
   "id": "07a5db00",
   "metadata": {},
   "outputs": [
    {
     "data": {
      "text/plain": [
       "('D', 135)"
      ]
     },
     "execution_count": 146,
     "metadata": {},
     "output_type": "execute_result"
    }
   ],
   "source": [
    "d.popitem()"
   ]
  },
  {
   "cell_type": "code",
   "execution_count": 147,
   "id": "e006eb0f",
   "metadata": {},
   "outputs": [
    {
     "data": {
      "text/plain": [
       "{'B': 456, 'C': 789}"
      ]
     },
     "execution_count": 147,
     "metadata": {},
     "output_type": "execute_result"
    }
   ],
   "source": [
    "d"
   ]
  },
  {
   "cell_type": "code",
   "execution_count": 148,
   "id": "d99ca3c5",
   "metadata": {},
   "outputs": [
    {
     "name": "stdout",
     "output_type": "stream",
     "text": [
      "77\n",
      "{'B': 456, 'C': 789, 'XYZ': 77}\n"
     ]
    }
   ],
   "source": [
    "print(d.setdefault(\"XYZ\",77))\n",
    "print(d)"
   ]
  },
  {
   "cell_type": "code",
   "execution_count": 149,
   "id": "7335ace0",
   "metadata": {},
   "outputs": [
    {
     "name": "stdout",
     "output_type": "stream",
     "text": [
      "{'B': 456, 'C': 789, 'XYZ': 77, 'AVR': 155}\n"
     ]
    }
   ],
   "source": [
    "d.update({\"AVR\":155})\n",
    "print(d)"
   ]
  },
  {
   "cell_type": "markdown",
   "id": "c126bab7",
   "metadata": {},
   "source": [
    "# set"
   ]
  },
  {
   "cell_type": "code",
   "execution_count": 150,
   "id": "d35250c5",
   "metadata": {},
   "outputs": [
    {
     "data": {
      "text/plain": [
       "{'A', 'D', 'M', 'd', 'f', 's'}"
      ]
     },
     "execution_count": 150,
     "metadata": {},
     "output_type": "execute_result"
    }
   ],
   "source": [
    "x={\"A\",\"D\",\"d\",\"s\",\"f\",\"M\"}\n",
    "x"
   ]
  },
  {
   "cell_type": "code",
   "execution_count": 151,
   "id": "d7a46d30",
   "metadata": {},
   "outputs": [
    {
     "data": {
      "text/plain": [
       "set"
      ]
     },
     "execution_count": 151,
     "metadata": {},
     "output_type": "execute_result"
    }
   ],
   "source": [
    "type(x)"
   ]
  },
  {
   "cell_type": "code",
   "execution_count": 152,
   "id": "64c12e78",
   "metadata": {},
   "outputs": [
    {
     "data": {
      "text/plain": [
       "set()"
      ]
     },
     "execution_count": 152,
     "metadata": {},
     "output_type": "execute_result"
    }
   ],
   "source": [
    "emptyset=set()\n",
    "emptyset"
   ]
  },
  {
   "cell_type": "code",
   "execution_count": 153,
   "id": "9604f7ff",
   "metadata": {},
   "outputs": [
    {
     "data": {
      "text/plain": [
       "{'A', 'D', 'M', 'd', 'f', 's'}"
      ]
     },
     "execution_count": 153,
     "metadata": {},
     "output_type": "execute_result"
    }
   ],
   "source": [
    "x\n"
   ]
  },
  {
   "cell_type": "code",
   "execution_count": 154,
   "id": "98d01682",
   "metadata": {},
   "outputs": [],
   "source": [
    "x.add(\"Y\")"
   ]
  },
  {
   "cell_type": "code",
   "execution_count": 155,
   "id": "53c7727e",
   "metadata": {},
   "outputs": [
    {
     "data": {
      "text/plain": [
       "{'A', 'D', 'M', 'Y', 'd', 'f', 's'}"
      ]
     },
     "execution_count": 155,
     "metadata": {},
     "output_type": "execute_result"
    }
   ],
   "source": [
    "x"
   ]
  },
  {
   "cell_type": "code",
   "execution_count": 156,
   "id": "2bdd298f",
   "metadata": {},
   "outputs": [],
   "source": [
    "x_asi={\"H\",\"Y\",\"M\"}"
   ]
  },
  {
   "cell_type": "code",
   "execution_count": 157,
   "id": "0c3f56cc",
   "metadata": {},
   "outputs": [
    {
     "name": "stdout",
     "output_type": "stream",
     "text": [
      "{'f', 'A', 'D', 's', 'd'}\n"
     ]
    }
   ],
   "source": [
    "print(x.difference(x_asi))"
   ]
  },
  {
   "cell_type": "code",
   "execution_count": 158,
   "id": "1ab20e9c",
   "metadata": {},
   "outputs": [
    {
     "name": "stdout",
     "output_type": "stream",
     "text": [
      "{'H'}\n"
     ]
    }
   ],
   "source": [
    "print(x_asi.difference(x))"
   ]
  },
  {
   "cell_type": "code",
   "execution_count": 159,
   "id": "cab19cf2",
   "metadata": {},
   "outputs": [
    {
     "name": "stdout",
     "output_type": "stream",
     "text": [
      "{'SBM', 'DNK', 'SDP', 'SVK', 'HVK'}\n"
     ]
    }
   ],
   "source": [
    "x={\"HVK\",\"DNK\",\"SBM\",\"SDP\",\"SVK\"}\n",
    "print(x)"
   ]
  },
  {
   "cell_type": "code",
   "execution_count": 160,
   "id": "b02657f4",
   "metadata": {},
   "outputs": [],
   "source": [
    "x_asi={\"SDP\",\"SVR\"}"
   ]
  },
  {
   "cell_type": "code",
   "execution_count": 161,
   "id": "88515a17",
   "metadata": {},
   "outputs": [
    {
     "name": "stdout",
     "output_type": "stream",
     "text": [
      "None\n"
     ]
    }
   ],
   "source": [
    "print(x.difference_update(x_asi))"
   ]
  },
  {
   "cell_type": "code",
   "execution_count": 162,
   "id": "c9d20d6d",
   "metadata": {},
   "outputs": [
    {
     "name": "stdout",
     "output_type": "stream",
     "text": [
      "None\n"
     ]
    }
   ],
   "source": [
    "print(x_asi.difference_update(x))"
   ]
  },
  {
   "cell_type": "code",
   "execution_count": 163,
   "id": "a205298a",
   "metadata": {},
   "outputs": [
    {
     "data": {
      "text/plain": [
       "{'DNK', 'HVK', 'SBM', 'SVK'}"
      ]
     },
     "execution_count": 163,
     "metadata": {},
     "output_type": "execute_result"
    }
   ],
   "source": [
    "x"
   ]
  },
  {
   "cell_type": "code",
   "execution_count": 164,
   "id": "ab8eafb3",
   "metadata": {},
   "outputs": [
    {
     "data": {
      "text/plain": [
       "{'SDP', 'SVR'}"
      ]
     },
     "execution_count": 164,
     "metadata": {},
     "output_type": "execute_result"
    }
   ],
   "source": [
    "x_asi"
   ]
  },
  {
   "cell_type": "code",
   "execution_count": 165,
   "id": "7bdd4f34",
   "metadata": {},
   "outputs": [
    {
     "name": "stdout",
     "output_type": "stream",
     "text": [
      "{'SBM', 'DNK', 'HVK'}\n"
     ]
    }
   ],
   "source": [
    "x.discard(\"SVK\")\n",
    "print(x)"
   ]
  },
  {
   "cell_type": "code",
   "execution_count": 166,
   "id": "693f5951",
   "metadata": {},
   "outputs": [
    {
     "data": {
      "text/plain": [
       "{'DNK', 'HVK', 'SBM'}"
      ]
     },
     "execution_count": 166,
     "metadata": {},
     "output_type": "execute_result"
    }
   ],
   "source": [
    "x.discard(\"PQR\")\n",
    "x"
   ]
  },
  {
   "cell_type": "code",
   "execution_count": 167,
   "id": "fc59af0d",
   "metadata": {},
   "outputs": [],
   "source": [
    "a={10,20,30,45,85,46}\n",
    "b={10,52,60,30,45,74}"
   ]
  },
  {
   "cell_type": "code",
   "execution_count": 168,
   "id": "0d856808",
   "metadata": {},
   "outputs": [
    {
     "name": "stdout",
     "output_type": "stream",
     "text": [
      "{10, 45, 30}\n",
      "{10, 45, 30}\n"
     ]
    }
   ],
   "source": [
    "print(a.intersection(b))\n",
    "print(b.intersection(a))"
   ]
  },
  {
   "cell_type": "code",
   "execution_count": 169,
   "id": "a2928d83",
   "metadata": {},
   "outputs": [
    {
     "name": "stdout",
     "output_type": "stream",
     "text": [
      "None\n",
      "{10, 45, 30}\n"
     ]
    }
   ],
   "source": [
    "print(a.intersection_update(b))\n",
    "print(a)"
   ]
  },
  {
   "cell_type": "code",
   "execution_count": 170,
   "id": "9caf4468",
   "metadata": {},
   "outputs": [
    {
     "name": "stdout",
     "output_type": "stream",
     "text": [
      "{52, 74, 10, 60, 45, 30}\n"
     ]
    }
   ],
   "source": [
    "print(b)"
   ]
  },
  {
   "cell_type": "code",
   "execution_count": 171,
   "id": "7584e81f",
   "metadata": {},
   "outputs": [
    {
     "name": "stdout",
     "output_type": "stream",
     "text": [
      "{10, 45, 30}\n"
     ]
    }
   ],
   "source": [
    "print(a)"
   ]
  },
  {
   "cell_type": "code",
   "execution_count": 172,
   "id": "351db75e",
   "metadata": {},
   "outputs": [],
   "source": [
    "x={\"a\",\"b\",\"c\"}\n",
    "y={\"c\",\"d\",\"e\"}\n",
    "f={\"a\",\"s\",\"c\"}"
   ]
  },
  {
   "cell_type": "code",
   "execution_count": 173,
   "id": "adb15ca5",
   "metadata": {},
   "outputs": [
    {
     "data": {
      "text/plain": [
       "{'c'}"
      ]
     },
     "execution_count": 173,
     "metadata": {},
     "output_type": "execute_result"
    }
   ],
   "source": [
    "x.intersection(y,f)"
   ]
  },
  {
   "cell_type": "code",
   "execution_count": 174,
   "id": "86a2b2e2",
   "metadata": {},
   "outputs": [
    {
     "data": {
      "text/plain": [
       "{'a', 'b', 'c', 'd', 'e'}"
      ]
     },
     "execution_count": 174,
     "metadata": {},
     "output_type": "execute_result"
    }
   ],
   "source": [
    "x.union(y)\n",
    "#print(x)\n",
    "#print(y)"
   ]
  },
  {
   "cell_type": "code",
   "execution_count": 175,
   "id": "b384f5f7",
   "metadata": {},
   "outputs": [
    {
     "data": {
      "text/plain": [
       "False"
      ]
     },
     "execution_count": 175,
     "metadata": {},
     "output_type": "execute_result"
    }
   ],
   "source": [
    "x.isdisjoint(y)"
   ]
  },
  {
   "cell_type": "code",
   "execution_count": 176,
   "id": "6dbfbd61",
   "metadata": {},
   "outputs": [
    {
     "data": {
      "text/plain": [
       "False"
      ]
     },
     "execution_count": 176,
     "metadata": {},
     "output_type": "execute_result"
    }
   ],
   "source": [
    "x.issubset(y)"
   ]
  },
  {
   "cell_type": "code",
   "execution_count": 177,
   "id": "290a1e02",
   "metadata": {},
   "outputs": [
    {
     "name": "stdout",
     "output_type": "stream",
     "text": [
      "{'c', 'a', 'b'}\n",
      "c\n",
      "{'a', 'b'}\n"
     ]
    }
   ],
   "source": [
    "print(x)\n",
    "print(x.pop())\n",
    "print(x)"
   ]
  },
  {
   "cell_type": "code",
   "execution_count": 178,
   "id": "238fcd90",
   "metadata": {},
   "outputs": [
    {
     "name": "stdout",
     "output_type": "stream",
     "text": [
      "{'c', 'd', 'e'}\n",
      "None\n",
      "{'c', 'd'}\n"
     ]
    }
   ],
   "source": [
    "print(y)\n",
    "print(y.remove(\"e\"))\n",
    "print(y)"
   ]
  },
  {
   "cell_type": "code",
   "execution_count": 179,
   "id": "9d0f6335",
   "metadata": {},
   "outputs": [],
   "source": [
    "x={\"H\",\"D\",\"S\",\"SD\",\"SV\"}\n",
    "xasi={\"SD\",\"SV\",\"K\"}"
   ]
  },
  {
   "cell_type": "code",
   "execution_count": 180,
   "id": "9f955bad",
   "metadata": {},
   "outputs": [
    {
     "name": "stdout",
     "output_type": "stream",
     "text": [
      "{'S', 'K', 'D', 'H'}\n"
     ]
    }
   ],
   "source": [
    "print(x.symmetric_difference(xasi))"
   ]
  },
  {
   "cell_type": "code",
   "execution_count": 181,
   "id": "458c6b4f",
   "metadata": {},
   "outputs": [],
   "source": [
    "x.update(xasi)"
   ]
  },
  {
   "cell_type": "code",
   "execution_count": 182,
   "id": "e48d5dfd",
   "metadata": {},
   "outputs": [
    {
     "name": "stdout",
     "output_type": "stream",
     "text": [
      "{'D', 'SD', 'H', 'S', 'SV', 'K'}\n"
     ]
    }
   ],
   "source": [
    "print(x)"
   ]
  },
  {
   "cell_type": "markdown",
   "id": "9ae9b27f",
   "metadata": {},
   "source": [
    "# data type conversion"
   ]
  },
  {
   "cell_type": "code",
   "execution_count": 183,
   "id": "af365c5e",
   "metadata": {},
   "outputs": [
    {
     "data": {
      "text/plain": [
       "2"
      ]
     },
     "execution_count": 183,
     "metadata": {},
     "output_type": "execute_result"
    }
   ],
   "source": [
    "a=2.6\n",
    "b=int(a)\n",
    "b"
   ]
  },
  {
   "cell_type": "code",
   "execution_count": 184,
   "id": "3502d797",
   "metadata": {},
   "outputs": [
    {
     "data": {
      "text/plain": [
       "2.0"
      ]
     },
     "execution_count": 184,
     "metadata": {},
     "output_type": "execute_result"
    }
   ],
   "source": [
    "float(b)"
   ]
  },
  {
   "cell_type": "code",
   "execution_count": 185,
   "id": "662723c4",
   "metadata": {},
   "outputs": [
    {
     "data": {
      "text/plain": [
       "'2'"
      ]
     },
     "execution_count": 185,
     "metadata": {},
     "output_type": "execute_result"
    }
   ],
   "source": [
    "str(b)"
   ]
  },
  {
   "cell_type": "code",
   "execution_count": 186,
   "id": "60e4bc76",
   "metadata": {},
   "outputs": [
    {
     "data": {
      "text/plain": [
       "(2.6+0j)"
      ]
     },
     "execution_count": 186,
     "metadata": {},
     "output_type": "execute_result"
    }
   ],
   "source": [
    "complex(a)"
   ]
  },
  {
   "cell_type": "code",
   "execution_count": 187,
   "id": "abf59cc7",
   "metadata": {},
   "outputs": [
    {
     "data": {
      "text/plain": [
       "2"
      ]
     },
     "execution_count": 187,
     "metadata": {},
     "output_type": "execute_result"
    }
   ],
   "source": [
    "eval(str(b))"
   ]
  },
  {
   "cell_type": "code",
   "execution_count": 188,
   "id": "af32d459",
   "metadata": {},
   "outputs": [
    {
     "data": {
      "text/plain": [
       "int"
      ]
     },
     "execution_count": 188,
     "metadata": {},
     "output_type": "execute_result"
    }
   ],
   "source": [
    "type(eval(str(b)))"
   ]
  },
  {
   "cell_type": "code",
   "execution_count": 189,
   "id": "ad257c6e",
   "metadata": {},
   "outputs": [
    {
     "data": {
      "text/plain": [
       "int"
      ]
     },
     "execution_count": 189,
     "metadata": {},
     "output_type": "execute_result"
    }
   ],
   "source": [
    "type(eval(\"1\"))"
   ]
  },
  {
   "cell_type": "code",
   "execution_count": 190,
   "id": "fb09962d",
   "metadata": {},
   "outputs": [
    {
     "data": {
      "text/plain": [
       "('A', 'i', 's', 'h')"
      ]
     },
     "execution_count": 190,
     "metadata": {},
     "output_type": "execute_result"
    }
   ],
   "source": [
    "a=\"Aish\"\n",
    "tuple(a)"
   ]
  },
  {
   "cell_type": "code",
   "execution_count": 191,
   "id": "4a53f1e3",
   "metadata": {},
   "outputs": [
    {
     "name": "stdout",
     "output_type": "stream",
     "text": [
      "<class 'list'>\n",
      "(1, 'Aish', 'F')\n"
     ]
    },
    {
     "data": {
      "text/plain": [
       "tuple"
      ]
     },
     "execution_count": 191,
     "metadata": {},
     "output_type": "execute_result"
    }
   ],
   "source": [
    "a=[1,\"Aish\",\"F\"]\n",
    "print(type(a))\n",
    "b=tuple(a)\n",
    "print(b)\n",
    "type(b)"
   ]
  },
  {
   "cell_type": "markdown",
   "id": "dc4c974b",
   "metadata": {},
   "source": [
    "# Python Built in functions"
   ]
  },
  {
   "cell_type": "code",
   "execution_count": 192,
   "id": "f24597a3",
   "metadata": {},
   "outputs": [
    {
     "data": {
      "text/plain": [
       "3.56"
      ]
     },
     "execution_count": 192,
     "metadata": {},
     "output_type": "execute_result"
    }
   ],
   "source": [
    "abs(-3.56)"
   ]
  },
  {
   "cell_type": "code",
   "execution_count": 193,
   "id": "2949239f",
   "metadata": {},
   "outputs": [
    {
     "data": {
      "text/plain": [
       "3.605551275463989"
      ]
     },
     "execution_count": 193,
     "metadata": {},
     "output_type": "execute_result"
    }
   ],
   "source": [
    "abs(3+2j)"
   ]
  },
  {
   "cell_type": "code",
   "execution_count": 194,
   "id": "73ec4b21",
   "metadata": {},
   "outputs": [
    {
     "ename": "TypeError",
     "evalue": "bad operand type for abs(): 'list'",
     "output_type": "error",
     "traceback": [
      "\u001b[1;31m---------------------------------------------------------------------------\u001b[0m",
      "\u001b[1;31mTypeError\u001b[0m                                 Traceback (most recent call last)",
      "\u001b[1;32m~\\AppData\\Local\\Temp/ipykernel_5552/2053470835.py\u001b[0m in \u001b[0;36m<module>\u001b[1;34m\u001b[0m\n\u001b[0;32m      1\u001b[0m \u001b[0mx\u001b[0m\u001b[1;33m=\u001b[0m\u001b[1;33m[\u001b[0m\u001b[1;33m-\u001b[0m\u001b[1;36m1\u001b[0m\u001b[1;33m]\u001b[0m\u001b[1;33m\u001b[0m\u001b[1;33m\u001b[0m\u001b[0m\n\u001b[1;32m----> 2\u001b[1;33m \u001b[0mabs\u001b[0m\u001b[1;33m(\u001b[0m\u001b[0mx\u001b[0m\u001b[1;33m)\u001b[0m\u001b[1;33m\u001b[0m\u001b[1;33m\u001b[0m\u001b[0m\n\u001b[0m",
      "\u001b[1;31mTypeError\u001b[0m: bad operand type for abs(): 'list'"
     ]
    }
   ],
   "source": [
    "x=[-1]\n",
    "abs(x)"
   ]
  },
  {
   "cell_type": "code",
   "execution_count": 195,
   "id": "4ef8472e",
   "metadata": {},
   "outputs": [
    {
     "ename": "TypeError",
     "evalue": "bad operand type for abs(): 'set'",
     "output_type": "error",
     "traceback": [
      "\u001b[1;31m---------------------------------------------------------------------------\u001b[0m",
      "\u001b[1;31mTypeError\u001b[0m                                 Traceback (most recent call last)",
      "\u001b[1;32m~\\AppData\\Local\\Temp/ipykernel_5552/2087963245.py\u001b[0m in \u001b[0;36m<module>\u001b[1;34m\u001b[0m\n\u001b[0;32m      1\u001b[0m \u001b[0mx\u001b[0m\u001b[1;33m=\u001b[0m\u001b[1;33m{\u001b[0m\u001b[1;33m-\u001b[0m\u001b[1;36m1\u001b[0m\u001b[1;33m}\u001b[0m\u001b[1;33m\u001b[0m\u001b[1;33m\u001b[0m\u001b[0m\n\u001b[1;32m----> 2\u001b[1;33m \u001b[0mabs\u001b[0m\u001b[1;33m(\u001b[0m\u001b[0mx\u001b[0m\u001b[1;33m)\u001b[0m\u001b[1;33m\u001b[0m\u001b[1;33m\u001b[0m\u001b[0m\n\u001b[0m",
      "\u001b[1;31mTypeError\u001b[0m: bad operand type for abs(): 'set'"
     ]
    }
   ],
   "source": [
    "x={-1}\n",
    "abs(x)"
   ]
  },
  {
   "cell_type": "code",
   "execution_count": 196,
   "id": "e8d7a8e7",
   "metadata": {},
   "outputs": [
    {
     "ename": "TypeError",
     "evalue": "bad operand type for abs(): 'tuple'",
     "output_type": "error",
     "traceback": [
      "\u001b[1;31m---------------------------------------------------------------------------\u001b[0m",
      "\u001b[1;31mTypeError\u001b[0m                                 Traceback (most recent call last)",
      "\u001b[1;32m~\\AppData\\Local\\Temp/ipykernel_5552/2246895354.py\u001b[0m in \u001b[0;36m<module>\u001b[1;34m\u001b[0m\n\u001b[0;32m      1\u001b[0m \u001b[0mx\u001b[0m\u001b[1;33m=\u001b[0m\u001b[1;33m(\u001b[0m\u001b[1;33m-\u001b[0m\u001b[1;36m1\u001b[0m\u001b[1;33m,\u001b[0m\u001b[1;33m-\u001b[0m\u001b[1;36m2\u001b[0m\u001b[1;33m)\u001b[0m\u001b[1;33m\u001b[0m\u001b[1;33m\u001b[0m\u001b[0m\n\u001b[1;32m----> 2\u001b[1;33m \u001b[0mabs\u001b[0m\u001b[1;33m(\u001b[0m\u001b[0mx\u001b[0m\u001b[1;33m)\u001b[0m\u001b[1;33m\u001b[0m\u001b[1;33m\u001b[0m\u001b[0m\n\u001b[0m",
      "\u001b[1;31mTypeError\u001b[0m: bad operand type for abs(): 'tuple'"
     ]
    }
   ],
   "source": [
    "x=(-1,-2)\n",
    "abs(x)"
   ]
  },
  {
   "cell_type": "code",
   "execution_count": 197,
   "id": "c1581efc",
   "metadata": {},
   "outputs": [
    {
     "name": "stdout",
     "output_type": "stream",
     "text": [
      "5\n",
      "6\n",
      "4\n",
      "3\n",
      "9\n"
     ]
    }
   ],
   "source": [
    "a=[1,2,3,45,8]\n",
    "b=(1,2,3,65,85,963)\n",
    "c={1,52,879,2364789}\n",
    "d={\"a\":25,\"c\":566,'d':65454}\n",
    "e=\"Aishwarya\"\n",
    "print(len(a))\n",
    "print(len(b))\n",
    "print(len(c))\n",
    "print(len(d))\n",
    "print(len(e))"
   ]
  },
  {
   "cell_type": "code",
   "execution_count": 198,
   "id": "8ca7145e",
   "metadata": {},
   "outputs": [
    {
     "name": "stdout",
     "output_type": "stream",
     "text": [
      "2\n",
      "2.57894\n"
     ]
    }
   ],
   "source": [
    "print(round(2.333))\n",
    "print(round(2.5789412,5))"
   ]
  },
  {
   "cell_type": "code",
   "execution_count": 199,
   "id": "39bb62e5",
   "metadata": {},
   "outputs": [
    {
     "ename": "TypeError",
     "evalue": "sum() takes at most 2 arguments (3 given)",
     "output_type": "error",
     "traceback": [
      "\u001b[1;31m---------------------------------------------------------------------------\u001b[0m",
      "\u001b[1;31mTypeError\u001b[0m                                 Traceback (most recent call last)",
      "\u001b[1;32m~\\AppData\\Local\\Temp/ipykernel_5552/205316295.py\u001b[0m in \u001b[0;36m<module>\u001b[1;34m\u001b[0m\n\u001b[1;32m----> 1\u001b[1;33m \u001b[0mprint\u001b[0m\u001b[1;33m(\u001b[0m\u001b[0msum\u001b[0m\u001b[1;33m(\u001b[0m\u001b[1;36m2\u001b[0m\u001b[1;33m,\u001b[0m\u001b[1;36m5\u001b[0m\u001b[1;33m,\u001b[0m\u001b[1;36m5\u001b[0m\u001b[1;33m)\u001b[0m\u001b[1;33m)\u001b[0m\u001b[1;33m\u001b[0m\u001b[1;33m\u001b[0m\u001b[0m\n\u001b[0m",
      "\u001b[1;31mTypeError\u001b[0m: sum() takes at most 2 arguments (3 given)"
     ]
    }
   ],
   "source": [
    "print(sum(2,5,5))"
   ]
  },
  {
   "cell_type": "code",
   "execution_count": 200,
   "id": "f8490f41",
   "metadata": {},
   "outputs": [
    {
     "name": "stdout",
     "output_type": "stream",
     "text": [
      "21\n",
      "21\n",
      "141\n"
     ]
    }
   ],
   "source": [
    "a=[2,8,5,6]\n",
    "b=(2,5,6,8)\n",
    "c={2,58,69,12}\n",
    "print(sum(a))\n",
    "print(sum(b))\n",
    "print(sum(c))"
   ]
  },
  {
   "cell_type": "code",
   "execution_count": 201,
   "id": "a2fc5b3b",
   "metadata": {},
   "outputs": [
    {
     "data": {
      "text/plain": [
       "range(0, 5)"
      ]
     },
     "execution_count": 201,
     "metadata": {},
     "output_type": "execute_result"
    }
   ],
   "source": [
    "range(5)"
   ]
  },
  {
   "cell_type": "code",
   "execution_count": 202,
   "id": "ed909c6e",
   "metadata": {},
   "outputs": [
    {
     "name": "stdout",
     "output_type": "stream",
     "text": [
      "range(0, 6)\n",
      "0\n",
      "1\n",
      "2\n",
      "3\n",
      "4\n",
      "5\n"
     ]
    }
   ],
   "source": [
    "x=range(6)\n",
    "print(x)\n",
    "for n in x:\n",
    "    print(n)"
   ]
  },
  {
   "cell_type": "code",
   "execution_count": 203,
   "id": "d5ccd2f0",
   "metadata": {},
   "outputs": [
    {
     "name": "stdout",
     "output_type": "stream",
     "text": [
      "0\n",
      "1\n",
      "4\n",
      "9\n",
      "16\n",
      "25\n",
      "End of the loop\n"
     ]
    }
   ],
   "source": [
    "for i in x:\n",
    "    i=i*i\n",
    "    print(i)\n",
    "print(\"End of the loop\")"
   ]
  },
  {
   "cell_type": "code",
   "execution_count": 204,
   "id": "cb0c551f",
   "metadata": {},
   "outputs": [
    {
     "name": "stdout",
     "output_type": "stream",
     "text": [
      "-5\n",
      "-4\n",
      "-3\n",
      "-2\n",
      "-1\n",
      "0\n",
      "1\n",
      "2\n",
      "3\n",
      "4\n",
      "5\n"
     ]
    }
   ],
   "source": [
    "x=range(-5,6)\n",
    "for i in x:\n",
    "    print(i)"
   ]
  },
  {
   "cell_type": "code",
   "execution_count": 205,
   "id": "4e09c870",
   "metadata": {},
   "outputs": [
    {
     "name": "stdout",
     "output_type": "stream",
     "text": [
      "0\n",
      "2\n",
      "4\n",
      "6\n",
      "8\n",
      "10\n",
      "12\n",
      "14\n"
     ]
    }
   ],
   "source": [
    "x=range(0,15,2)\n",
    "for i in x:\n",
    "    print(i)"
   ]
  },
  {
   "cell_type": "code",
   "execution_count": 206,
   "id": "3bc0319e",
   "metadata": {},
   "outputs": [
    {
     "name": "stdout",
     "output_type": "stream",
     "text": [
      "[1, 3, 4, 5, 10, 14, 20]\n",
      "['A', 'C', 'a']\n",
      "['a', 'C', 'A']\n"
     ]
    }
   ],
   "source": [
    "x=[10,20,3,14,4,1,5]\n",
    "y={\"a\",\"A\",\"C\"}\n",
    "print(sorted(x))\n",
    "print(sorted(y))\n",
    "print(sorted(y,reverse=True))"
   ]
  },
  {
   "cell_type": "code",
   "execution_count": 207,
   "id": "3f700a83",
   "metadata": {},
   "outputs": [
    {
     "name": "stdout",
     "output_type": "stream",
     "text": [
      "Enter a number 54\n"
     ]
    }
   ],
   "source": [
    "x=input(\"Enter a number \")"
   ]
  },
  {
   "cell_type": "code",
   "execution_count": 208,
   "id": "91f4c8f4",
   "metadata": {},
   "outputs": [
    {
     "data": {
      "text/plain": [
       "'54'"
      ]
     },
     "execution_count": 208,
     "metadata": {},
     "output_type": "execute_result"
    }
   ],
   "source": [
    "x"
   ]
  },
  {
   "cell_type": "code",
   "execution_count": 209,
   "id": "cfb8ec09",
   "metadata": {},
   "outputs": [
    {
     "name": "stdout",
     "output_type": "stream",
     "text": [
      "('a', 'b', 'c', 'd')\n",
      "('a', 'c', 'e')\n"
     ]
    }
   ],
   "source": [
    "a=(\"a\",\"b\",\"c\",\"d\",\"e\",\"f\")\n",
    "x=slice(0,4)\n",
    "print(a[x])\n",
    "y=slice(0,6,2)\n",
    "print(a[y])"
   ]
  },
  {
   "cell_type": "code",
   "execution_count": 210,
   "id": "1fcc9fc5",
   "metadata": {},
   "outputs": [
    {
     "data": {
      "text/plain": [
       "['__add__',\n",
       " '__class__',\n",
       " '__class_getitem__',\n",
       " '__contains__',\n",
       " '__delattr__',\n",
       " '__delitem__',\n",
       " '__dir__',\n",
       " '__doc__',\n",
       " '__eq__',\n",
       " '__format__',\n",
       " '__ge__',\n",
       " '__getattribute__',\n",
       " '__getitem__',\n",
       " '__gt__',\n",
       " '__hash__',\n",
       " '__iadd__',\n",
       " '__imul__',\n",
       " '__init__',\n",
       " '__init_subclass__',\n",
       " '__iter__',\n",
       " '__le__',\n",
       " '__len__',\n",
       " '__lt__',\n",
       " '__mul__',\n",
       " '__ne__',\n",
       " '__new__',\n",
       " '__reduce__',\n",
       " '__reduce_ex__',\n",
       " '__repr__',\n",
       " '__reversed__',\n",
       " '__rmul__',\n",
       " '__setattr__',\n",
       " '__setitem__',\n",
       " '__sizeof__',\n",
       " '__str__',\n",
       " '__subclasshook__',\n",
       " 'append',\n",
       " 'clear',\n",
       " 'copy',\n",
       " 'count',\n",
       " 'extend',\n",
       " 'index',\n",
       " 'insert',\n",
       " 'pop',\n",
       " 'remove',\n",
       " 'reverse',\n",
       " 'sort']"
      ]
     },
     "execution_count": 210,
     "metadata": {},
     "output_type": "execute_result"
    }
   ],
   "source": [
    "dir(list)"
   ]
  },
  {
   "cell_type": "code",
   "execution_count": 211,
   "id": "aed7afec",
   "metadata": {},
   "outputs": [
    {
     "name": "stdout",
     "output_type": "stream",
     "text": [
      "Help on built-in function sum in module builtins:\n",
      "\n",
      "sum(iterable, /, start=0)\n",
      "    Return the sum of a 'start' value (default: 0) plus an iterable of numbers\n",
      "    \n",
      "    When the iterable is empty, return the start value.\n",
      "    This function is intended specifically for use with numeric values and may\n",
      "    reject non-numeric types.\n",
      "\n"
     ]
    }
   ],
   "source": [
    "help(sum)"
   ]
  },
  {
   "cell_type": "markdown",
   "id": "2b5fd7d6",
   "metadata": {},
   "source": [
    "# Python flow control"
   ]
  },
  {
   "cell_type": "code",
   "execution_count": 212,
   "id": "4030372c",
   "metadata": {},
   "outputs": [
    {
     "name": "stdout",
     "output_type": "stream",
     "text": [
      "3 is even function\n",
      "This is always printed.\n"
     ]
    }
   ],
   "source": [
    "num=3\n",
    "if num>0:\n",
    "    print(num, \"is even function\")\n",
    "print(\"This is always printed.\")"
   ]
  },
  {
   "cell_type": "code",
   "execution_count": 213,
   "id": "abc99891",
   "metadata": {},
   "outputs": [
    {
     "name": "stdout",
     "output_type": "stream",
     "text": [
      "-9 is negative number\n"
     ]
    }
   ],
   "source": [
    "num=-9\n",
    "if num>=0:\n",
    "    print(num,\" is positive number or zero\")\n",
    "else:\n",
    "    print(num, \"is negative number\")"
   ]
  },
  {
   "cell_type": "code",
   "execution_count": 214,
   "id": "e193b8af",
   "metadata": {},
   "outputs": [
    {
     "name": "stdout",
     "output_type": "stream",
     "text": [
      "9 is odd number\n"
     ]
    }
   ],
   "source": [
    "x=9\n",
    "if x%2==0:\n",
    "    print(x, \"is even number\")\n",
    "else:\n",
    "    print(x, \"is odd number\")"
   ]
  },
  {
   "cell_type": "code",
   "execution_count": 215,
   "id": "d2753f9e",
   "metadata": {},
   "outputs": [
    {
     "name": "stdout",
     "output_type": "stream",
     "text": [
      "25 is positive number\n"
     ]
    }
   ],
   "source": [
    "num=25\n",
    "if num>0:\n",
    "    print(num, \"is positive number\")\n",
    "elif num==0:\n",
    "    print(num, \"is zero\")\n",
    "else:\n",
    "    print(num,\"is negative number\")"
   ]
  },
  {
   "cell_type": "markdown",
   "id": "bf97e7c7",
   "metadata": {},
   "source": [
    "# Python Nested if Statements"
   ]
  },
  {
   "cell_type": "code",
   "execution_count": 216,
   "id": "fa1072bb",
   "metadata": {},
   "outputs": [
    {
     "name": "stdout",
     "output_type": "stream",
     "text": [
      "Enter your number:85\n",
      "85.0 Positive number\n"
     ]
    }
   ],
   "source": [
    "num=float(input(\"Enter your number:\" ))\n",
    "if num>=0:\n",
    "    if  num==0:\n",
    "        print(num,\"zero\")\n",
    "    print(num,\"Positive number\")\n",
    "else:\n",
    "    print(num, \"Negative number\")"
   ]
  },
  {
   "cell_type": "code",
   "execution_count": 217,
   "id": "d6604b25",
   "metadata": {},
   "outputs": [
    {
     "name": "stdout",
     "output_type": "stream",
     "text": [
      "253\n"
     ]
    }
   ],
   "source": [
    "num=[1,54,45,75,78]\n",
    "sum=0\n",
    "for i in num:\n",
    "    sum=sum+i\n",
    "print(sum)"
   ]
  },
  {
   "cell_type": "code",
   "execution_count": 218,
   "id": "8c35bd45",
   "metadata": {},
   "outputs": [
    {
     "name": "stdout",
     "output_type": "stream",
     "text": [
      "12\n",
      "84\n",
      "78\n",
      "[12, 84, 78]\n"
     ]
    }
   ],
   "source": [
    "num=[12,15,45,85,84,87,78]\n",
    "val=[]\n",
    "for i in num:\n",
    "    if i%2==0:\n",
    "        print(i)\n",
    "        val.append(i)\n",
    "print(val)"
   ]
  },
  {
   "cell_type": "code",
   "execution_count": 219,
   "id": "b4df10bf",
   "metadata": {},
   "outputs": [
    {
     "data": {
      "text/plain": [
       "[10, 25, 30]"
      ]
     },
     "execution_count": 219,
     "metadata": {},
     "output_type": "execute_result"
    }
   ],
   "source": [
    "l=[20,25,30]\n",
    "a=0\n",
    "l[a]=10\n",
    "l"
   ]
  },
  {
   "cell_type": "code",
   "execution_count": 220,
   "id": "bc6a610e",
   "metadata": {},
   "outputs": [
    {
     "name": "stdout",
     "output_type": "stream",
     "text": [
      "-5 25 -4\n",
      "-4 16 -3\n",
      "-3 9 -2\n",
      "-2 4 -1\n",
      "-1 1 0\n",
      "0 0 1\n",
      "1 1 2\n",
      "2 4 3\n",
      "3 9 4\n",
      "4 16 5\n",
      "5 25 6\n",
      "6 36 7\n",
      "7 49 8\n",
      "8 64 9\n",
      "9 81 10\n"
     ]
    }
   ],
   "source": [
    "for i in range(-5,10):\n",
    "    print(i,i*i,i+1)"
   ]
  },
  {
   "cell_type": "markdown",
   "id": "f3aab36e",
   "metadata": {},
   "source": [
    "# for loop with else"
   ]
  },
  {
   "cell_type": "code",
   "execution_count": 221,
   "id": "605fffd1",
   "metadata": {},
   "outputs": [
    {
     "name": "stdout",
     "output_type": "stream",
     "text": [
      "1\n",
      "5\n",
      "9\n",
      "no item left\n"
     ]
    }
   ],
   "source": [
    "digit=[1,5,9]\n",
    "for i in digit:\n",
    "    print(i)\n",
    "else:\n",
    "    print('no item left')"
   ]
  },
  {
   "cell_type": "code",
   "execution_count": 222,
   "id": "516f513c",
   "metadata": {},
   "outputs": [
    {
     "name": "stdout",
     "output_type": "stream",
     "text": [
      "99\n"
     ]
    }
   ],
   "source": [
    "student_name=\"Jin\"\n",
    "marks={\"RM\":100,\"Suga\":100,\"Jin\":99,\"Jhope\":98}\n",
    "for i in marks:\n",
    "    if i==student_name:\n",
    "        print(marks[student_name])\n",
    "        break\n",
    "else:\n",
    "    print(\"No entry with that name found\")"
   ]
  },
  {
   "cell_type": "markdown",
   "id": "a42c97a0",
   "metadata": {},
   "source": [
    "# Nested Loops"
   ]
  },
  {
   "cell_type": "code",
   "execution_count": 223,
   "id": "0d5465b8",
   "metadata": {},
   "outputs": [
    {
     "name": "stdout",
     "output_type": "stream",
     "text": [
      "jin RM\n",
      "jin suga\n",
      "jin jhope\n",
      "jimin RM\n",
      "jimin suga\n",
      "jimin jhope\n",
      "v RM\n",
      "v suga\n",
      "v jhope\n",
      "JK RM\n",
      "JK suga\n",
      "JK jhope\n"
     ]
    }
   ],
   "source": [
    "vocal=[\"jin\",\"jimin\",\"v\",\"JK\"]\n",
    "rapper=[\"RM\",\"suga\",\"jhope\"]\n",
    "for i in vocal:\n",
    "    for j in rapper:\n",
    "        print(i,j)"
   ]
  },
  {
   "cell_type": "code",
   "execution_count": 224,
   "id": "bec47fc7",
   "metadata": {},
   "outputs": [
    {
     "name": "stdout",
     "output_type": "stream",
     "text": [
      "Enter n: 85\n",
      "3655\n"
     ]
    }
   ],
   "source": [
    "#program to add natural number upto sum=1+2+3+...+n\n",
    "#To take input from the user, n=int(input(\"Enter n: \"))\n",
    "n=int(input(\"Enter n: \"))\n",
    "#initalize sum and counter\n",
    "sum=0\n",
    "i=1\n",
    "while i<=n:\n",
    "    sum=sum+i\n",
    "    i=i+1\n",
    "print(sum)"
   ]
  },
  {
   "cell_type": "code",
   "execution_count": 225,
   "id": "f7cda5c8",
   "metadata": {},
   "outputs": [
    {
     "name": "stdout",
     "output_type": "stream",
     "text": [
      "15\n",
      "225\n"
     ]
    }
   ],
   "source": [
    "# sum of n natural number, then take square\n",
    "n=5\n",
    "sum=0\n",
    "i=1\n",
    "sq=0\n",
    "while i<=n:\n",
    "    sum=sum+i\n",
    "    sq=sum**2\n",
    "    i=i+1\n",
    "print(sum)\n",
    "print(sq)"
   ]
  },
  {
   "cell_type": "code",
   "execution_count": 226,
   "id": "a4e103f9",
   "metadata": {},
   "outputs": [
    {
     "name": "stdout",
     "output_type": "stream",
     "text": [
      "Inside loop\n"
     ]
    }
   ],
   "source": [
    "counter=6\n",
    "while counter <7:\n",
    "    print(\"Inside loop\")\n",
    "    counter=counter+1\n",
    "    break\n",
    "else:\n",
    "    print(\"Inside else\")"
   ]
  },
  {
   "cell_type": "markdown",
   "id": "a1bde724",
   "metadata": {},
   "source": [
    "# Break statement in Python"
   ]
  },
  {
   "cell_type": "code",
   "execution_count": 227,
   "id": "a6b0f81f",
   "metadata": {},
   "outputs": [
    {
     "name": "stdout",
     "output_type": "stream",
     "text": [
      "A\n",
      "i\n",
      "s\n",
      "h\n",
      "w\n",
      "a\n",
      "r\n",
      "The End\n"
     ]
    }
   ],
   "source": [
    "for i in \"Aishwarya\":\n",
    "    if i==\"y\":\n",
    "        break\n",
    "    print(i)\n",
    "print(\"The End\")"
   ]
  },
  {
   "cell_type": "markdown",
   "id": "f75067fb",
   "metadata": {},
   "source": [
    "# Continue statement"
   ]
  },
  {
   "cell_type": "code",
   "execution_count": 228,
   "id": "529e9575",
   "metadata": {},
   "outputs": [
    {
     "name": "stdout",
     "output_type": "stream",
     "text": [
      "A\n",
      "i\n",
      "s\n",
      "h\n",
      "w\n",
      "a\n",
      "r\n",
      "a\n",
      "The end\n"
     ]
    }
   ],
   "source": [
    "for i in \"Aishwarya\":\n",
    "    if i==\"y\":\n",
    "        continue\n",
    "    print(i)\n",
    "print(\"The end\")"
   ]
  },
  {
   "cell_type": "markdown",
   "id": "e067b2e6",
   "metadata": {},
   "source": [
    "# Loop using list comprehension"
   ]
  },
  {
   "cell_type": "code",
   "execution_count": 229,
   "id": "0d700728",
   "metadata": {},
   "outputs": [
    {
     "name": "stdout",
     "output_type": "stream",
     "text": [
      "['jin', 'jhope', 'jimin', 'jk']\n"
     ]
    }
   ],
   "source": [
    "bts=[\"rm\",\"jin\",\"suga\",\"jhope\",\"jimin\",\"v\",\"jk\"]\n",
    "new=[x for x in bts if \"j\" in x]\n",
    "print(new)"
   ]
  },
  {
   "cell_type": "code",
   "execution_count": 230,
   "id": "43371cf4",
   "metadata": {},
   "outputs": [
    {
     "name": "stdout",
     "output_type": "stream",
     "text": [
      "[0, 1, 2, 3, 4, 5, 6, 7, 8, 9]\n"
     ]
    }
   ],
   "source": [
    "new=[x for x in range(0,10)]\n",
    "print(new)"
   ]
  },
  {
   "cell_type": "code",
   "execution_count": 231,
   "id": "9f0c5a9d",
   "metadata": {},
   "outputs": [
    {
     "name": "stdout",
     "output_type": "stream",
     "text": [
      "[0, 1, 2, 3, 4]\n"
     ]
    }
   ],
   "source": [
    "new=[i for i in range(0,10) if i<5]\n",
    "print(new)"
   ]
  },
  {
   "cell_type": "code",
   "execution_count": 232,
   "id": "09a0f530",
   "metadata": {},
   "outputs": [
    {
     "name": "stdout",
     "output_type": "stream",
     "text": [
      "['RM', 'JIN', 'SUGA', 'JHOPE', 'JIMIN', 'V', 'JK']\n"
     ]
    }
   ],
   "source": [
    "bts=[\"rm\",\"jin\",\"suga\",\"jhope\",\"jimin\",\"v\",\"jk\"]\n",
    "new=[x.upper() for x in bts]\n",
    "print(new)"
   ]
  },
  {
   "cell_type": "code",
   "execution_count": 233,
   "id": "2c3f69a2",
   "metadata": {},
   "outputs": [
    {
     "name": "stdout",
     "output_type": "stream",
     "text": [
      "['namjoon', 'jin', 'suga', 'jhope', 'jimin', 'v', 'jk']\n"
     ]
    }
   ],
   "source": [
    "bts=[\"rm\",\"jin\",\"suga\",\"jhope\",\"jimin\",\"v\",\"jk\"]\n",
    "new=[x if x!=\"rm\" else \"namjoon\"for x in bts]\n",
    "print(new)"
   ]
  },
  {
   "cell_type": "markdown",
   "id": "fab13a3a",
   "metadata": {},
   "source": [
    "# loop th' dictionary"
   ]
  },
  {
   "cell_type": "code",
   "execution_count": 234,
   "id": "b123873f",
   "metadata": {},
   "outputs": [
    {
     "name": "stdout",
     "output_type": "stream",
     "text": [
      "rm\n",
      "jin\n",
      "suga\n",
      "jhope\n",
      "jimin\n",
      "v\n",
      "jk\n"
     ]
    }
   ],
   "source": [
    "bts={\"rm\":'leader',\"jin\":'visual',\"suga\":\"producer\",\"jhope\":\"main dancer\",\"jimin\":\"dancer+vocal\",\"v\":\"visual+main vocal\",\"jk\":\"main dancer+ visidual+main vocal\"}\n",
    "for i in bts:\n",
    "    print(i)\n"
   ]
  },
  {
   "cell_type": "code",
   "execution_count": 235,
   "id": "aa74a5b2",
   "metadata": {},
   "outputs": [
    {
     "name": "stdout",
     "output_type": "stream",
     "text": [
      "leader\n",
      "visual\n",
      "producer\n",
      "main dancer\n",
      "dancer+vocal\n",
      "visual+main vocal\n",
      "main dancer+ visidual+main vocal\n"
     ]
    }
   ],
   "source": [
    "bts={\"rm\":'leader',\"jin\":'visual',\"suga\":\"producer\",\"jhope\":\"main dancer\",\"jimin\":\"dancer+vocal\",\"v\":\"visual+main vocal\",\"jk\":\"main dancer+ visidual+main vocal\"}\n",
    "for i in bts:\n",
    "    print(bts[i])"
   ]
  },
  {
   "cell_type": "code",
   "execution_count": 236,
   "id": "f8a87ba1",
   "metadata": {},
   "outputs": [
    {
     "name": "stdout",
     "output_type": "stream",
     "text": [
      "leader\n",
      "visual\n",
      "producer\n",
      "main dancer\n",
      "dancer+vocal\n",
      "visual+main vocal\n",
      "main dancer+ visidual+main vocal\n"
     ]
    }
   ],
   "source": [
    "for i in bts.values():\n",
    "    print(i)"
   ]
  },
  {
   "cell_type": "code",
   "execution_count": 237,
   "id": "3f8d7591",
   "metadata": {},
   "outputs": [
    {
     "name": "stdout",
     "output_type": "stream",
     "text": [
      "rm leader\n",
      "jin visual\n",
      "suga producer\n",
      "jhope main dancer\n",
      "jimin dancer+vocal\n",
      "v visual+main vocal\n",
      "jk main dancer+ visidual+main vocal\n"
     ]
    }
   ],
   "source": [
    "for i,j in bts.items():\n",
    "    print(i,j)"
   ]
  },
  {
   "cell_type": "code",
   "execution_count": 238,
   "id": "a1e38696",
   "metadata": {},
   "outputs": [
    {
     "name": "stdout",
     "output_type": "stream",
     "text": [
      "suga\n",
      "v\n",
      "jimin\n",
      "rm\n",
      "jhope\n",
      "jk\n",
      "jin\n"
     ]
    }
   ],
   "source": [
    "# loop th' set\n",
    "# in set loop arrange strings alphabetically.\n",
    "bts={\"rm\",\"jin\",\"suga\",\"jhope\",\"jimin\",\"v\",\"jk\"}\n",
    "for i in bts:\n",
    "    print(i)"
   ]
  },
  {
   "cell_type": "markdown",
   "id": "8b41d283",
   "metadata": {},
   "source": [
    "# python functions"
   ]
  },
  {
   "cell_type": "code",
   "execution_count": 239,
   "id": "bb81c9f3",
   "metadata": {},
   "outputs": [
    {
     "data": {
      "text/plain": [
       "24"
      ]
     },
     "execution_count": 239,
     "metadata": {},
     "output_type": "execute_result"
    }
   ],
   "source": [
    "# factorial self define function\n",
    "def fact(n):\n",
    "    f=1\n",
    "    for i in range(1,n+1):\n",
    "        f=f*i\n",
    "    return(f)\n",
    "fact(4)"
   ]
  },
  {
   "cell_type": "code",
   "execution_count": 240,
   "id": "01484a42",
   "metadata": {},
   "outputs": [
    {
     "data": {
      "text/plain": [
       "1307674368000"
      ]
     },
     "execution_count": 240,
     "metadata": {},
     "output_type": "execute_result"
    }
   ],
   "source": [
    "fact(15)"
   ]
  },
  {
   "cell_type": "code",
   "execution_count": 248,
   "id": "1fc138af",
   "metadata": {},
   "outputs": [],
   "source": [
    "def nck(n,k):\n",
    "    return(fact(n)/(fact(k)*fact(n-k)))"
   ]
  },
  {
   "cell_type": "code",
   "execution_count": 249,
   "id": "1eeb7d8a",
   "metadata": {},
   "outputs": [
    {
     "data": {
      "text/plain": [
       "3.0"
      ]
     },
     "execution_count": 249,
     "metadata": {},
     "output_type": "execute_result"
    }
   ],
   "source": [
    "nck(3,2)"
   ]
  },
  {
   "cell_type": "code",
   "execution_count": 250,
   "id": "150a01c0",
   "metadata": {},
   "outputs": [],
   "source": [
    "# self define function for mean\n",
    "def mean(x):\n",
    "    n=len(x)\n",
    "    s=0\n",
    "    for i in range(n):\n",
    "        s=s+x[i]\n",
    "    return(s/n)"
   ]
  },
  {
   "cell_type": "code",
   "execution_count": 255,
   "id": "af9ddc3e",
   "metadata": {},
   "outputs": [
    {
     "name": "stdout",
     "output_type": "stream",
     "text": [
      "1889.5\n"
     ]
    },
    {
     "data": {
      "text/plain": [
       "40667961.0"
      ]
     },
     "execution_count": 255,
     "metadata": {},
     "output_type": "execute_result"
    }
   ],
   "source": [
    "x=[1,56,89,7412]\n",
    "print(mean(x))\n",
    "var(x)"
   ]
  },
  {
   "cell_type": "code",
   "execution_count": 256,
   "id": "ca50f918",
   "metadata": {},
   "outputs": [],
   "source": [
    "# self def function for variance\n",
    "def var(x):\n",
    "    n=len(x)\n",
    "    s=0\n",
    "    xm=mean(x)\n",
    "    for i in range(n):\n",
    "        s=s+(x[i]-xm)**2\n",
    "    return(s)"
   ]
  },
  {
   "cell_type": "code",
   "execution_count": 257,
   "id": "eddadbec",
   "metadata": {},
   "outputs": [
    {
     "data": {
      "text/plain": [
       "3"
      ]
     },
     "execution_count": 257,
     "metadata": {},
     "output_type": "execute_result"
    }
   ],
   "source": [
    "#self def function for maximum value\n",
    "def maximum(a,b):\n",
    "    if a>=b:\n",
    "        return(a)\n",
    "    else:\n",
    "        return(b)\n",
    "    \n",
    "maximum(2,3)"
   ]
  },
  {
   "cell_type": "code",
   "execution_count": 258,
   "id": "583c8f89",
   "metadata": {},
   "outputs": [
    {
     "data": {
      "text/plain": [
       "2"
      ]
     },
     "execution_count": 258,
     "metadata": {},
     "output_type": "execute_result"
    }
   ],
   "source": [
    "#self def function for minimum value\n",
    "def minimum(a,b):\n",
    "    if a>=b:\n",
    "        return(b)\n",
    "    else:\n",
    "        return(a)\n",
    "\n",
    "minimum(2,3)"
   ]
  },
  {
   "cell_type": "code",
   "execution_count": 260,
   "id": "6b0b927b",
   "metadata": {},
   "outputs": [
    {
     "data": {
      "text/plain": [
       "['__doc__',\n",
       " '__loader__',\n",
       " '__name__',\n",
       " '__package__',\n",
       " '__spec__',\n",
       " 'acos',\n",
       " 'acosh',\n",
       " 'asin',\n",
       " 'asinh',\n",
       " 'atan',\n",
       " 'atan2',\n",
       " 'atanh',\n",
       " 'ceil',\n",
       " 'comb',\n",
       " 'copysign',\n",
       " 'cos',\n",
       " 'cosh',\n",
       " 'degrees',\n",
       " 'dist',\n",
       " 'e',\n",
       " 'erf',\n",
       " 'erfc',\n",
       " 'exp',\n",
       " 'expm1',\n",
       " 'fabs',\n",
       " 'factorial',\n",
       " 'floor',\n",
       " 'fmod',\n",
       " 'frexp',\n",
       " 'fsum',\n",
       " 'gamma',\n",
       " 'gcd',\n",
       " 'hypot',\n",
       " 'inf',\n",
       " 'isclose',\n",
       " 'isfinite',\n",
       " 'isinf',\n",
       " 'isnan',\n",
       " 'isqrt',\n",
       " 'lcm',\n",
       " 'ldexp',\n",
       " 'lgamma',\n",
       " 'log',\n",
       " 'log10',\n",
       " 'log1p',\n",
       " 'log2',\n",
       " 'modf',\n",
       " 'nan',\n",
       " 'nextafter',\n",
       " 'perm',\n",
       " 'pi',\n",
       " 'pow',\n",
       " 'prod',\n",
       " 'radians',\n",
       " 'remainder',\n",
       " 'sin',\n",
       " 'sinh',\n",
       " 'sqrt',\n",
       " 'tan',\n",
       " 'tanh',\n",
       " 'tau',\n",
       " 'trunc',\n",
       " 'ulp']"
      ]
     },
     "execution_count": 260,
     "metadata": {},
     "output_type": "execute_result"
    }
   ],
   "source": [
    "import math\n",
    "dir(math)"
   ]
  },
  {
   "cell_type": "code",
   "execution_count": 261,
   "id": "9866de45",
   "metadata": {},
   "outputs": [],
   "source": [
    "import numpy as np"
   ]
  },
  {
   "cell_type": "code",
   "execution_count": 262,
   "id": "4932420a",
   "metadata": {},
   "outputs": [],
   "source": [
    "xx=np.array([1,4,3,2,5,3])"
   ]
  },
  {
   "cell_type": "code",
   "execution_count": 263,
   "id": "986eaa89",
   "metadata": {},
   "outputs": [],
   "source": [
    "x=\"1\""
   ]
  },
  {
   "cell_type": "code",
   "execution_count": 265,
   "id": "1619249d",
   "metadata": {},
   "outputs": [
    {
     "name": "stdout",
     "output_type": "stream",
     "text": [
      "12\n"
     ]
    },
    {
     "data": {
      "text/plain": [
       "str"
      ]
     },
     "execution_count": 265,
     "metadata": {},
     "output_type": "execute_result"
    }
   ],
   "source": [
    "y=\"2\"\n",
    "z=x+y\n",
    "print(z)\n",
    "type(z)"
   ]
  },
  {
   "cell_type": "code",
   "execution_count": 266,
   "id": "5c8d5fa3",
   "metadata": {},
   "outputs": [
    {
     "data": {
      "text/plain": [
       "array([3.14, 4.  , 2.  , 3.  ])"
      ]
     },
     "execution_count": 266,
     "metadata": {},
     "output_type": "execute_result"
    }
   ],
   "source": [
    "np.array([3.14,4,2,3])"
   ]
  },
  {
   "cell_type": "code",
   "execution_count": 267,
   "id": "5bd5a121",
   "metadata": {},
   "outputs": [
    {
     "data": {
      "text/plain": [
       "array([[1, 2, 3],\n",
       "       [4, 5, 6],\n",
       "       [7, 8, 9]])"
      ]
     },
     "execution_count": 267,
     "metadata": {},
     "output_type": "execute_result"
    }
   ],
   "source": [
    "np.array([[1,2,3],[4,5,6],[7,8,9]])"
   ]
  },
  {
   "cell_type": "code",
   "execution_count": 268,
   "id": "02576c3d",
   "metadata": {},
   "outputs": [
    {
     "name": "stdout",
     "output_type": "stream",
     "text": [
      "[0 0 0 0 0 0 0 0 0 0]\n"
     ]
    }
   ],
   "source": [
    "print(np.zeros(10,dtype=int))"
   ]
  },
  {
   "cell_type": "code",
   "execution_count": 269,
   "id": "4e7db703",
   "metadata": {},
   "outputs": [
    {
     "name": "stdout",
     "output_type": "stream",
     "text": [
      "[[0 0 0 0]\n",
      " [0 0 0 0]]\n"
     ]
    }
   ],
   "source": [
    "print(np.zeros((2,4),dtype=int))"
   ]
  },
  {
   "cell_type": "code",
   "execution_count": 270,
   "id": "943df6ef",
   "metadata": {},
   "outputs": [],
   "source": [
    "a=np.ones(4)"
   ]
  },
  {
   "cell_type": "code",
   "execution_count": 271,
   "id": "720f06a7",
   "metadata": {},
   "outputs": [
    {
     "data": {
      "text/plain": [
       "array([1., 1., 1., 1.])"
      ]
     },
     "execution_count": 271,
     "metadata": {},
     "output_type": "execute_result"
    }
   ],
   "source": [
    "a"
   ]
  },
  {
   "cell_type": "code",
   "execution_count": 272,
   "id": "968d148f",
   "metadata": {},
   "outputs": [
    {
     "name": "stdout",
     "output_type": "stream",
     "text": [
      "[1 1 1 1]\n"
     ]
    }
   ],
   "source": [
    "a=np.ones(4,dtype=int)\n",
    "print(a)"
   ]
  },
  {
   "cell_type": "code",
   "execution_count": 274,
   "id": "884dd0a5",
   "metadata": {},
   "outputs": [
    {
     "name": "stdout",
     "output_type": "stream",
     "text": [
      "[[1.]\n",
      " [1.]\n",
      " [1.]]\n",
      "[[56 56]\n",
      " [56 56]\n",
      " [56 56]]\n"
     ]
    }
   ],
   "source": [
    "a=np.ones((3,1),dtype=float)\n",
    "b=np.full((3,2),56)\n",
    "print(a)\n",
    "print(b)"
   ]
  },
  {
   "cell_type": "code",
   "execution_count": 275,
   "id": "822cccd8",
   "metadata": {},
   "outputs": [
    {
     "data": {
      "text/plain": [
       "array([0])"
      ]
     },
     "execution_count": 275,
     "metadata": {},
     "output_type": "execute_result"
    }
   ],
   "source": [
    "np.arange(0,1,5)"
   ]
  },
  {
   "cell_type": "code",
   "execution_count": 276,
   "id": "a60d1aa1",
   "metadata": {},
   "outputs": [
    {
     "data": {
      "text/plain": [
       "array([0.  , 0.25, 0.5 , 0.75, 1.  ])"
      ]
     },
     "execution_count": 276,
     "metadata": {},
     "output_type": "execute_result"
    }
   ],
   "source": [
    "np.linspace(0,1,5)"
   ]
  },
  {
   "cell_type": "code",
   "execution_count": 277,
   "id": "a55a2797",
   "metadata": {},
   "outputs": [
    {
     "data": {
      "text/plain": [
       "array([  1.,   2.,   3.,   4.,   5.,   6.,   7.,   8.,   9.,  10.,  11.,\n",
       "        12.,  13.,  14.,  15.,  16.,  17.,  18.,  19.,  20.,  21.,  22.,\n",
       "        23.,  24.,  25.,  26.,  27.,  28.,  29.,  30.,  31.,  32.,  33.,\n",
       "        34.,  35.,  36.,  37.,  38.,  39.,  40.,  41.,  42.,  43.,  44.,\n",
       "        45.,  46.,  47.,  48.,  49.,  50.,  51.,  52.,  53.,  54.,  55.,\n",
       "        56.,  57.,  58.,  59.,  60.,  61.,  62.,  63.,  64.,  65.,  66.,\n",
       "        67.,  68.,  69.,  70.,  71.,  72.,  73.,  74.,  75.,  76.,  77.,\n",
       "        78.,  79.,  80.,  81.,  82.,  83.,  84.,  85.,  86.,  87.,  88.,\n",
       "        89.,  90.,  91.,  92.,  93.,  94.,  95.,  96.,  97.,  98.,  99.,\n",
       "       100.])"
      ]
     },
     "execution_count": 277,
     "metadata": {},
     "output_type": "execute_result"
    }
   ],
   "source": [
    "np.linspace(1,100,100)"
   ]
  },
  {
   "cell_type": "code",
   "execution_count": null,
   "id": "7f7fd50c",
   "metadata": {},
   "outputs": [],
   "source": []
  }
 ],
 "metadata": {
  "kernelspec": {
   "display_name": "Python 3 (ipykernel)",
   "language": "python",
   "name": "python3"
  },
  "language_info": {
   "codemirror_mode": {
    "name": "ipython",
    "version": 3
   },
   "file_extension": ".py",
   "mimetype": "text/x-python",
   "name": "python",
   "nbconvert_exporter": "python",
   "pygments_lexer": "ipython3",
   "version": "3.9.7"
  }
 },
 "nbformat": 4,
 "nbformat_minor": 5
}
