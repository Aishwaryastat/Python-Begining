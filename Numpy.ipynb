{
 "cells": [
  {
   "cell_type": "code",
   "execution_count": 1,
   "id": "acd9a68e",
   "metadata": {},
   "outputs": [],
   "source": [
    "import numpy as np\n",
    "#dir(numpy)\n"
   ]
  },
  {
   "cell_type": "code",
   "execution_count": 2,
   "id": "03856417",
   "metadata": {},
   "outputs": [
    {
     "name": "stdout",
     "output_type": "stream",
     "text": [
      "[1 2 3 5]\n"
     ]
    },
    {
     "data": {
      "text/plain": [
       "numpy.ndarray"
      ]
     },
     "execution_count": 2,
     "metadata": {},
     "output_type": "execute_result"
    }
   ],
   "source": [
    "a=np.array([1,2,3,5.68],dtype=\"int\")\n",
    "print(a)\n",
    "type(a)"
   ]
  },
  {
   "cell_type": "code",
   "execution_count": 3,
   "id": "ea7cec5c",
   "metadata": {},
   "outputs": [
    {
     "data": {
      "text/plain": [
       "array([1.  , 2.  , 3.  , 5.68], dtype=float32)"
      ]
     },
     "execution_count": 3,
     "metadata": {},
     "output_type": "execute_result"
    }
   ],
   "source": [
    "b=np.array([1,2,3,5.68],dtype=\"float32\")\n",
    "b"
   ]
  },
  {
   "cell_type": "code",
   "execution_count": 4,
   "id": "2f8af165",
   "metadata": {},
   "outputs": [
    {
     "data": {
      "text/plain": [
       "array([[ 1,  2, 30],\n",
       "       [ 2,  4,  8],\n",
       "       [ 8,  8,  5]])"
      ]
     },
     "execution_count": 4,
     "metadata": {},
     "output_type": "execute_result"
    }
   ],
   "source": [
    "#nested lists multidimensioal arrays\n",
    "np.array([[1,2,30],[2,4,8],[8,8,5]])\n"
   ]
  },
  {
   "cell_type": "code",
   "execution_count": 5,
   "id": "c39b1d64",
   "metadata": {},
   "outputs": [
    {
     "data": {
      "text/plain": [
       "array([[[ 1,  2,  3],\n",
       "        [ 4, 56,  8]],\n",
       "\n",
       "       [[ 5,  7,  8],\n",
       "        [ 5,  6,  2]]])"
      ]
     },
     "execution_count": 5,
     "metadata": {},
     "output_type": "execute_result"
    }
   ],
   "source": [
    "x=np.array([[[1,2,3],[4,56,8]],[[5,7,8],[5,6,2]]])\n",
    "x"
   ]
  },
  {
   "cell_type": "code",
   "execution_count": 6,
   "id": "bcd83115",
   "metadata": {},
   "outputs": [
    {
     "name": "stdout",
     "output_type": "stream",
     "text": [
      "[0. 0. 0. 0. 0. 0. 0. 0. 0. 0.]\n",
      "[[0. 0. 0. 0.]\n",
      " [0. 0. 0. 0.]]\n",
      "[[0. 0. 0. 0. 0.]\n",
      " [0. 0. 0. 0. 0.]\n",
      " [0. 0. 0. 0. 0.]]\n"
     ]
    }
   ],
   "source": [
    "#create a length-10 interger array filled with zeros\n",
    "print(np.zeros(10))\n",
    "print(np.zeros((2,4)))\n",
    "print(np.zeros((3,5)))"
   ]
  },
  {
   "cell_type": "code",
   "execution_count": 7,
   "id": "779c86d1",
   "metadata": {},
   "outputs": [
    {
     "name": "stdout",
     "output_type": "stream",
     "text": [
      "[1. 1. 1. 1.]\n",
      "[[1. 1. 1.]\n",
      " [1. 1. 1.]]\n",
      "[[[1. 1. 1. 1.]\n",
      "  [1. 1. 1. 1.]\n",
      "  [1. 1. 1. 1.]\n",
      "  [1. 1. 1. 1.]\n",
      "  [1. 1. 1. 1.]]\n",
      "\n",
      " [[1. 1. 1. 1.]\n",
      "  [1. 1. 1. 1.]\n",
      "  [1. 1. 1. 1.]\n",
      "  [1. 1. 1. 1.]\n",
      "  [1. 1. 1. 1.]]\n",
      "\n",
      " [[1. 1. 1. 1.]\n",
      "  [1. 1. 1. 1.]\n",
      "  [1. 1. 1. 1.]\n",
      "  [1. 1. 1. 1.]\n",
      "  [1. 1. 1. 1.]]]\n",
      "[[99 99]\n",
      " [99 99]\n",
      " [99 99]]\n"
     ]
    }
   ],
   "source": [
    "a=np.ones(4)\n",
    "print(a)\n",
    "print(np.ones((2,3)))\n",
    "print(np.ones((3,5,4)))\n",
    "print(np.full((3,2),99))"
   ]
  },
  {
   "cell_type": "code",
   "execution_count": 8,
   "id": "45b37dc2",
   "metadata": {},
   "outputs": [
    {
     "data": {
      "text/plain": [
       "[0, 2, 4, 6, 8]"
      ]
     },
     "execution_count": 8,
     "metadata": {},
     "output_type": "execute_result"
    }
   ],
   "source": [
    "list(range(0,10,2))"
   ]
  },
  {
   "cell_type": "code",
   "execution_count": 9,
   "id": "88a06f61",
   "metadata": {},
   "outputs": [
    {
     "data": {
      "text/plain": [
       "array([0. , 0.2, 0.4, 0.6, 0.8])"
      ]
     },
     "execution_count": 9,
     "metadata": {},
     "output_type": "execute_result"
    }
   ],
   "source": [
    "#Create an array filled with a linear sequence\n",
    "# Starting at 0, ending at 1, stepping by 0.2\n",
    "#(this is simmilar to the built-in-range() function)\n",
    "np.arange(0,1,0.2) #similar to seq command in R"
   ]
  },
  {
   "cell_type": "code",
   "execution_count": 10,
   "id": "cc1781bf",
   "metadata": {},
   "outputs": [
    {
     "name": "stdout",
     "output_type": "stream",
     "text": [
      "[0.   0.25 0.5  0.75 1.  ]\n",
      "[ -1.          10.22222222  21.44444444  32.66666667  43.88888889\n",
      "  55.11111111  66.33333333  77.55555556  88.77777778 100.        ]\n"
     ]
    }
   ],
   "source": [
    "#create an array of five values evenly spaced between 0 and 1\n",
    "print(np.linspace(0,1,5))\n",
    "\n",
    "print(np.linspace(-1,100,10))"
   ]
  },
  {
   "cell_type": "markdown",
   "id": "2632df78",
   "metadata": {},
   "source": [
    "# Simple random data"
   ]
  },
  {
   "cell_type": "code",
   "execution_count": 11,
   "id": "677b4a98",
   "metadata": {},
   "outputs": [
    {
     "data": {
      "text/plain": [
       "array([0.87646247, 0.27089597, 0.71978902, 0.84624728, 0.25647964,\n",
       "       0.71418154, 0.11397043, 0.92057649, 0.05796975, 0.77083359,\n",
       "       0.26103995, 0.20594062, 0.661469  , 0.80300346, 0.84668315])"
      ]
     },
     "execution_count": 11,
     "metadata": {},
     "output_type": "execute_result"
    }
   ],
   "source": [
    "#random number between 0 to 1\n",
    "np.random.rand(15)"
   ]
  },
  {
   "cell_type": "code",
   "execution_count": 12,
   "id": "55b39854",
   "metadata": {},
   "outputs": [
    {
     "data": {
      "text/plain": [
       "array([[0.03668751, 0.09313623],\n",
       "       [0.81146588, 0.37867155],\n",
       "       [0.10671932, 0.60816911],\n",
       "       [0.72722876, 0.9267876 ],\n",
       "       [0.72721869, 0.75171338],\n",
       "       [0.46974175, 0.3940897 ],\n",
       "       [0.36235761, 0.79241733],\n",
       "       [0.80052543, 0.21760624],\n",
       "       [0.83792053, 0.23382946],\n",
       "       [0.94226856, 0.03845822]])"
      ]
     },
     "execution_count": 12,
     "metadata": {},
     "output_type": "execute_result"
    }
   ],
   "source": [
    "#2 dimensional array\n",
    "np.random.rand(10,2)"
   ]
  },
  {
   "cell_type": "code",
   "execution_count": 13,
   "id": "9fda7f2e",
   "metadata": {},
   "outputs": [
    {
     "data": {
      "text/plain": [
       "array([[[0.45893186, 0.11244982, 0.65870156]],\n",
       "\n",
       "       [[0.51507481, 0.42431696, 0.41154621]],\n",
       "\n",
       "       [[0.02272035, 0.56155049, 0.19947588]],\n",
       "\n",
       "       [[0.04864472, 0.89259222, 0.41941247]],\n",
       "\n",
       "       [[0.68873935, 0.89897902, 0.09288565]],\n",
       "\n",
       "       [[0.60680385, 0.49236743, 0.65917865]],\n",
       "\n",
       "       [[0.94981076, 0.63400443, 0.10779931]],\n",
       "\n",
       "       [[0.92151999, 0.57383853, 0.06733603]],\n",
       "\n",
       "       [[0.81301077, 0.41218091, 0.24953499]],\n",
       "\n",
       "       [[0.09081557, 0.28221431, 0.00296658]]])"
      ]
     },
     "execution_count": 13,
     "metadata": {},
     "output_type": "execute_result"
    }
   ],
   "source": [
    "np.random.rand(10,1,3)"
   ]
  },
  {
   "cell_type": "code",
   "execution_count": 14,
   "id": "acd626c8",
   "metadata": {},
   "outputs": [
    {
     "data": {
      "text/plain": [
       "array([ 0.07590674, -0.18647442,  1.21714142, -0.65452127, -0.64602577,\n",
       "       -0.94919983,  0.86734271, -0.89597269,  0.59935084, -1.65606758])"
      ]
     },
     "execution_count": 14,
     "metadata": {},
     "output_type": "execute_result"
    }
   ],
   "source": [
    "np.random.randn(10)"
   ]
  },
  {
   "cell_type": "code",
   "execution_count": 15,
   "id": "2714d79d",
   "metadata": {},
   "outputs": [
    {
     "data": {
      "text/plain": [
       "array([[-0.49907527,  0.2924325 ],\n",
       "       [-0.30815053,  2.00318706],\n",
       "       [ 0.44423305, -0.46844024],\n",
       "       [ 0.50953831, -0.66791424],\n",
       "       [ 1.79793002,  0.30909728],\n",
       "       [-0.06405408,  2.21491758],\n",
       "       [ 2.75489012,  0.09652311],\n",
       "       [ 0.15852417, -1.55637956],\n",
       "       [ 0.84675711, -0.00458782],\n",
       "       [ 1.10430601,  1.89477594]])"
      ]
     },
     "execution_count": 15,
     "metadata": {},
     "output_type": "execute_result"
    }
   ],
   "source": [
    "#np.random.randn() gives sample from standard normal distribution\n",
    "np.random.randn(10,2)"
   ]
  },
  {
   "cell_type": "code",
   "execution_count": 16,
   "id": "f8e536de",
   "metadata": {},
   "outputs": [
    {
     "data": {
      "text/plain": [
       "array([[[ 0.83957265, -0.81238032, -0.62220076],\n",
       "        [ 0.23599817, -0.71409954,  0.40477169]],\n",
       "\n",
       "       [[ 0.07057095,  0.67805979, -1.79730285],\n",
       "        [-0.76637693, -0.98391878, -2.0675325 ]],\n",
       "\n",
       "       [[-0.25302283, -0.07386965, -0.03473721],\n",
       "        [ 0.80726425,  1.00983879,  0.91034882]],\n",
       "\n",
       "       [[ 0.35308863, -0.34150292,  2.28416956],\n",
       "        [ 0.40998235,  0.10876271,  0.41921341]],\n",
       "\n",
       "       [[-1.02189141, -0.91380838, -1.90815638],\n",
       "        [ 1.65370498,  0.9298779 , -0.670466  ]],\n",
       "\n",
       "       [[-0.20903821,  1.24680888, -1.38395994],\n",
       "        [ 2.24446642,  0.19081238, -0.37270272]],\n",
       "\n",
       "       [[ 0.03983866,  0.55521147, -0.21565187],\n",
       "        [ 1.65272948,  0.50861158, -0.59889821]],\n",
       "\n",
       "       [[-0.12449822, -0.20680464, -0.51077222],\n",
       "        [ 0.50236139,  2.68731034,  0.02685854]],\n",
       "\n",
       "       [[-0.9290858 ,  0.39915413,  0.60664545],\n",
       "        [-1.76057623, -1.03976941,  0.54145253]],\n",
       "\n",
       "       [[-1.12827088,  0.37048594,  1.56279178],\n",
       "        [ 0.87317022,  1.38812674,  0.26750297]]])"
      ]
     },
     "execution_count": 16,
     "metadata": {},
     "output_type": "execute_result"
    }
   ],
   "source": [
    "np.random.randn(10,2,3)"
   ]
  },
  {
   "cell_type": "code",
   "execution_count": 17,
   "id": "8c449f69",
   "metadata": {},
   "outputs": [
    {
     "data": {
      "text/plain": [
       "1"
      ]
     },
     "execution_count": 17,
     "metadata": {},
     "output_type": "execute_result"
    }
   ],
   "source": [
    "#np.random.randint(low,high,size,dtype)\n",
    "#This function of random module is used to generate random integer from inclusive(low) to exclusive(high).\n",
    "np.random.randint(2)"
   ]
  },
  {
   "cell_type": "code",
   "execution_count": 18,
   "id": "bb4f1761",
   "metadata": {},
   "outputs": [
    {
     "data": {
      "text/plain": [
       "array([[14, 14, 10, 13],\n",
       "       [13, 12, 11, 14],\n",
       "       [10, 12, 12, 14]])"
      ]
     },
     "execution_count": 18,
     "metadata": {},
     "output_type": "execute_result"
    }
   ],
   "source": [
    "np.random.randint(10,15,(3,4))"
   ]
  },
  {
   "cell_type": "code",
   "execution_count": 19,
   "id": "13939632",
   "metadata": {},
   "outputs": [
    {
     "data": {
      "text/plain": [
       "array([0.72983108, 0.53413051, 0.69228897, 0.34847952, 0.6079851 ,\n",
       "       0.36896841, 0.81778384, 0.78852775, 0.24180951, 0.60835175])"
      ]
     },
     "execution_count": 19,
     "metadata": {},
     "output_type": "execute_result"
    }
   ],
   "source": [
    "np.random.random(10)\n",
    "#it gives random number from  to 1."
   ]
  },
  {
   "cell_type": "code",
   "execution_count": 20,
   "id": "73ee23a0",
   "metadata": {},
   "outputs": [
    {
     "data": {
      "text/plain": [
       "array([[[0.93710273, 0.59852346, 0.36445299, 0.10648904, 0.2772503 ],\n",
       "        [0.09400826, 0.19031891, 0.71269914, 0.69282228, 0.04274307]],\n",
       "\n",
       "       [[0.12853116, 0.63673005, 0.6941013 , 0.0124509 , 0.01694781],\n",
       "        [0.97797916, 0.72792811, 0.8904258 , 0.40077873, 0.96637324]],\n",
       "\n",
       "       [[0.84753516, 0.51985405, 0.39360067, 0.23124027, 0.78346438],\n",
       "        [0.17308816, 0.84173189, 0.68960887, 0.08547492, 0.61586544]]])"
      ]
     },
     "execution_count": 20,
     "metadata": {},
     "output_type": "execute_result"
    }
   ],
   "source": [
    "np.random.random((3,2,5))"
   ]
  },
  {
   "cell_type": "code",
   "execution_count": 21,
   "id": "f702e90d",
   "metadata": {},
   "outputs": [
    {
     "data": {
      "text/plain": [
       "array(['JK', 'JIN'], dtype='<U4')"
      ]
     },
     "execution_count": 21,
     "metadata": {},
     "output_type": "execute_result"
    }
   ],
   "source": [
    "#choice(a,size=None,replace=True,p=None) \n",
    "#similar to sample command in R\n",
    "x=np.array([\"JK\",\"RM\",\"JIN\",'SUGA'])\n",
    "a=np.random.choice(x,size=2,replace=False)\n",
    "a"
   ]
  },
  {
   "cell_type": "code",
   "execution_count": 22,
   "id": "df527ae1",
   "metadata": {},
   "outputs": [
    {
     "data": {
      "text/plain": [
       "array([[['RM', 'RM'],\n",
       "        ['JIN', 'JIN'],\n",
       "        ['SUGA', 'SUGA'],\n",
       "        ['RM', 'RM'],\n",
       "        ['JIN', 'RM'],\n",
       "        ['SUGA', 'JK'],\n",
       "        ['SUGA', 'RM'],\n",
       "        ['JK', 'SUGA'],\n",
       "        ['SUGA', 'JK'],\n",
       "        ['SUGA', 'RM']],\n",
       "\n",
       "       [['JIN', 'JIN'],\n",
       "        ['JIN', 'RM'],\n",
       "        ['JIN', 'JIN'],\n",
       "        ['RM', 'RM'],\n",
       "        ['JK', 'JIN'],\n",
       "        ['RM', 'JIN'],\n",
       "        ['JIN', 'JK'],\n",
       "        ['JK', 'JK'],\n",
       "        ['JK', 'JIN'],\n",
       "        ['JIN', 'JIN']],\n",
       "\n",
       "       [['SUGA', 'JIN'],\n",
       "        ['RM', 'RM'],\n",
       "        ['JIN', 'JIN'],\n",
       "        ['JIN', 'JIN'],\n",
       "        ['JK', 'RM'],\n",
       "        ['SUGA', 'JK'],\n",
       "        ['JK', 'RM'],\n",
       "        ['JIN', 'SUGA'],\n",
       "        ['JIN', 'JIN'],\n",
       "        ['JK', 'JIN']]], dtype='<U4')"
      ]
     },
     "execution_count": 22,
     "metadata": {},
     "output_type": "execute_result"
    }
   ],
   "source": [
    "np.random.choice(x,(3,10,2),True)"
   ]
  },
  {
   "cell_type": "code",
   "execution_count": 23,
   "id": "581084be",
   "metadata": {},
   "outputs": [
    {
     "data": {
      "text/plain": [
       "array([['RM', 'RM', 'JK'],\n",
       "       ['JIN', 'JIN', 'RM']], dtype='<U4')"
      ]
     },
     "execution_count": 23,
     "metadata": {},
     "output_type": "execute_result"
    }
   ],
   "source": [
    "np.random.choice(x,(2,3),1,p=(0.3,0.4,0.2,0.1))"
   ]
  },
  {
   "cell_type": "markdown",
   "id": "b69cb7ac",
   "metadata": {},
   "source": [
    "# permutation"
   ]
  },
  {
   "cell_type": "code",
   "execution_count": 24,
   "id": "3ec396c8",
   "metadata": {},
   "outputs": [
    {
     "data": {
      "text/plain": [
       "array(['JK', 'RM', 'JIN', 'SUGA', 'JIMIN', 'V', 'JHOPE'], dtype='<U5')"
      ]
     },
     "execution_count": 24,
     "metadata": {},
     "output_type": "execute_result"
    }
   ],
   "source": [
    "x=np.array([\"JK\",\"RM\",\"JIN\",'SUGA',\"JIMIN\",\"V\",\"JHOPE\"])\n",
    "x"
   ]
  },
  {
   "cell_type": "code",
   "execution_count": 25,
   "id": "fc870bfb",
   "metadata": {},
   "outputs": [
    {
     "data": {
      "text/plain": [
       "array(['SUGA', 'RM', 'JK', 'JIMIN', 'JHOPE', 'V', 'JIN'], dtype='<U5')"
      ]
     },
     "execution_count": 25,
     "metadata": {},
     "output_type": "execute_result"
    }
   ],
   "source": [
    "np.random.permutation(x)"
   ]
  },
  {
   "cell_type": "code",
   "execution_count": 26,
   "id": "910bd108",
   "metadata": {},
   "outputs": [
    {
     "name": "stdout",
     "output_type": "stream",
     "text": [
      "None\n",
      "['RM' 'JHOPE' 'JIN' 'JK' 'V' 'JIMIN' 'SUGA']\n"
     ]
    }
   ],
   "source": [
    "print(np.random.shuffle(x))\n",
    "print(x)"
   ]
  },
  {
   "cell_type": "raw",
   "id": "2bdbc80a",
   "metadata": {},
   "source": [
    "Random sample from various distribution"
   ]
  },
  {
   "cell_type": "code",
   "execution_count": 27,
   "id": "9717531b",
   "metadata": {},
   "outputs": [
    {
     "data": {
      "text/plain": [
       "array([[1, 2],\n",
       "       [1, 2],\n",
       "       [2, 3]])"
      ]
     },
     "execution_count": 27,
     "metadata": {},
     "output_type": "execute_result"
    }
   ],
   "source": [
    "#binomial(n,p,size)\n",
    "np.random.binomial(5,0.3,(3,2))"
   ]
  },
  {
   "cell_type": "code",
   "execution_count": 28,
   "id": "17f46f2e",
   "metadata": {},
   "outputs": [
    {
     "data": {
      "text/plain": [
       "array([[[[ 2.46478664,  4.82463901,  9.07632139,  4.25722469],\n",
       "         [ 0.61270529,  5.18297586,  9.69037327,  0.71096278],\n",
       "         [ 2.84586768,  0.53210277, 10.58118901,  3.88768435],\n",
       "         [ 0.8492207 ,  1.03586913,  3.52095461,  4.10520938],\n",
       "         [ 1.82674694,  1.50742601,  3.33445575,  2.12578772]],\n",
       "\n",
       "        [[ 2.0210092 ,  2.79308014,  6.51615679,  1.18943129],\n",
       "         [ 0.88032523,  5.08112372,  0.46931792,  0.51158567],\n",
       "         [ 2.96062261,  0.32701516,  1.83208356,  6.67615487],\n",
       "         [ 0.38538119,  7.81953402,  1.60355307,  2.66467806],\n",
       "         [ 0.0903529 ,  1.98221641,  0.39785685,  1.73486569]]],\n",
       "\n",
       "\n",
       "       [[[ 0.5472386 ,  2.72511072,  1.40909384,  6.60881687],\n",
       "         [ 1.5712612 ,  1.26435628,  2.06598287,  1.65393082],\n",
       "         [ 1.07666458,  3.9003164 ,  2.53541592,  2.49678529],\n",
       "         [ 2.04613897,  1.54058456,  5.66297344,  2.48304631],\n",
       "         [11.23504735,  6.55223032,  4.02313549,  3.00372665]],\n",
       "\n",
       "        [[ 0.87441488,  0.96719584,  4.47976304,  6.99058484],\n",
       "         [ 4.59487311,  1.83551764,  5.52099335,  1.67955453],\n",
       "         [ 2.87884035,  1.31182519,  5.39949091,  3.93951451],\n",
       "         [ 2.70097958,  3.22883782,  2.67525032,  1.7158788 ],\n",
       "         [ 2.21707652,  2.53186078,  3.88254434,  4.16278576]]],\n",
       "\n",
       "\n",
       "       [[[ 1.37119307,  0.35628972,  0.53522002,  1.50448496],\n",
       "         [ 0.84048333,  6.98220432,  8.03549664,  2.59487163],\n",
       "         [ 7.05511531,  2.57321292,  3.28173267,  1.92404084],\n",
       "         [ 5.10253509,  0.83485445,  0.06209869,  4.10603238],\n",
       "         [ 1.25497769,  5.66834371,  2.80765476,  3.19217116]],\n",
       "\n",
       "        [[ 3.44275127,  0.74975538, 11.05655964,  3.13566262],\n",
       "         [ 9.86683802,  1.35351324,  8.77901131,  1.56271819],\n",
       "         [ 0.40264862,  0.77239063,  4.98683398,  1.40708414],\n",
       "         [ 4.17147847,  2.37518965,  3.14899734,  0.95435583],\n",
       "         [ 6.04001162,  7.20625467,  3.62609964,  1.03834204]]],\n",
       "\n",
       "\n",
       "       [[[ 1.28595669,  1.44355141,  0.76391632,  6.89066773],\n",
       "         [ 0.57405829,  0.83985792,  1.06741764,  8.38395511],\n",
       "         [ 1.57881608,  1.5230984 ,  0.61020001,  1.3510128 ],\n",
       "         [ 7.8700773 ,  1.00013199,  4.81843918,  0.53454616],\n",
       "         [ 2.99057879,  0.84899687,  0.44738283,  1.8537013 ]],\n",
       "\n",
       "        [[ 3.68189925,  3.26389894,  3.71699887,  5.66013681],\n",
       "         [ 2.07303104,  1.79900198,  3.53835382,  4.47295479],\n",
       "         [ 1.49529471,  3.12611717,  2.20720979,  0.46133184],\n",
       "         [ 0.40192057,  7.98034362,  1.47294276,  0.57024303],\n",
       "         [ 1.40535936,  0.43638003,  3.09671876,  2.62137062]]]])"
      ]
     },
     "execution_count": 28,
     "metadata": {},
     "output_type": "execute_result"
    }
   ],
   "source": [
    "#np.random.chisquare(df,size)\n",
    "np.random.chisquare(3,(4,2,5,4))"
   ]
  },
  {
   "cell_type": "code",
   "execution_count": 29,
   "id": "2fe0e491",
   "metadata": {},
   "outputs": [
    {
     "data": {
      "text/plain": [
       "array([3.77028703, 0.18591567, 0.71931084, 7.31103372, 0.30547994])"
      ]
     },
     "execution_count": 29,
     "metadata": {},
     "output_type": "execute_result"
    }
   ],
   "source": [
    "#np.exponential(scale,shape)\n",
    "np.random.exponential(2,5)"
   ]
  },
  {
   "cell_type": "code",
   "execution_count": 30,
   "id": "4d94ecde",
   "metadata": {},
   "outputs": [
    {
     "name": "stdout",
     "output_type": "stream",
     "text": [
      "-0.2472861521498157\n",
      "[ 0.72587873 -0.5117591  -1.05558938  1.7971567   0.51140632  2.06086942\n",
      "  1.61123921 -1.02352386  1.41530205 -0.73554345]\n"
     ]
    }
   ],
   "source": [
    "print(np.random.normal())\n",
    "print(np.random.normal(0,1,10))"
   ]
  },
  {
   "cell_type": "code",
   "execution_count": 31,
   "id": "4d867852",
   "metadata": {},
   "outputs": [
    {
     "name": "stdout",
     "output_type": "stream",
     "text": [
      "[[-0.71104437  0.87901968 -0.84177335  0.32013347 -0.55633458]\n",
      " [-0.48944841  0.10876231 -2.05552046 -1.48590364 -0.64907307]]\n"
     ]
    }
   ],
   "source": [
    "print(np.random.normal(0,1,(2,5)))"
   ]
  },
  {
   "cell_type": "code",
   "execution_count": 32,
   "id": "65ac4d49",
   "metadata": {},
   "outputs": [
    {
     "data": {
      "text/plain": [
       "array(['RM', 'JHOPE', 'JIN', 'JK', 'V', 'JIMIN', 'SUGA'], dtype='<U5')"
      ]
     },
     "execution_count": 32,
     "metadata": {},
     "output_type": "execute_result"
    }
   ],
   "source": [
    "x"
   ]
  },
  {
   "cell_type": "code",
   "execution_count": 33,
   "id": "d7d306e4",
   "metadata": {},
   "outputs": [
    {
     "data": {
      "text/plain": [
       "array(['V', 'JK', 'JIMIN'], dtype='<U5')"
      ]
     },
     "execution_count": 33,
     "metadata": {},
     "output_type": "execute_result"
    }
   ],
   "source": [
    "from numpy.random import choice\n",
    "choice(x,3,replace=False)"
   ]
  },
  {
   "cell_type": "code",
   "execution_count": 34,
   "id": "68aa03af",
   "metadata": {},
   "outputs": [
    {
     "data": {
      "text/plain": [
       "array([[1., 0., 0., 0.],\n",
       "       [0., 1., 0., 0.],\n",
       "       [0., 0., 1., 0.],\n",
       "       [0., 0., 0., 1.]])"
      ]
     },
     "execution_count": 34,
     "metadata": {},
     "output_type": "execute_result"
    }
   ],
   "source": [
    "np.eye(4)"
   ]
  },
  {
   "cell_type": "markdown",
   "id": "b330f73e",
   "metadata": {},
   "source": [
    "# Numpy array attributes "
   ]
  },
  {
   "cell_type": "code",
   "execution_count": 35,
   "id": "4db21d22",
   "metadata": {},
   "outputs": [
    {
     "name": "stdout",
     "output_type": "stream",
     "text": [
      "[2 1 7 7 6 0 6 1 2 2]\n",
      "[[7 4 3 8 8 0 4 2 3 4]\n",
      " [2 4 0 1 3 6 7 6 1 1]]\n",
      "[[[1 9 7 6]\n",
      "  [0 8 4 3]\n",
      "  [8 1 9 6]]\n",
      "\n",
      " [[8 1 2 1]\n",
      "  [1 6 6 6]\n",
      "  [3 2 3 0]]]\n"
     ]
    }
   ],
   "source": [
    "a=np.random.randint(10,size=10)\n",
    "b=np.random.randint(10,size=(2,10))\n",
    "c=np.random.randint(10,size=(2,3,4))\n",
    "print(a)\n",
    "print(b)\n",
    "print(c)"
   ]
  },
  {
   "cell_type": "code",
   "execution_count": 36,
   "id": "27c7216a",
   "metadata": {},
   "outputs": [
    {
     "name": "stdout",
     "output_type": "stream",
     "text": [
      "1\n",
      "2\n",
      "3\n",
      "(10,)\n",
      "(2, 3, 4)\n",
      "10\n",
      "24\n",
      "int32\n",
      "4 bytes\n"
     ]
    }
   ],
   "source": [
    "print(a.ndim) # gives the dimension\n",
    "print(b.ndim)\n",
    "print(c.ndim)\n",
    "\n",
    "print(a.shape) #shape of array\n",
    "print(c.shape)\n",
    "\n",
    "print(a.size) #total number of elements\n",
    "print(c.size)\n",
    "print(b.dtype) #for data type\n",
    "print(a.itemsize,\"bytes\") # memory size in byte of reach element in array."
   ]
  },
  {
   "cell_type": "markdown",
   "id": "a913fd4f",
   "metadata": {},
   "source": [
    "# Array Indexing"
   ]
  },
  {
   "cell_type": "code",
   "execution_count": 37,
   "id": "0d595641",
   "metadata": {},
   "outputs": [
    {
     "name": "stdout",
     "output_type": "stream",
     "text": [
      "[2 1 7 7 6 0 6 1 2 2]\n",
      "2\n",
      "length of a:  10\n"
     ]
    },
    {
     "ename": "IndexError",
     "evalue": "index 10 is out of bounds for axis 0 with size 10",
     "output_type": "error",
     "traceback": [
      "\u001b[1;31m---------------------------------------------------------------------------\u001b[0m",
      "\u001b[1;31mIndexError\u001b[0m                                Traceback (most recent call last)",
      "\u001b[1;32m~\\AppData\\Local\\Temp/ipykernel_4604/2308387111.py\u001b[0m in \u001b[0;36m<module>\u001b[1;34m\u001b[0m\n\u001b[0;32m      2\u001b[0m \u001b[0mprint\u001b[0m\u001b[1;33m(\u001b[0m\u001b[0ma\u001b[0m\u001b[1;33m[\u001b[0m\u001b[1;36m0\u001b[0m\u001b[1;33m]\u001b[0m\u001b[1;33m)\u001b[0m\u001b[1;33m\u001b[0m\u001b[1;33m\u001b[0m\u001b[0m\n\u001b[0;32m      3\u001b[0m \u001b[0mprint\u001b[0m\u001b[1;33m(\u001b[0m\u001b[1;34m\"length of a: \"\u001b[0m\u001b[1;33m,\u001b[0m \u001b[0mlen\u001b[0m\u001b[1;33m(\u001b[0m\u001b[0ma\u001b[0m\u001b[1;33m)\u001b[0m\u001b[1;33m)\u001b[0m\u001b[1;33m\u001b[0m\u001b[1;33m\u001b[0m\u001b[0m\n\u001b[1;32m----> 4\u001b[1;33m \u001b[0mprint\u001b[0m\u001b[1;33m(\u001b[0m\u001b[0ma\u001b[0m\u001b[1;33m[\u001b[0m\u001b[1;36m10\u001b[0m\u001b[1;33m]\u001b[0m\u001b[1;33m)\u001b[0m\u001b[1;33m\u001b[0m\u001b[1;33m\u001b[0m\u001b[0m\n\u001b[0m",
      "\u001b[1;31mIndexError\u001b[0m: index 10 is out of bounds for axis 0 with size 10"
     ]
    }
   ],
   "source": [
    "print(a)\n",
    "print(a[0])\n",
    "print(\"length of a: \", len(a))\n",
    "print(a[10])"
   ]
  },
  {
   "cell_type": "code",
   "execution_count": 38,
   "id": "685ef984",
   "metadata": {},
   "outputs": [
    {
     "name": "stdout",
     "output_type": "stream",
     "text": [
      "2\n"
     ]
    }
   ],
   "source": [
    "print(a[9])"
   ]
  },
  {
   "cell_type": "code",
   "execution_count": 39,
   "id": "79523594",
   "metadata": {},
   "outputs": [
    {
     "data": {
      "text/plain": [
       "2"
      ]
     },
     "execution_count": 39,
     "metadata": {},
     "output_type": "execute_result"
    }
   ],
   "source": [
    "a[-1]"
   ]
  },
  {
   "cell_type": "code",
   "execution_count": 40,
   "id": "fffa9f95",
   "metadata": {},
   "outputs": [
    {
     "name": "stdout",
     "output_type": "stream",
     "text": [
      "[[7 4 3 8 8 0 4 2 3 4]\n",
      " [2 4 0 1 3 6 7 6 1 1]]\n",
      "2\n",
      "[[12  4  3  8  8  0  4  2  3  4]\n",
      " [ 2  4  0  1  3  6  7  6  1  1]]\n"
     ]
    }
   ],
   "source": [
    "print(b)\n",
    "print(b[1,0])\n",
    "b[0,0]=12\n",
    "print(b)"
   ]
  },
  {
   "cell_type": "code",
   "execution_count": 41,
   "id": "92a08d35",
   "metadata": {},
   "outputs": [
    {
     "name": "stdout",
     "output_type": "stream",
     "text": [
      "[[3 4 3 8 8 0 4 2 3 4]\n",
      " [2 4 0 1 3 6 7 6 1 1]]\n"
     ]
    }
   ],
   "source": [
    "b[0,0]=3.4568 # this will be truncated!\n",
    "print(b)"
   ]
  },
  {
   "cell_type": "markdown",
   "id": "cdd42ca1",
   "metadata": {},
   "source": [
    "# Array Slicing: Accessing Subarrays"
   ]
  },
  {
   "cell_type": "code",
   "execution_count": 42,
   "id": "1e216ab1",
   "metadata": {},
   "outputs": [
    {
     "data": {
      "text/plain": [
       "array([0, 1, 2, 3, 4, 5, 6, 7, 8, 9])"
      ]
     },
     "execution_count": 42,
     "metadata": {},
     "output_type": "execute_result"
    }
   ],
   "source": [
    "x=np.arange(10)\n",
    "x"
   ]
  },
  {
   "cell_type": "code",
   "execution_count": 43,
   "id": "9c35545b",
   "metadata": {},
   "outputs": [
    {
     "name": "stdout",
     "output_type": "stream",
     "text": [
      "[0 1 2 3 4]\n",
      "[5 6 7 8 9]\n",
      "[2 3 4]\n",
      "[0 2 4 6 8]\n",
      "[0 2 4 6 8]\n"
     ]
    }
   ],
   "source": [
    "print(x[:5])\n",
    "print(x[5:])\n",
    "print(x[2:5])\n",
    "print(x[::2])\n",
    "print(x[0::2])"
   ]
  },
  {
   "cell_type": "code",
   "execution_count": 44,
   "id": "8566119d",
   "metadata": {},
   "outputs": [
    {
     "name": "stdout",
     "output_type": "stream",
     "text": [
      "[[3 4 3 8 8 0 4 2 3 4]\n",
      " [2 4 0 1 3 6 7 6 1 1]]\n"
     ]
    }
   ],
   "source": [
    "print(b)"
   ]
  },
  {
   "cell_type": "code",
   "execution_count": 45,
   "id": "4ae7d9a2",
   "metadata": {},
   "outputs": [
    {
     "name": "stdout",
     "output_type": "stream",
     "text": [
      "[[3 4 3]\n",
      " [2 4 0]]\n"
     ]
    }
   ],
   "source": [
    "print(b[:2,:3])# two row, three column"
   ]
  },
  {
   "cell_type": "code",
   "execution_count": 46,
   "id": "6bb0f0ca",
   "metadata": {},
   "outputs": [
    {
     "name": "stdout",
     "output_type": "stream",
     "text": [
      "[[3 3 8 4 3]]\n"
     ]
    }
   ],
   "source": [
    "print(b[:1,::2])#first row, every other column"
   ]
  },
  {
   "cell_type": "code",
   "execution_count": 47,
   "id": "83c2f14a",
   "metadata": {},
   "outputs": [
    {
     "data": {
      "text/plain": [
       "array([[1, 1, 6, 7, 6, 3, 1, 0, 4, 2],\n",
       "       [4, 3, 2, 4, 0, 8, 8, 3, 4, 3]])"
      ]
     },
     "execution_count": 47,
     "metadata": {},
     "output_type": "execute_result"
    }
   ],
   "source": [
    "b[::-1,::-1] #subarray dimensions can even be reversed together"
   ]
  },
  {
   "cell_type": "code",
   "execution_count": 48,
   "id": "cd642f9a",
   "metadata": {},
   "outputs": [
    {
     "name": "stdout",
     "output_type": "stream",
     "text": [
      "[3 2]\n",
      "[3 4 3 8 8 0 4 2 3 4]\n",
      "[3 4 3 8 8 0 4 2 3 4]\n"
     ]
    }
   ],
   "source": [
    "print(b[:,0]) #first column only\n",
    "print(b[0,:]) #first row only\n",
    "print(b[0]) # equivalent to the b[0,:]"
   ]
  },
  {
   "cell_type": "markdown",
   "id": "934a0193",
   "metadata": {},
   "source": [
    "#subarrays as no-copy views= one important and extremely useful thing to know aboutarray slices is that return views rather than copies of the array data. This is one area in which numpy array slicing diffes from python list slicing, in list slices will copies. Considerour two-dimensional array from before:"
   ]
  },
  {
   "cell_type": "code",
   "execution_count": 49,
   "id": "ae445d5f",
   "metadata": {},
   "outputs": [
    {
     "data": {
      "text/plain": [
       "array([[0, 7, 4, 9, 9, 3, 7, 7],\n",
       "       [7, 7, 1, 6, 0, 1, 3, 1],\n",
       "       [7, 1, 9, 1, 1, 7, 6, 6]])"
      ]
     },
     "execution_count": 49,
     "metadata": {},
     "output_type": "execute_result"
    }
   ],
   "source": [
    "y=np.random.randint(10,size=(3,8))\n",
    "y"
   ]
  },
  {
   "cell_type": "code",
   "execution_count": 50,
   "id": "14621133",
   "metadata": {},
   "outputs": [
    {
     "data": {
      "text/plain": [
       "array([[0, 7],\n",
       "       [7, 7]])"
      ]
     },
     "execution_count": 50,
     "metadata": {},
     "output_type": "execute_result"
    }
   ],
   "source": [
    "y_sub=y[:2,:2]\n",
    "y_sub"
   ]
  },
  {
   "cell_type": "code",
   "execution_count": 51,
   "id": "cbe9d94d",
   "metadata": {},
   "outputs": [
    {
     "name": "stdout",
     "output_type": "stream",
     "text": [
      "[[99  7]\n",
      " [ 7  7]]\n",
      "[[99  7  4  9  9  3  7  7]\n",
      " [ 7  7  1  6  0  1  3  1]\n",
      " [ 7  1  9  1  1  7  6  6]]\n"
     ]
    }
   ],
   "source": [
    "y_sub[0,0]=99\n",
    "print(y_sub)\n",
    "print(y)"
   ]
  },
  {
   "cell_type": "markdown",
   "id": "3f40da7c",
   "metadata": {},
   "source": [
    "#Despite the nice features of array views, it is somtimes useful to in stead explicitly copy the data within acn array or a subarray. This can be mst easily done with the copy() method:"
   ]
  },
  {
   "cell_type": "code",
   "execution_count": 52,
   "id": "6dfd6627",
   "metadata": {},
   "outputs": [
    {
     "name": "stdout",
     "output_type": "stream",
     "text": [
      "[[44  7]\n",
      " [ 7  7]]\n",
      "[[99  7  4  9  9  3  7  7]\n",
      " [ 7  7  1  6  0  1  3  1]\n",
      " [ 7  1  9  1  1  7  6  6]]\n"
     ]
    }
   ],
   "source": [
    "y_sub_copy=y[:2,:2].copy()\n",
    "y_sub_copy[0,0]=44\n",
    "print(y_sub_copy)\n",
    "print(y)"
   ]
  },
  {
   "cell_type": "markdown",
   "id": "6622b04a",
   "metadata": {},
   "source": [
    "# Reshaping of Arrays"
   ]
  },
  {
   "cell_type": "code",
   "execution_count": 53,
   "id": "324a7d96",
   "metadata": {},
   "outputs": [
    {
     "name": "stdout",
     "output_type": "stream",
     "text": [
      "[1 2 3 4 5 6 7 8 9]\n"
     ]
    },
    {
     "data": {
      "text/plain": [
       "array([[1, 2, 3],\n",
       "       [4, 5, 6],\n",
       "       [7, 8, 9]])"
      ]
     },
     "execution_count": 53,
     "metadata": {},
     "output_type": "execute_result"
    }
   ],
   "source": [
    "a=np.arange(1,10)\n",
    "print(a)\n",
    "b=a.reshape((3,3))\n",
    "b"
   ]
  },
  {
   "cell_type": "code",
   "execution_count": 54,
   "id": "8eed63c0",
   "metadata": {},
   "outputs": [
    {
     "name": "stdout",
     "output_type": "stream",
     "text": [
      "[[1 2 3]]\n",
      "[1 2 3]\n",
      "(3,)\n"
     ]
    }
   ],
   "source": [
    "x=np.array([1,2,3])\n",
    "#row vector via reshape\n",
    "print(x.reshape((1,3)))\n",
    "print(x)\n",
    "print(x.shape)"
   ]
  },
  {
   "cell_type": "code",
   "execution_count": 55,
   "id": "efd39bf8",
   "metadata": {},
   "outputs": [
    {
     "name": "stdout",
     "output_type": "stream",
     "text": [
      "[[1]\n",
      " [2]\n",
      " [3]]\n"
     ]
    },
    {
     "data": {
      "text/plain": [
       "(3,)"
      ]
     },
     "execution_count": 55,
     "metadata": {},
     "output_type": "execute_result"
    }
   ],
   "source": [
    "#column vector via newaxis\n",
    "print(x[:,np.newaxis])\n",
    "x.shape"
   ]
  },
  {
   "cell_type": "markdown",
   "id": "e814b225",
   "metadata": {},
   "source": [
    "# Array concatenation and Splitting"
   ]
  },
  {
   "cell_type": "code",
   "execution_count": 56,
   "id": "d03708a6",
   "metadata": {},
   "outputs": [
    {
     "data": {
      "text/plain": [
       "array([1, 2, 3, 3, 2, 1])"
      ]
     },
     "execution_count": 56,
     "metadata": {},
     "output_type": "execute_result"
    }
   ],
   "source": [
    "x=np.array([1,2,3])\n",
    "y=np.array([3,2,1])\n",
    "np.concatenate((x,y))"
   ]
  },
  {
   "cell_type": "code",
   "execution_count": 57,
   "id": "d328cb0e",
   "metadata": {},
   "outputs": [
    {
     "name": "stdout",
     "output_type": "stream",
     "text": [
      "[[1 2 3]\n",
      " [4 5 6]]\n"
     ]
    },
    {
     "data": {
      "text/plain": [
       "array([[1, 2, 3],\n",
       "       [4, 5, 6],\n",
       "       [1, 2, 3],\n",
       "       [4, 5, 6]])"
      ]
     },
     "execution_count": 57,
     "metadata": {},
     "output_type": "execute_result"
    }
   ],
   "source": [
    "grid=np.array([[1,2,3],[4,5,6]])\n",
    "print(grid)\n",
    "np.concatenate([grid,grid])"
   ]
  },
  {
   "cell_type": "code",
   "execution_count": 58,
   "id": "7e0f1487",
   "metadata": {},
   "outputs": [
    {
     "data": {
      "text/plain": [
       "array([[1, 2, 3],\n",
       "       [9, 8, 7],\n",
       "       [6, 5, 4]])"
      ]
     },
     "execution_count": 58,
     "metadata": {},
     "output_type": "execute_result"
    }
   ],
   "source": [
    "x=np.array([1,2,3])\n",
    "grid=np.array([[9,8,7],[6,5,4]])\n",
    "# vertically stack the arrays\n",
    "np.vstack([x,grid])"
   ]
  },
  {
   "cell_type": "code",
   "execution_count": 59,
   "id": "24fa392c",
   "metadata": {},
   "outputs": [
    {
     "data": {
      "text/plain": [
       "array([[ 1,  2,  3,  9,  8,  7],\n",
       "       [99, 99, 99,  6,  5,  4]])"
      ]
     },
     "execution_count": 59,
     "metadata": {},
     "output_type": "execute_result"
    }
   ],
   "source": [
    "#horizontal stack require same dimensions\n",
    "x=np.array([[1,2,3],[99,99,99]])\n",
    "grid=np.array([[9,8,7],[6,5,4]])\n",
    "#horizontally stack the arrays\n",
    "np.hstack([x,grid])"
   ]
  },
  {
   "cell_type": "code",
   "execution_count": 60,
   "id": "4320b9b0",
   "metadata": {},
   "outputs": [
    {
     "name": "stdout",
     "output_type": "stream",
     "text": [
      "[1 2] [ 3 99 99] [3 2 1]\n"
     ]
    }
   ],
   "source": [
    "#splitting of array\n",
    "x=[1,2,3,99,99,3,2,1]\n",
    "a,b,c=np.split(x,[2,5])\n",
    "print(a,b,c)"
   ]
  },
  {
   "cell_type": "code",
   "execution_count": 61,
   "id": "0c939b8a",
   "metadata": {},
   "outputs": [
    {
     "name": "stdout",
     "output_type": "stream",
     "text": [
      "[[ 0  1  2  3]\n",
      " [ 4  5  6  7]\n",
      " [ 8  9 10 11]\n",
      " [12 13 14 15]]\n"
     ]
    }
   ],
   "source": [
    "grid=np.arange(16).reshape((4,4))\n",
    "print(grid)"
   ]
  },
  {
   "cell_type": "code",
   "execution_count": 62,
   "id": "41f49073",
   "metadata": {},
   "outputs": [
    {
     "name": "stdout",
     "output_type": "stream",
     "text": [
      "upper\n",
      " [[0 1 2 3]\n",
      " [4 5 6 7]]\n",
      "lower\n",
      " [[ 8  9 10 11]\n",
      " [12 13 14 15]]\n",
      "[[ 0  1]\n",
      " [ 4  5]\n",
      " [ 8  9]\n",
      " [12 13]]\n",
      "[[ 2  3]\n",
      " [ 6  7]\n",
      " [10 11]\n",
      " [14 15]]\n"
     ]
    }
   ],
   "source": [
    "upper, lower =np.vsplit(grid,[2])\n",
    "print(\"upper\\n\",upper)\n",
    "print(\"lower\\n\",lower)\n",
    "left, right=np.hsplit(grid,[2])\n",
    "print(left)\n",
    "print(right)"
   ]
  },
  {
   "cell_type": "markdown",
   "id": "ae6afdc9",
   "metadata": {},
   "source": [
    "# Exploring Numpy's universal function"
   ]
  },
  {
   "cell_type": "markdown",
   "id": "dd9fe283",
   "metadata": {},
   "source": [
    "ufuncs exist in two flavors: unary  ufuncs, binary ufuncs"
   ]
  },
  {
   "cell_type": "code",
   "execution_count": 63,
   "id": "70c45483",
   "metadata": {},
   "outputs": [
    {
     "name": "stdout",
     "output_type": "stream",
     "text": [
      "[0 1 2 3]\n",
      "x+5= [5 6 7 8]\n",
      "x//2= [0 0 1 1]\n",
      "[2 3 4 5]\n"
     ]
    }
   ],
   "source": [
    "x=np.arange(4)\n",
    "print(x)\n",
    "print(\"x+5=\",x+5)\n",
    "print(\"x//2=\",x//2) #floor division\n",
    "print(np.add(x,2))\n"
   ]
  },
  {
   "cell_type": "code",
   "execution_count": 64,
   "id": "be8356f2",
   "metadata": {},
   "outputs": [
    {
     "data": {
      "text/plain": [
       "array([2, 6, 5, 2, 6])"
      ]
     },
     "execution_count": 64,
     "metadata": {},
     "output_type": "execute_result"
    }
   ],
   "source": [
    "x=np.array([-2,-6,5,2,-6])\n",
    "np.absolute(x)"
   ]
  },
  {
   "cell_type": "code",
   "execution_count": 65,
   "id": "ee65404e",
   "metadata": {},
   "outputs": [
    {
     "name": "stdout",
     "output_type": "stream",
     "text": [
      "{2: <class 'numpy.ndarray'>, 3: array([1.  , 2.  , 3.  , 5.68], dtype=float32), 4: array([[ 1,  2, 30],\n",
      "       [ 2,  4,  8],\n",
      "       [ 8,  8,  5]]), 5: array([[[ 1,  2,  3],\n",
      "        [ 4, 56,  8]],\n",
      "\n",
      "       [[ 5,  7,  8],\n",
      "        [ 5,  6,  2]]]), 8: [0, 2, 4, 6, 8], 9: array([0. , 0.2, 0.4, 0.6, 0.8]), 11: array([0.87646247, 0.27089597, 0.71978902, 0.84624728, 0.25647964,\n",
      "       0.71418154, 0.11397043, 0.92057649, 0.05796975, 0.77083359,\n",
      "       0.26103995, 0.20594062, 0.661469  , 0.80300346, 0.84668315]), 12: array([[0.03668751, 0.09313623],\n",
      "       [0.81146588, 0.37867155],\n",
      "       [0.10671932, 0.60816911],\n",
      "       [0.72722876, 0.9267876 ],\n",
      "       [0.72721869, 0.75171338],\n",
      "       [0.46974175, 0.3940897 ],\n",
      "       [0.36235761, 0.79241733],\n",
      "       [0.80052543, 0.21760624],\n",
      "       [0.83792053, 0.23382946],\n",
      "       [0.94226856, 0.03845822]]), 13: array([[[0.45893186, 0.11244982, 0.65870156]],\n",
      "\n",
      "       [[0.51507481, 0.42431696, 0.41154621]],\n",
      "\n",
      "       [[0.02272035, 0.56155049, 0.19947588]],\n",
      "\n",
      "       [[0.04864472, 0.89259222, 0.41941247]],\n",
      "\n",
      "       [[0.68873935, 0.89897902, 0.09288565]],\n",
      "\n",
      "       [[0.60680385, 0.49236743, 0.65917865]],\n",
      "\n",
      "       [[0.94981076, 0.63400443, 0.10779931]],\n",
      "\n",
      "       [[0.92151999, 0.57383853, 0.06733603]],\n",
      "\n",
      "       [[0.81301077, 0.41218091, 0.24953499]],\n",
      "\n",
      "       [[0.09081557, 0.28221431, 0.00296658]]]), 14: array([ 0.07590674, -0.18647442,  1.21714142, -0.65452127, -0.64602577,\n",
      "       -0.94919983,  0.86734271, -0.89597269,  0.59935084, -1.65606758]), 15: array([[-0.49907527,  0.2924325 ],\n",
      "       [-0.30815053,  2.00318706],\n",
      "       [ 0.44423305, -0.46844024],\n",
      "       [ 0.50953831, -0.66791424],\n",
      "       [ 1.79793002,  0.30909728],\n",
      "       [-0.06405408,  2.21491758],\n",
      "       [ 2.75489012,  0.09652311],\n",
      "       [ 0.15852417, -1.55637956],\n",
      "       [ 0.84675711, -0.00458782],\n",
      "       [ 1.10430601,  1.89477594]]), 16: array([[[ 0.83957265, -0.81238032, -0.62220076],\n",
      "        [ 0.23599817, -0.71409954,  0.40477169]],\n",
      "\n",
      "       [[ 0.07057095,  0.67805979, -1.79730285],\n",
      "        [-0.76637693, -0.98391878, -2.0675325 ]],\n",
      "\n",
      "       [[-0.25302283, -0.07386965, -0.03473721],\n",
      "        [ 0.80726425,  1.00983879,  0.91034882]],\n",
      "\n",
      "       [[ 0.35308863, -0.34150292,  2.28416956],\n",
      "        [ 0.40998235,  0.10876271,  0.41921341]],\n",
      "\n",
      "       [[-1.02189141, -0.91380838, -1.90815638],\n",
      "        [ 1.65370498,  0.9298779 , -0.670466  ]],\n",
      "\n",
      "       [[-0.20903821,  1.24680888, -1.38395994],\n",
      "        [ 2.24446642,  0.19081238, -0.37270272]],\n",
      "\n",
      "       [[ 0.03983866,  0.55521147, -0.21565187],\n",
      "        [ 1.65272948,  0.50861158, -0.59889821]],\n",
      "\n",
      "       [[-0.12449822, -0.20680464, -0.51077222],\n",
      "        [ 0.50236139,  2.68731034,  0.02685854]],\n",
      "\n",
      "       [[-0.9290858 ,  0.39915413,  0.60664545],\n",
      "        [-1.76057623, -1.03976941,  0.54145253]],\n",
      "\n",
      "       [[-1.12827088,  0.37048594,  1.56279178],\n",
      "        [ 0.87317022,  1.38812674,  0.26750297]]]), 17: 1, 18: array([[14, 14, 10, 13],\n",
      "       [13, 12, 11, 14],\n",
      "       [10, 12, 12, 14]]), 19: array([0.72983108, 0.53413051, 0.69228897, 0.34847952, 0.6079851 ,\n",
      "       0.36896841, 0.81778384, 0.78852775, 0.24180951, 0.60835175]), 20: array([[[0.93710273, 0.59852346, 0.36445299, 0.10648904, 0.2772503 ],\n",
      "        [0.09400826, 0.19031891, 0.71269914, 0.69282228, 0.04274307]],\n",
      "\n",
      "       [[0.12853116, 0.63673005, 0.6941013 , 0.0124509 , 0.01694781],\n",
      "        [0.97797916, 0.72792811, 0.8904258 , 0.40077873, 0.96637324]],\n",
      "\n",
      "       [[0.84753516, 0.51985405, 0.39360067, 0.23124027, 0.78346438],\n",
      "        [0.17308816, 0.84173189, 0.68960887, 0.08547492, 0.61586544]]]), 21: array(['JK', 'JIN'], dtype='<U4'), 22: array([[['RM', 'RM'],\n",
      "        ['JIN', 'JIN'],\n",
      "        ['SUGA', 'SUGA'],\n",
      "        ['RM', 'RM'],\n",
      "        ['JIN', 'RM'],\n",
      "        ['SUGA', 'JK'],\n",
      "        ['SUGA', 'RM'],\n",
      "        ['JK', 'SUGA'],\n",
      "        ['SUGA', 'JK'],\n",
      "        ['SUGA', 'RM']],\n",
      "\n",
      "       [['JIN', 'JIN'],\n",
      "        ['JIN', 'RM'],\n",
      "        ['JIN', 'JIN'],\n",
      "        ['RM', 'RM'],\n",
      "        ['JK', 'JIN'],\n",
      "        ['RM', 'JIN'],\n",
      "        ['JIN', 'JK'],\n",
      "        ['JK', 'JK'],\n",
      "        ['JK', 'JIN'],\n",
      "        ['JIN', 'JIN']],\n",
      "\n",
      "       [['SUGA', 'JIN'],\n",
      "        ['RM', 'RM'],\n",
      "        ['JIN', 'JIN'],\n",
      "        ['JIN', 'JIN'],\n",
      "        ['JK', 'RM'],\n",
      "        ['SUGA', 'JK'],\n",
      "        ['JK', 'RM'],\n",
      "        ['JIN', 'SUGA'],\n",
      "        ['JIN', 'JIN'],\n",
      "        ['JK', 'JIN']]], dtype='<U4'), 23: array([['RM', 'RM', 'JK'],\n",
      "       ['JIN', 'JIN', 'RM']], dtype='<U4'), 24: array(['RM', 'JHOPE', 'JIN', 'JK', 'V', 'JIMIN', 'SUGA'], dtype='<U5'), 25: array(['SUGA', 'RM', 'JK', 'JIMIN', 'JHOPE', 'V', 'JIN'], dtype='<U5'), 27: array([[1, 2],\n",
      "       [1, 2],\n",
      "       [2, 3]]), 28: array([[[[ 2.46478664,  4.82463901,  9.07632139,  4.25722469],\n",
      "         [ 0.61270529,  5.18297586,  9.69037327,  0.71096278],\n",
      "         [ 2.84586768,  0.53210277, 10.58118901,  3.88768435],\n",
      "         [ 0.8492207 ,  1.03586913,  3.52095461,  4.10520938],\n",
      "         [ 1.82674694,  1.50742601,  3.33445575,  2.12578772]],\n",
      "\n",
      "        [[ 2.0210092 ,  2.79308014,  6.51615679,  1.18943129],\n",
      "         [ 0.88032523,  5.08112372,  0.46931792,  0.51158567],\n",
      "         [ 2.96062261,  0.32701516,  1.83208356,  6.67615487],\n",
      "         [ 0.38538119,  7.81953402,  1.60355307,  2.66467806],\n",
      "         [ 0.0903529 ,  1.98221641,  0.39785685,  1.73486569]]],\n",
      "\n",
      "\n",
      "       [[[ 0.5472386 ,  2.72511072,  1.40909384,  6.60881687],\n",
      "         [ 1.5712612 ,  1.26435628,  2.06598287,  1.65393082],\n",
      "         [ 1.07666458,  3.9003164 ,  2.53541592,  2.49678529],\n",
      "         [ 2.04613897,  1.54058456,  5.66297344,  2.48304631],\n",
      "         [11.23504735,  6.55223032,  4.02313549,  3.00372665]],\n",
      "\n",
      "        [[ 0.87441488,  0.96719584,  4.47976304,  6.99058484],\n",
      "         [ 4.59487311,  1.83551764,  5.52099335,  1.67955453],\n",
      "         [ 2.87884035,  1.31182519,  5.39949091,  3.93951451],\n",
      "         [ 2.70097958,  3.22883782,  2.67525032,  1.7158788 ],\n",
      "         [ 2.21707652,  2.53186078,  3.88254434,  4.16278576]]],\n",
      "\n",
      "\n",
      "       [[[ 1.37119307,  0.35628972,  0.53522002,  1.50448496],\n",
      "         [ 0.84048333,  6.98220432,  8.03549664,  2.59487163],\n",
      "         [ 7.05511531,  2.57321292,  3.28173267,  1.92404084],\n",
      "         [ 5.10253509,  0.83485445,  0.06209869,  4.10603238],\n",
      "         [ 1.25497769,  5.66834371,  2.80765476,  3.19217116]],\n",
      "\n",
      "        [[ 3.44275127,  0.74975538, 11.05655964,  3.13566262],\n",
      "         [ 9.86683802,  1.35351324,  8.77901131,  1.56271819],\n",
      "         [ 0.40264862,  0.77239063,  4.98683398,  1.40708414],\n",
      "         [ 4.17147847,  2.37518965,  3.14899734,  0.95435583],\n",
      "         [ 6.04001162,  7.20625467,  3.62609964,  1.03834204]]],\n",
      "\n",
      "\n",
      "       [[[ 1.28595669,  1.44355141,  0.76391632,  6.89066773],\n",
      "         [ 0.57405829,  0.83985792,  1.06741764,  8.38395511],\n",
      "         [ 1.57881608,  1.5230984 ,  0.61020001,  1.3510128 ],\n",
      "         [ 7.8700773 ,  1.00013199,  4.81843918,  0.53454616],\n",
      "         [ 2.99057879,  0.84899687,  0.44738283,  1.8537013 ]],\n",
      "\n",
      "        [[ 3.68189925,  3.26389894,  3.71699887,  5.66013681],\n",
      "         [ 2.07303104,  1.79900198,  3.53835382,  4.47295479],\n",
      "         [ 1.49529471,  3.12611717,  2.20720979,  0.46133184],\n",
      "         [ 0.40192057,  7.98034362,  1.47294276,  0.57024303],\n",
      "         [ 1.40535936,  0.43638003,  3.09671876,  2.62137062]]]]), 29: array([3.77028703, 0.18591567, 0.71931084, 7.31103372, 0.30547994]), 32: array(['RM', 'JHOPE', 'JIN', 'JK', 'V', 'JIMIN', 'SUGA'], dtype='<U5'), 33: array(['V', 'JK', 'JIMIN'], dtype='<U5'), 34: array([[1., 0., 0., 0.],\n",
      "       [0., 1., 0., 0.],\n",
      "       [0., 0., 1., 0.],\n",
      "       [0., 0., 0., 1.]]), 39: 2, 42: array([0, 1, 2, 3, 4, 5, 6, 7, 8, 9]), 47: array([[1, 1, 6, 7, 6, 3, 1, 0, 4, 2],\n",
      "       [4, 3, 2, 4, 0, 8, 8, 3, 4, 3]]), 49: array([[99,  7,  4,  9,  9,  3,  7,  7],\n",
      "       [ 7,  7,  1,  6,  0,  1,  3,  1],\n",
      "       [ 7,  1,  9,  1,  1,  7,  6,  6]]), 50: array([[99,  7],\n",
      "       [ 7,  7]]), 53: array([[1, 2, 3],\n",
      "       [4, 5, 6],\n",
      "       [7, 8, 9]]), 55: (3,), 56: array([1, 2, 3, 3, 2, 1]), 57: array([[1, 2, 3],\n",
      "       [4, 5, 6],\n",
      "       [1, 2, 3],\n",
      "       [4, 5, 6]]), 58: array([[1, 2, 3],\n",
      "       [9, 8, 7],\n",
      "       [6, 5, 4]]), 59: array([[ 1,  2,  3,  9,  8,  7],\n",
      "       [99, 99, 99,  6,  5,  4]]), 64: array([2, 6, 5, 2, 6])}\n"
     ]
    }
   ],
   "source": [
    "print(Out)"
   ]
  },
  {
   "cell_type": "code",
   "execution_count": 66,
   "id": "b95d7c3e",
   "metadata": {},
   "outputs": [
    {
     "name": "stdout",
     "output_type": "stream",
     "text": [
      "x= [1, 2, 3]\n",
      "e^x= [ 2.71828183  7.3890561  20.08553692]\n",
      "2^x= [2. 4. 8.]\n",
      "3^x= [ 3  9 27]\n",
      "3^x= [ 1  8 27]\n",
      "ln(x)= [0.         0.69314718 1.09861229]\n",
      "log2(x)= [0.        1.        1.5849625]\n",
      "log10(x)= [0.         0.30103    0.47712125]\n"
     ]
    }
   ],
   "source": [
    "#Exponents and logaritms\n",
    "x=[1,2,3]\n",
    "print(\"x=\",x)\n",
    "print(\"e^x=\",np.exp(x))\n",
    "print(\"2^x=\",np.exp2(x))\n",
    "print(\"3^x=\",np.power(3,x))\n",
    "print(\"3^x=\",np.power(x,3))\n",
    "print(\"ln(x)=\",np.log(x))\n",
    "print(\"log2(x)=\",np.log2(x))\n",
    "print(\"log10(x)=\",np.log10(x))"
   ]
  },
  {
   "cell_type": "code",
   "execution_count": 67,
   "id": "fa9706f9",
   "metadata": {},
   "outputs": [
    {
     "name": "stdout",
     "output_type": "stream",
     "text": [
      "[1 2 3 4 5]\n",
      "15\n",
      "15\n",
      "120\n",
      "[ 1  3  6 10 15]\n",
      "[  1   2   6  24 120]\n"
     ]
    }
   ],
   "source": [
    "x=np.arange(1,6)\n",
    "print(x)\n",
    "print(np.add.reduce(x)) #addition of every value\n",
    "print(np.sum(x))\n",
    "print(np.multiply.reduce(x))\n",
    "print(np.cumsum(x)) #for cummulative sum\n",
    "print(np.cumprod(x)) # for cummulative product"
   ]
  },
  {
   "cell_type": "code",
   "execution_count": 68,
   "id": "8e9ab43a",
   "metadata": {},
   "outputs": [
    {
     "name": "stdout",
     "output_type": "stream",
     "text": [
      "[1 2 3 4 5]\n",
      "[[ 1  2  3  4  5]\n",
      " [ 2  4  6  8 10]\n",
      " [ 3  6  9 12 15]\n",
      " [ 4  8 12 16 20]\n",
      " [ 5 10 15 20 25]]\n",
      "[[ 2  3  4  5  6]\n",
      " [ 3  4  5  6  7]\n",
      " [ 4  5  6  7  8]\n",
      " [ 5  6  7  8  9]\n",
      " [ 6  7  8  9 10]]\n"
     ]
    }
   ],
   "source": [
    "#outer products\n",
    "x=np.arange(1,6)\n",
    "print(x)\n",
    "print(np.multiply.outer(x,x))\n",
    "print(np.add.outer(x,x))"
   ]
  },
  {
   "cell_type": "code",
   "execution_count": 69,
   "id": "a46a2c58",
   "metadata": {},
   "outputs": [],
   "source": [
    "#computation on Arrays: Broadcasting"
   ]
  },
  {
   "cell_type": "code",
   "execution_count": 70,
   "id": "b5d41245",
   "metadata": {},
   "outputs": [
    {
     "name": "stdout",
     "output_type": "stream",
     "text": [
      "[ 8 10 12]\n",
      "[ 6 10 14]\n"
     ]
    },
    {
     "data": {
      "text/plain": [
       "array([7, 7, 7])"
      ]
     },
     "execution_count": 70,
     "metadata": {},
     "output_type": "execute_result"
    }
   ],
   "source": [
    "a=np.array([1,5,9])\n",
    "b=np.array([7,5,3])\n",
    "print(a+b)\n",
    "print(a+5)\n",
    "c=np.array([5,5,5])\n",
    "c+2"
   ]
  },
  {
   "cell_type": "code",
   "execution_count": 71,
   "id": "ac5a0856",
   "metadata": {},
   "outputs": [
    {
     "name": "stdout",
     "output_type": "stream",
     "text": [
      "[[1. 1. 1.]\n",
      " [1. 1. 1.]\n",
      " [1. 1. 1.]]\n",
      "\n",
      " ans\n",
      " [[ 2.  6. 10.]\n",
      " [ 2.  6. 10.]\n",
      " [ 2.  6. 10.]]\n"
     ]
    }
   ],
   "source": [
    "m=np.ones((3,3))\n",
    "print(m)\n",
    "print(\"\\n ans\\n\",m+a)"
   ]
  },
  {
   "cell_type": "code",
   "execution_count": 72,
   "id": "bd236fcc",
   "metadata": {},
   "outputs": [
    {
     "name": "stdout",
     "output_type": "stream",
     "text": [
      "[0 1 2]\n",
      "[[0]\n",
      " [1]\n",
      " [2]]\n"
     ]
    }
   ],
   "source": [
    "a=np.arange(3)\n",
    "b=np.arange(3)[:,np.newaxis]\n",
    "print(a)\n",
    "print(b)"
   ]
  },
  {
   "cell_type": "code",
   "execution_count": 73,
   "id": "347950f5",
   "metadata": {},
   "outputs": [
    {
     "data": {
      "text/plain": [
       "array([[0, 1, 2],\n",
       "       [1, 2, 3],\n",
       "       [2, 3, 4]])"
      ]
     },
     "execution_count": 73,
     "metadata": {},
     "output_type": "execute_result"
    }
   ],
   "source": [
    "a+b"
   ]
  },
  {
   "cell_type": "markdown",
   "id": "4f671cee",
   "metadata": {},
   "source": [
    "# Comparison, masks, and boolean logic"
   ]
  },
  {
   "cell_type": "code",
   "execution_count": 74,
   "id": "3b63844f",
   "metadata": {},
   "outputs": [
    {
     "name": "stdout",
     "output_type": "stream",
     "text": [
      "[ True False False False False False False False  True]\n",
      "[False False False False False False False False False]\n",
      "[ 2 10 18 14 16  8 10 16  6]\n",
      "[ 1 25 81 49 64 16 25 64  9]\n",
      "[False False False False False False False False False]\n"
     ]
    }
   ],
   "source": [
    "x=np.array([1,5,9,7,8,4,5,8,3])\n",
    "print(x<=3)\n",
    "print((2*3)==(x**2))\n",
    "print(2*x)\n",
    "print(x**2)\n",
    "print((x**2)==4)"
   ]
  },
  {
   "cell_type": "code",
   "execution_count": 75,
   "id": "13dacc3c",
   "metadata": {},
   "outputs": [
    {
     "name": "stdout",
     "output_type": "stream",
     "text": [
      "7\n",
      "7\n"
     ]
    }
   ],
   "source": [
    "#how many less than 6?\n",
    "x=np.array([1,5,6,4,8,1,2,3,8,4,7,6])\n",
    "print(np.count_nonzero(x<6))\n",
    "print(np.sum(x<6))"
   ]
  },
  {
   "cell_type": "code",
   "execution_count": 76,
   "id": "1f230246",
   "metadata": {},
   "outputs": [
    {
     "data": {
      "text/plain": [
       "False"
      ]
     },
     "execution_count": 76,
     "metadata": {},
     "output_type": "execute_result"
    }
   ],
   "source": [
    "#are there any values greater than 8?\n",
    "np.any(x>8)"
   ]
  },
  {
   "cell_type": "code",
   "execution_count": 77,
   "id": "c82553b9",
   "metadata": {},
   "outputs": [
    {
     "data": {
      "text/plain": [
       "True"
      ]
     },
     "execution_count": 77,
     "metadata": {},
     "output_type": "execute_result"
    }
   ],
   "source": [
    "np.all(x<=8)"
   ]
  },
  {
   "cell_type": "code",
   "execution_count": 78,
   "id": "a2463181",
   "metadata": {},
   "outputs": [
    {
     "data": {
      "text/plain": [
       "4"
      ]
     },
     "execution_count": 78,
     "metadata": {},
     "output_type": "execute_result"
    }
   ],
   "source": [
    "x=np.array([1,2,3,4,5,8,9,7,3])\n",
    "np.sum((x>2) & (x<6))"
   ]
  },
  {
   "cell_type": "code",
   "execution_count": 79,
   "id": "961485ff",
   "metadata": {},
   "outputs": [
    {
     "data": {
      "text/plain": [
       "array([1, 2, 3, 4, 3])"
      ]
     },
     "execution_count": 79,
     "metadata": {},
     "output_type": "execute_result"
    }
   ],
   "source": [
    "x[x<5]"
   ]
  },
  {
   "cell_type": "markdown",
   "id": "1d6b8918",
   "metadata": {},
   "source": [
    "# fancy indexing"
   ]
  },
  {
   "cell_type": "code",
   "execution_count": 80,
   "id": "ede1efc7",
   "metadata": {},
   "outputs": [
    {
     "name": "stdout",
     "output_type": "stream",
     "text": [
      "[23 45 98 64 51 59 49 18 17 57]\n"
     ]
    },
    {
     "data": {
      "text/plain": [
       "[59, 17, 98, 64]"
      ]
     },
     "execution_count": 80,
     "metadata": {},
     "output_type": "execute_result"
    }
   ],
   "source": [
    "x=np.random.randint(100,size=10)\n",
    "print(x)\n",
    "[x[5],x[8],x[2],x[3]]"
   ]
  },
  {
   "cell_type": "code",
   "execution_count": 81,
   "id": "ce6da3df",
   "metadata": {},
   "outputs": [
    {
     "data": {
      "text/plain": [
       "array([98, 59, 17])"
      ]
     },
     "execution_count": 81,
     "metadata": {},
     "output_type": "execute_result"
    }
   ],
   "source": [
    "ind=[2,5,8]\n",
    "x[ind]"
   ]
  },
  {
   "cell_type": "code",
   "execution_count": 82,
   "id": "3659a9a1",
   "metadata": {},
   "outputs": [
    {
     "name": "stdout",
     "output_type": "stream",
     "text": [
      "[[ 0  1  2  3]\n",
      " [ 4  5  6  7]\n",
      " [ 8  9 10 11]]\n"
     ]
    },
    {
     "data": {
      "text/plain": [
       "array([9, 4, 3])"
      ]
     },
     "execution_count": 82,
     "metadata": {},
     "output_type": "execute_result"
    }
   ],
   "source": [
    "x=np.arange(12).reshape((3,4))\n",
    "print(x)\n",
    "row=np.array([2,1,0])\n",
    "col=np.array([1,0,3])\n",
    "x[row,col]"
   ]
  },
  {
   "cell_type": "code",
   "execution_count": 83,
   "id": "00fb94ac",
   "metadata": {},
   "outputs": [
    {
     "name": "stdout",
     "output_type": "stream",
     "text": [
      "[0 1 2 3 4 5 6 7 8 9]\n",
      "[  0   1 999   3 999   5   6 999 999   9]\n",
      "[  0   1 989   3 989   5   6 989 989   9]\n"
     ]
    }
   ],
   "source": [
    "x=np.arange(10)\n",
    "print(x)\n",
    "i=np.array([2,8,7,4])\n",
    "x[i]=999\n",
    "print(x)\n",
    "x[i]-=10\n",
    "print(x)"
   ]
  },
  {
   "cell_type": "markdown",
   "id": "fd058385",
   "metadata": {},
   "source": [
    "# sorting arrays"
   ]
  },
  {
   "cell_type": "code",
   "execution_count": 84,
   "id": "8c07c64f",
   "metadata": {},
   "outputs": [
    {
     "name": "stdout",
     "output_type": "stream",
     "text": [
      "[2 5 7 1 4 6]\n",
      "[1 2 4 5 6 7]\n",
      "[7 6 5 4 2 1]\n"
     ]
    }
   ],
   "source": [
    "x=np.array([2,5,7,1,4,6])\n",
    "print(x)\n",
    "print(np.sort(x)) #ascending\n",
    "print(np.sort(x)[::-1]) #descending"
   ]
  },
  {
   "cell_type": "code",
   "execution_count": 85,
   "id": "41166d9a",
   "metadata": {},
   "outputs": [
    {
     "name": "stdout",
     "output_type": "stream",
     "text": [
      "[25 30 20]\n",
      "[2 0 1]\n"
     ]
    }
   ],
   "source": [
    "x=np.array([25,30,20])\n",
    "print(x)\n",
    "print(np.argsort(x))"
   ]
  },
  {
   "cell_type": "code",
   "execution_count": 86,
   "id": "900a0539",
   "metadata": {},
   "outputs": [
    {
     "name": "stdout",
     "output_type": "stream",
     "text": [
      "[[6 9 6 7]\n",
      " [5 2 3 5]\n",
      " [0 2 1 0]\n",
      " [2 4 5 6]\n",
      " [4 1 9 3]\n",
      " [7 5 2 4]]\n"
     ]
    }
   ],
   "source": [
    "x=np.random.randint(0,10,(6,4))\n",
    "print(x)"
   ]
  },
  {
   "cell_type": "code",
   "execution_count": 87,
   "id": "c272b54a",
   "metadata": {},
   "outputs": [
    {
     "data": {
      "text/plain": [
       "array([[6, 6, 7, 9],\n",
       "       [2, 3, 5, 5],\n",
       "       [0, 0, 1, 2],\n",
       "       [2, 4, 5, 6],\n",
       "       [1, 3, 4, 9],\n",
       "       [2, 4, 5, 7]])"
      ]
     },
     "execution_count": 87,
     "metadata": {},
     "output_type": "execute_result"
    }
   ],
   "source": [
    "np.sort(x)"
   ]
  },
  {
   "cell_type": "code",
   "execution_count": 88,
   "id": "fcbe6db9",
   "metadata": {},
   "outputs": [
    {
     "data": {
      "text/plain": [
       "array([[0, 1, 1, 0],\n",
       "       [2, 2, 2, 3],\n",
       "       [4, 2, 3, 4],\n",
       "       [5, 4, 5, 5],\n",
       "       [6, 5, 6, 6],\n",
       "       [7, 9, 9, 7]])"
      ]
     },
     "execution_count": 88,
     "metadata": {},
     "output_type": "execute_result"
    }
   ],
   "source": [
    "np.sort(x,axis=0) #sort each column of x\n"
   ]
  },
  {
   "cell_type": "code",
   "execution_count": 89,
   "id": "2c1000ea",
   "metadata": {},
   "outputs": [
    {
     "data": {
      "text/plain": [
       "array([[6, 6, 7, 9],\n",
       "       [2, 3, 5, 5],\n",
       "       [0, 0, 1, 2],\n",
       "       [2, 4, 5, 6],\n",
       "       [1, 3, 4, 9],\n",
       "       [2, 4, 5, 7]])"
      ]
     },
     "execution_count": 89,
     "metadata": {},
     "output_type": "execute_result"
    }
   ],
   "source": [
    "np.sort(x,axis=1) #sort each row of x"
   ]
  },
  {
   "cell_type": "code",
   "execution_count": 90,
   "id": "c452156a",
   "metadata": {},
   "outputs": [
    {
     "data": {
      "text/plain": [
       "array([9, 2, 2, 4, 1, 5])"
      ]
     },
     "execution_count": 90,
     "metadata": {},
     "output_type": "execute_result"
    }
   ],
   "source": [
    "x[:,1]"
   ]
  },
  {
   "cell_type": "code",
   "execution_count": 91,
   "id": "8b4882b1",
   "metadata": {},
   "outputs": [
    {
     "name": "stdout",
     "output_type": "stream",
     "text": [
      "[[6 9 6 7]\n",
      " [5 2 3 5]\n",
      " [0 2 1 0]\n",
      " [2 4 5 6]\n",
      " [4 1 9 3]\n",
      " [7 5 2 4]]\n"
     ]
    },
    {
     "data": {
      "text/plain": [
       "array([4, 1, 2, 3, 5, 0], dtype=int64)"
      ]
     },
     "execution_count": 91,
     "metadata": {},
     "output_type": "execute_result"
    }
   ],
   "source": [
    "print(x)\n",
    "x[:,1].argsort()"
   ]
  },
  {
   "cell_type": "code",
   "execution_count": 92,
   "id": "d61957e3",
   "metadata": {},
   "outputs": [
    {
     "data": {
      "text/plain": [
       "array([[4, 1, 9, 3],\n",
       "       [5, 2, 3, 5],\n",
       "       [0, 2, 1, 0],\n",
       "       [2, 4, 5, 6],\n",
       "       [7, 5, 2, 4],\n",
       "       [6, 9, 6, 7]])"
      ]
     },
     "execution_count": 92,
     "metadata": {},
     "output_type": "execute_result"
    }
   ],
   "source": [
    "x[x[:,1].argsort()]"
   ]
  },
  {
   "cell_type": "code",
   "execution_count": 93,
   "id": "5f052ef0",
   "metadata": {},
   "outputs": [
    {
     "data": {
      "text/plain": [
       "array([[6, 7, 6, 9],\n",
       "       [5, 5, 3, 2],\n",
       "       [0, 0, 1, 2],\n",
       "       [2, 6, 5, 4],\n",
       "       [4, 3, 9, 1],\n",
       "       [7, 4, 2, 5]])"
      ]
     },
     "execution_count": 93,
     "metadata": {},
     "output_type": "execute_result"
    }
   ],
   "source": [
    "x[:,x[2,:].argsort()]"
   ]
  },
  {
   "cell_type": "markdown",
   "id": "9056ee22",
   "metadata": {},
   "source": [
    "# Structured Data:Numpy's Structured Arrays"
   ]
  },
  {
   "cell_type": "markdown",
   "id": "210f4d23",
   "metadata": {},
   "source": [
    "while often our data can well represented by homogenous array of values, sometimes this is not the case. This section demonstrates the use of the Numpy's structured arrays and record arrays, which provide efficient storage for compound, heterogeneous data. for example impage that we have several categories of data on a number of pepole (says, name, age,weight) and we'd like to store these values for use in a python pprogram. It would be possible to store these in three sepaeate arrays:"
   ]
  },
  {
   "cell_type": "code",
   "execution_count": 94,
   "id": "b2aa848d",
   "metadata": {},
   "outputs": [],
   "source": [
    "name=[\"JK\",\"JIMIN\",\"V\",\"JIN\",\"SUGA\",\"JHOPE\",\"RM\"]\n",
    "age=[25,27,27,30,29,28,28]\n",
    "weight=[70,62,68,65,64,65,70]"
   ]
  },
  {
   "cell_type": "code",
   "execution_count": 95,
   "id": "bf44ccee",
   "metadata": {},
   "outputs": [
    {
     "data": {
      "text/plain": [
       "array([('', 0, 0.), ('', 0, 0.), ('', 0, 0.), ('', 0, 0.), ('', 0, 0.),\n",
       "       ('', 0, 0.), ('', 0, 0.)],\n",
       "      dtype=[('name', '<U10'), ('age', '<i4'), ('weight', '<f8')])"
      ]
     },
     "execution_count": 95,
     "metadata": {},
     "output_type": "execute_result"
    }
   ],
   "source": [
    "#use a compound data type for structured arrays\n",
    "data=np.zeros(7,dtype={'names':(\"name\",\"age\",\"weight\"),\n",
    "                       \"formats\":(\"U10\",\"i4\",\"f8\")})\n",
    "data"
   ]
  },
  {
   "cell_type": "code",
   "execution_count": 96,
   "id": "1ce5c94b",
   "metadata": {},
   "outputs": [
    {
     "name": "stdout",
     "output_type": "stream",
     "text": [
      "[('JK', 25, 70.) ('JIMIN', 27, 62.) ('V', 27, 68.) ('JIN', 30, 65.)\n",
      " ('SUGA', 29, 64.) ('JHOPE', 28, 65.) ('RM', 28, 70.)]\n"
     ]
    }
   ],
   "source": [
    "data['name']=name\n",
    "data['age']=age\n",
    "data['weight']=weight\n",
    "print(data)"
   ]
  },
  {
   "cell_type": "code",
   "execution_count": 97,
   "id": "a2dbfb34",
   "metadata": {},
   "outputs": [
    {
     "name": "stdout",
     "output_type": "stream",
     "text": [
      "['JK' 'JIMIN' 'V' 'JIN' 'SUGA' 'JHOPE' 'RM']\n",
      "('JK', 25, 70.)\n",
      "[('JK', 25, 70.) ('JIMIN', 27, 62.) ('V', 27, 68.)]\n",
      "['JK' 'JIMIN' 'V']\n"
     ]
    }
   ],
   "source": [
    "#Get all names\n",
    "print(data['name'])\n",
    "print(data[0])\n",
    "#Get names where age is under 28\n",
    "print(data[data['age']<28])\n",
    "print(data[data['age']<28]['name'])"
   ]
  },
  {
   "cell_type": "code",
   "execution_count": 98,
   "id": "81d1e8fe",
   "metadata": {},
   "outputs": [
    {
     "data": {
      "text/plain": [
       "array([('JIN', 30, 65.), ('SUGA', 29, 64.), ('RM', 28, 70.),\n",
       "       ('JHOPE', 28, 65.), ('V', 27, 68.), ('JIMIN', 27, 62.),\n",
       "       ('JK', 25, 70.)],\n",
       "      dtype=[('name', '<U10'), ('age', '<i4'), ('weight', '<f8')])"
      ]
     },
     "execution_count": 98,
     "metadata": {},
     "output_type": "execute_result"
    }
   ],
   "source": [
    "np.sort(data,order=['age'])[::-1]"
   ]
  },
  {
   "cell_type": "code",
   "execution_count": 99,
   "id": "f1319db7",
   "metadata": {},
   "outputs": [
    {
     "data": {
      "text/plain": [
       "array([0., 1., 1., 1., 1., 0., 1., 0., 0., 1.])"
      ]
     },
     "execution_count": 99,
     "metadata": {},
     "output_type": "execute_result"
    }
   ],
   "source": [
    "# n random observation from B(p)\n",
    "n=10\n",
    "p=0.3\n",
    "x=np.empty(n)\n",
    "for  i in range(n):\n",
    "    u=np.random.random()\n",
    "    if u<p:\n",
    "        x[i]=1\n",
    "    else:\n",
    "        x[i]=0\n",
    "x"
   ]
  },
  {
   "cell_type": "code",
   "execution_count": 100,
   "id": "16e460d9",
   "metadata": {},
   "outputs": [
    {
     "data": {
      "text/plain": [
       "array([6., 5., 8., 6., 5., 3., 3., 5., 7., 3., 5., 6., 6., 4., 6., 5., 6.,\n",
       "       7., 5., 3.])"
      ]
     },
     "execution_count": 100,
     "metadata": {},
     "output_type": "execute_result"
    }
   ],
   "source": [
    "# m random obsevation from B(n,p)\n",
    "m=20\n",
    "n=10\n",
    "p=0.5\n",
    "x=np.zeros(m)\n",
    "for j in range(m):\n",
    "    for i in range(n):\n",
    "        u=np.random.random()\n",
    "        if u<p:\n",
    "            x[j]=x[j]+1\n",
    "x"
   ]
  },
  {
   "cell_type": "code",
   "execution_count": 101,
   "id": "755edbb2",
   "metadata": {},
   "outputs": [
    {
     "data": {
      "text/plain": [
       "0"
      ]
     },
     "execution_count": 101,
     "metadata": {},
     "output_type": "execute_result"
    }
   ],
   "source": [
    "#single observation from p(lm)\n",
    "\n",
    "x=-1\n",
    "lm=0.5\n",
    "p=1\n",
    "a=np.exp(-lm)\n",
    "while p>a:\n",
    "    u=np.random.random()\n",
    "    p*=u\n",
    "    x+=1\n",
    "x"
   ]
  }
 ],
 "metadata": {
  "kernelspec": {
   "display_name": "Python 3 (ipykernel)",
   "language": "python",
   "name": "python3"
  },
  "language_info": {
   "codemirror_mode": {
    "name": "ipython",
    "version": 3
   },
   "file_extension": ".py",
   "mimetype": "text/x-python",
   "name": "python",
   "nbconvert_exporter": "python",
   "pygments_lexer": "ipython3",
   "version": "3.9.7"
  }
 },
 "nbformat": 4,
 "nbformat_minor": 5
}
